{
 "cells": [
  {
   "cell_type": "markdown",
   "metadata": {
    "colab_type": "text",
    "id": "E6cPApvjARyD"
   },
   "source": [
    "# First things first\n",
    "Click **File -> Save a copy in Drive** and click **Open in new tab** in the pop-up window to save your progress in Google Drive."
   ]
  },
  {
   "cell_type": "markdown",
   "metadata": {
    "colab_type": "text",
    "id": "pIyFkgqCARyG"
   },
   "source": [
    "# Gaussian processes and Bayesian optimization"
   ]
  },
  {
   "cell_type": "markdown",
   "metadata": {
    "colab_type": "text",
    "id": "mW3G0ebUARyH"
   },
   "source": [
    "In this assignment you will learn how to use <a href=\"http://sheffieldml.github.io/GPy/\">GPy</a> and <a href=\"http://sheffieldml.github.io/GPyOpt/\">GPyOpt</a> libraries to deal with gaussian processes. These libraries provide quite simple and inuitive interfaces for training and inference, and we will try to get familiar with them in a few tasks."
   ]
  },
  {
   "cell_type": "markdown",
   "metadata": {
    "colab_type": "text",
    "id": "afngii11ARyI"
   },
   "source": [
    "### Setup\n",
    "Load auxiliary files and then install and import the necessary libraries."
   ]
  },
  {
   "cell_type": "code",
   "execution_count": 1,
   "metadata": {
    "colab": {
     "base_uri": "https://localhost:8080/",
     "height": 255
    },
    "colab_type": "code",
    "executionInfo": {
     "elapsed": 9785,
     "status": "ok",
     "timestamp": 1573892628370,
     "user": {
      "displayName": "lovehk sing",
      "photoUrl": "https://lh3.google.com/a-/AAuE7mBQc5UaBuklX3apJ_VWCJ7yM-nT41netLeFWPg2=s64",
      "userId": "11175753879735056657"
     },
     "user_tz": -480
    },
    "id": "hlkuc8aCARyJ",
    "outputId": "2327ae11-1470-4430-e6ed-d5e373b0e749"
   },
   "outputs": [
    {
     "name": "stdout",
     "output_type": "stream",
     "text": [
      "Downloading Colab files\n",
      "shred: setup_google_colab.py: failed to open for writing: No such file or directory\n",
      "--2019-11-16 08:23:23--  https://raw.githubusercontent.com/hse-aml/bayesian-methods-for-ml/master/setup_google_colab.py\n",
      "Resolving raw.githubusercontent.com (raw.githubusercontent.com)... 151.101.0.133, 151.101.64.133, 151.101.128.133, ...\n",
      "Connecting to raw.githubusercontent.com (raw.githubusercontent.com)|151.101.0.133|:443... connected.\n",
      "HTTP request sent, awaiting response... 200 OK\n",
      "Length: 1254 (1.2K) [text/plain]\n",
      "Saving to: ‘setup_google_colab.py’\n",
      "\n",
      "setup_google_colab. 100%[===================>]   1.22K  --.-KB/s    in 0s      \n",
      "\n",
      "2019-11-16 08:23:23 (333 MB/s) - ‘setup_google_colab.py’ saved [1254/1254]\n",
      "\n",
      "https://raw.githubusercontent.com/hse-aml/bayesian-methods-for-ml/master/week6/w6_grader.py w6_grader.py\n"
     ]
    }
   ],
   "source": [
    "try:\n",
    "    import google.colab\n",
    "    IN_COLAB = True\n",
    "except:\n",
    "    IN_COLAB = False\n",
    "if IN_COLAB:\n",
    "    print(\"Downloading Colab files\")\n",
    "    ! shred -u setup_google_colab.py\n",
    "    ! wget https://raw.githubusercontent.com/hse-aml/bayesian-methods-for-ml/master/setup_google_colab.py -O setup_google_colab.py\n",
    "    import setup_google_colab\n",
    "    setup_google_colab.load_data_week6()"
   ]
  },
  {
   "cell_type": "code",
   "execution_count": 2,
   "metadata": {
    "colab": {
     "base_uri": "https://localhost:8080/",
     "height": 476
    },
    "colab_type": "code",
    "executionInfo": {
     "elapsed": 53915,
     "status": "ok",
     "timestamp": 1573892672508,
     "user": {
      "displayName": "lovehk sing",
      "photoUrl": "https://lh3.google.com/a-/AAuE7mBQc5UaBuklX3apJ_VWCJ7yM-nT41netLeFWPg2=s64",
      "userId": "11175753879735056657"
     },
     "user_tz": -480
    },
    "id": "rQpaMrqDARyM",
    "outputId": "582ffde4-81c9-4586-c68d-ca7045e9d5b0"
   },
   "outputs": [
    {
     "name": "stdout",
     "output_type": "stream",
     "text": [
      "Collecting GPy\n",
      "\u001b[?25l  Downloading https://files.pythonhosted.org/packages/67/95/976598f98adbfa918a480cb2d643f93fb555ca5b6c5614f76b69678114c1/GPy-1.9.9.tar.gz (995kB)\n",
      "\u001b[K     |████████████████████████████████| 1.0MB 5.0MB/s \n",
      "\u001b[?25hCollecting gpyopt\n",
      "\u001b[?25l  Downloading https://files.pythonhosted.org/packages/9c/40/ca8f080d74d9f4e29069faa944fcfb083e8693b6daaba0f1e4bc65c88650/GPyOpt-1.2.5.tar.gz (55kB)\n",
      "\u001b[K     |████████████████████████████████| 61kB 9.3MB/s \n",
      "\u001b[?25hRequirement already satisfied: xgboost in /usr/local/lib/python3.6/dist-packages (0.90)\n",
      "Requirement already satisfied: numpy>=1.7 in /usr/local/lib/python3.6/dist-packages (from GPy) (1.17.4)\n",
      "Requirement already satisfied: scipy>=0.16 in /usr/local/lib/python3.6/dist-packages (from GPy) (1.3.2)\n",
      "Requirement already satisfied: six in /usr/local/lib/python3.6/dist-packages (from GPy) (1.12.0)\n",
      "Collecting paramz>=0.9.0\n",
      "\u001b[?25l  Downloading https://files.pythonhosted.org/packages/d8/37/4abbeb78d30f20d3402887f46e6e9f3ef32034a9dea65d243654c82c8553/paramz-0.9.5.tar.gz (71kB)\n",
      "\u001b[K     |████████████████████████████████| 71kB 10.3MB/s \n",
      "\u001b[?25hRequirement already satisfied: decorator>=4.0.10 in /usr/local/lib/python3.6/dist-packages (from paramz>=0.9.0->GPy) (4.4.1)\n",
      "Building wheels for collected packages: GPy, gpyopt, paramz\n",
      "  Building wheel for GPy (setup.py) ... \u001b[?25l\u001b[?25hdone\n",
      "  Created wheel for GPy: filename=GPy-1.9.9-cp36-cp36m-linux_x86_64.whl size=2633980 sha256=73168a2e4bc1835297786e1d09fe014e98ddafd581524f20b6c81f822db33b8c\n",
      "  Stored in directory: /root/.cache/pip/wheels/5d/36/66/2b58860c84c9f2b51615da66bfd6feeddbc4e04d887ff96dfa\n",
      "  Building wheel for gpyopt (setup.py) ... \u001b[?25l\u001b[?25hdone\n",
      "  Created wheel for gpyopt: filename=GPyOpt-1.2.5-cp36-none-any.whl size=83027 sha256=e5c8c363ab5095b0e1071e6b40ff4ec335631091bc68fc7f078e63d2d93aedd1\n",
      "  Stored in directory: /root/.cache/pip/wheels/33/1d/87/dc02440831ba986b1547dd11a7dcd44e893b0527083066d869\n",
      "  Building wheel for paramz (setup.py) ... \u001b[?25l\u001b[?25hdone\n",
      "  Created wheel for paramz: filename=paramz-0.9.5-cp36-none-any.whl size=102551 sha256=201896259977e332fc236d8ecbb6fe308e0dad240a3511e6d3766a76c925aef9\n",
      "  Stored in directory: /root/.cache/pip/wheels/c8/4a/0e/6e0dc85541825f991c431619e25b870d4b812c911214690cf8\n",
      "Successfully built GPy gpyopt paramz\n",
      "Installing collected packages: paramz, GPy, gpyopt\n",
      "Successfully installed GPy-1.9.9 gpyopt-1.2.5 paramz-0.9.5\n"
     ]
    }
   ],
   "source": [
    "! pip install GPy gpyopt xgboost"
   ]
  },
  {
   "cell_type": "code",
   "execution_count": 0,
   "metadata": {
    "colab": {},
    "colab_type": "code",
    "id": "8_EZl4mdARyO"
   },
   "outputs": [],
   "source": [
    "import numpy as np\n",
    "import GPy\n",
    "import GPyOpt\n",
    "import matplotlib.pyplot as plt\n",
    "from sklearn.svm import SVR\n",
    "import sklearn.datasets\n",
    "from xgboost import XGBRegressor\n",
    "from sklearn.model_selection import cross_val_score\n",
    "import time\n",
    "from w6_grader import GPGrader\n",
    "%matplotlib inline"
   ]
  },
  {
   "cell_type": "markdown",
   "metadata": {
    "colab_type": "text",
    "id": "kH8WHfOPARyR"
   },
   "source": [
    "### Grading\n",
    "We will create a grader instace below and use it to collect your answers. Note that these outputs will be stored locally inside grader and will be uploaded to platform only after running submiting function in the last part of this assignment. If you want to make partial submission, you can run that cell any time you want."
   ]
  },
  {
   "cell_type": "code",
   "execution_count": 0,
   "metadata": {
    "colab": {},
    "colab_type": "code",
    "id": "dYKwaVDLARyS"
   },
   "outputs": [],
   "source": [
    "grader = GPGrader()"
   ]
  },
  {
   "cell_type": "markdown",
   "metadata": {
    "colab_type": "text",
    "id": "O-O0ivUBARyU"
   },
   "source": [
    "## Gaussian processes: GPy (<a href=\"http://pythonhosted.org/GPy/\">documentation</a>)"
   ]
  },
  {
   "cell_type": "markdown",
   "metadata": {
    "colab_type": "text",
    "collapsed": true,
    "id": "hCuNwRM1ARyV"
   },
   "source": [
    "We will start with a simple regression problem, for which we will try to fit a Gaussian Process with RBF kernel."
   ]
  },
  {
   "cell_type": "code",
   "execution_count": 0,
   "metadata": {
    "colab": {},
    "colab_type": "code",
    "id": "iJ_7GOx7ARyV"
   },
   "outputs": [],
   "source": [
    "def generate_points(n=25, noise_variance=0.0036):\n",
    "    np.random.seed(777)\n",
    "    X = np.random.uniform(-3., 3., (n, 1))\n",
    "    y = np.sin(X) + np.random.randn(n, 1) * noise_variance**0.5\n",
    "    return X, y\n",
    "    \n",
    "def generate_noise(n=25, noise_variance=0.0036):\n",
    "    np.random.seed(777)\n",
    "    X = np.random.uniform(-3., 3., (n, 1))\n",
    "    y = np.random.randn(n, 1) * noise_variance**0.5\n",
    "    return X, y"
   ]
  },
  {
   "cell_type": "code",
   "execution_count": 6,
   "metadata": {
    "colab": {
     "base_uri": "https://localhost:8080/",
     "height": 265
    },
    "colab_type": "code",
    "executionInfo": {
     "elapsed": 657,
     "status": "ok",
     "timestamp": 1573892697253,
     "user": {
      "displayName": "lovehk sing",
      "photoUrl": "https://lh3.google.com/a-/AAuE7mBQc5UaBuklX3apJ_VWCJ7yM-nT41netLeFWPg2=s64",
      "userId": "11175753879735056657"
     },
     "user_tz": -480
    },
    "id": "f1NH3rpZARyY",
    "outputId": "aa21d8a5-a7d7-49b7-cc72-a2dfb73ab6fd"
   },
   "outputs": [
    {
     "data": {
      "image/png": "[encoded data removed]",
      "text/plain": [
       "<Figure size 432x288 with 1 Axes>"
      ]
     },
     "metadata": {
      "tags": []
     },
     "output_type": "display_data"
    }
   ],
   "source": [
    "# Create data points\n",
    "X, y = generate_points()\n",
    "plt.plot(X, y, '.')\n",
    "plt.show()"
   ]
  },
  {
   "cell_type": "markdown",
   "metadata": {
    "colab_type": "text",
    "id": "SOlUS73gARya"
   },
   "source": [
    "To fit a Gaussian Process, you will need to define a kernel. For Gaussian (GBF) kernel you can use `GPy.kern.RBF` function."
   ]
  },
  {
   "cell_type": "markdown",
   "metadata": {
    "colab_type": "text",
    "id": "AIA7_MBaARyb"
   },
   "source": [
    "<b> Task 1.1: </b> Create RBF kernel with variance 1.5 and length-scale parameter 2 for 1D samples and compute value of the kernel between points `X[5]` and `X[9]`. Submit a single number. \n",
    "<br><b>Hint:</b> use `.K` property of kernel object."
   ]
  },
  {
   "cell_type": "code",
   "execution_count": 30,
   "metadata": {
    "colab": {
     "base_uri": "https://localhost:8080/",
     "height": 34
    },
    "colab_type": "code",
    "executionInfo": {
     "elapsed": 627,
     "status": "ok",
     "timestamp": 1573894679244,
     "user": {
      "displayName": "lovehk sing",
      "photoUrl": "https://lh3.google.com/a-/AAuE7mBQc5UaBuklX3apJ_VWCJ7yM-nT41netLeFWPg2=s64",
      "userId": "11175753879735056657"
     },
     "user_tz": -480
    },
    "id": "UM3f5gL4ARyc",
    "outputId": "7e0d4f13-fc5b-4438-fa87-ba6df1abd727"
   },
   "outputs": [
    {
     "name": "stdout",
     "output_type": "stream",
     "text": [
      "Current answer for task 1.1 is: 1.0461813545396959\n"
     ]
    }
   ],
   "source": [
    "kernel = GPy.kern.RBF(1, variance=1.5, lengthscale=2)### YOUR CODE HERE\n",
    "kernel_59 = kernel.K(X)[5][9]### YOUR CODE HERE\n",
    "grader.submit_GPy_1(kernel_59)"
   ]
  },
  {
   "cell_type": "markdown",
   "metadata": {
    "colab_type": "text",
    "id": "i2rNXb6LARye"
   },
   "source": [
    "<b> Task 1.2: </b> Fit GP into generated data. Use kernel from previous task. Submit predicted mean and vairance at position $x=1$.\n",
    "<br><b>Hint:</b> use `GPy.models.GPRegression` class."
   ]
  },
  {
   "cell_type": "code",
   "execution_count": 51,
   "metadata": {
    "colab": {
     "base_uri": "https://localhost:8080/",
     "height": 51
    },
    "colab_type": "code",
    "executionInfo": {
     "elapsed": 611,
     "status": "ok",
     "timestamp": 1573894951211,
     "user": {
      "displayName": "lovehk sing",
      "photoUrl": "https://lh3.google.com/a-/AAuE7mBQc5UaBuklX3apJ_VWCJ7yM-nT41netLeFWPg2=s64",
      "userId": "11175753879735056657"
     },
     "user_tz": -480
    },
    "id": "ASq9VHFQARyf",
    "outputId": "80613692-2b2a-4138-f24b-e6660ae52063"
   },
   "outputs": [
    {
     "name": "stdout",
     "output_type": "stream",
     "text": [
      "Current answer for task 1.2 (mean) is: 0.6646774926102937\n",
      "Current answer for task 1.2 (variance) is: 1.1001478223790582\n"
     ]
    }
   ],
   "source": [
    "model = GPy.models.GPRegression(X, y, kernel=kernel) ### YOUR CODE HERE\n",
    "mean = model.predict(np.array([[1]]))[0][0,0] ### YOUR CODE HERE\n",
    "variance = model.predict(np.array([[1]]))[1][0,0] ### YOUR CODE HERE\n",
    "grader.submit_GPy_2(mean, variance)"
   ]
  },
  {
   "cell_type": "code",
   "execution_count": 52,
   "metadata": {
    "colab": {
     "base_uri": "https://localhost:8080/",
     "height": 297
    },
    "colab_type": "code",
    "executionInfo": {
     "elapsed": 1257,
     "status": "ok",
     "timestamp": 1573894952012,
     "user": {
      "displayName": "lovehk sing",
      "photoUrl": "https://lh3.google.com/a-/AAuE7mBQc5UaBuklX3apJ_VWCJ7yM-nT41netLeFWPg2=s64",
      "userId": "11175753879735056657"
     },
     "user_tz": -480
    },
    "id": "P6UinG1TARyh",
    "outputId": "faf4e930-5914-496d-d06c-624deafad067"
   },
   "outputs": [
    {
     "data": {
      "image/png": "[encoded data removed]",
      "text/plain": [
       "<Figure size 432x288 with 1 Axes>"
      ]
     },
     "metadata": {
      "tags": []
     },
     "output_type": "display_data"
    }
   ],
   "source": [
    "model.plot()\n",
    "plt.show()"
   ]
  },
  {
   "cell_type": "markdown",
   "metadata": {
    "colab_type": "text",
    "id": "WwigpSH-ARyj"
   },
   "source": [
    "We see that the model didn't fit the data quite well. Let's try to fit kernel and noise parameters automatically as discussed in the lecture! You can see the current parameters below:"
   ]
  },
  {
   "cell_type": "code",
   "execution_count": 53,
   "metadata": {
    "colab": {
     "base_uri": "https://localhost:8080/",
     "height": 221
    },
    "colab_type": "code",
    "executionInfo": {
     "elapsed": 638,
     "status": "ok",
     "timestamp": 1573894964523,
     "user": {
      "displayName": "lovehk sing",
      "photoUrl": "https://lh3.google.com/a-/AAuE7mBQc5UaBuklX3apJ_VWCJ7yM-nT41netLeFWPg2=s64",
      "userId": "11175753879735056657"
     },
     "user_tz": -480
    },
    "id": "uExNKCyKARyk",
    "outputId": "086e4af1-5788-44a2-8a5c-7e2a508169f1"
   },
   "outputs": [
    {
     "data": {
      "text/html": [
       "<style type=\"text/css\">\n",
       ".pd{\n",
       "    font-family: \"Courier New\", Courier, monospace !important;\n",
       "    width: 100%;\n",
       "    padding: 3px;\n",
       "}\n",
       "</style>\n",
       "\n",
       "<p class=pd>\n",
       "<b>Model</b>: GP regression<br>\n",
       "<b>Objective</b>: 27.86687636693494<br>\n",
       "<b>Number of Parameters</b>: 3<br>\n",
       "<b>Number of Optimization Parameters</b>: 3<br>\n",
       "<b>Updates</b>: True<br>\n",
       "</p>\n",
       "<style type=\"text/css\">\n",
       ".tg  {font-family:\"Courier New\", Courier, monospace !important;padding:2px 3px;word-break:normal;border-collapse:collapse;border-spacing:0;border-color:#DCDCDC;margin:0px auto;width:100%;}\n",
       ".tg td{font-family:\"Courier New\", Courier, monospace !important;font-weight:bold;color:#444;background-color:#F7FDFA;border-style:solid;border-width:1px;overflow:hidden;word-break:normal;border-color:#DCDCDC;}\n",
       ".tg th{font-family:\"Courier New\", Courier, monospace !important;font-weight:normal;color:#fff;background-color:#26ADE4;border-style:solid;border-width:1px;overflow:hidden;word-break:normal;border-color:#DCDCDC;}\n",
       ".tg .tg-left{font-family:\"Courier New\", Courier, monospace !important;font-weight:normal;text-align:left;}\n",
       ".tg .tg-center{font-family:\"Courier New\", Courier, monospace !important;font-weight:normal;text-align:center;}\n",
       ".tg .tg-right{font-family:\"Courier New\", Courier, monospace !important;font-weight:normal;text-align:right;}\n",
       "</style>\n",
       "<table class=\"tg\"><tr><th><b>  GP_regression.         </b></th><th><b>value</b></th><th><b>constraints</b></th><th><b>priors</b></th></tr>\n",
       "<tr><td class=tg-left>  rbf.variance           </td><td class=tg-right>  1.5</td><td class=tg-center>    +ve    </td><td class=tg-center>      </td></tr>\n",
       "<tr><td class=tg-left>  rbf.lengthscale        </td><td class=tg-right>  2.0</td><td class=tg-center>    +ve    </td><td class=tg-center>      </td></tr>\n",
       "<tr><td class=tg-left>  Gaussian_noise.variance</td><td class=tg-right>  1.0</td><td class=tg-center>    +ve    </td><td class=tg-center>      </td></tr>\n",
       "</table>"
      ],
      "text/plain": [
       "<GPy.models.gp_regression.GPRegression at 0x7f08d52c14e0>"
      ]
     },
     "execution_count": 53,
     "metadata": {
      "tags": []
     },
     "output_type": "execute_result"
    }
   ],
   "source": [
    "model"
   ]
  },
  {
   "cell_type": "markdown",
   "metadata": {
    "colab_type": "text",
    "id": "m4WmH_S1ARyn"
   },
   "source": [
    "<b> Task 1.3: </b> Optimize length-scale, variance and noise component of the model and submit optimal length-scale value of the kernel. \n",
    "<br><b>Hint:</b> Use `.optimize()` function of the model and `.lengthscale` property of the kernel."
   ]
  },
  {
   "cell_type": "code",
   "execution_count": 60,
   "metadata": {
    "colab": {
     "base_uri": "https://localhost:8080/",
     "height": 34
    },
    "colab_type": "code",
    "executionInfo": {
     "elapsed": 620,
     "status": "ok",
     "timestamp": 1573895141889,
     "user": {
      "displayName": "lovehk sing",
      "photoUrl": "https://lh3.google.com/a-/AAuE7mBQc5UaBuklX3apJ_VWCJ7yM-nT41netLeFWPg2=s64",
      "userId": "11175753879735056657"
     },
     "user_tz": -480
    },
    "id": "KUrek2OOARyo",
    "outputId": "3ce3a164-1db3-43c9-8dd8-2d6a3082eb65"
   },
   "outputs": [
    {
     "name": "stdout",
     "output_type": "stream",
     "text": [
      "Current answer for task 1.3 is: 1.6252681650349912\n"
     ]
    }
   ],
   "source": [
    "### YOUR CODE HERE\n",
    "model.optimize()\n",
    "lengthscale = kernel.lengthscale[0]\n",
    "grader.submit_GPy_3(lengthscale)"
   ]
  },
  {
   "cell_type": "code",
   "execution_count": 61,
   "metadata": {
    "colab": {
     "base_uri": "https://localhost:8080/",
     "height": 297
    },
    "colab_type": "code",
    "executionInfo": {
     "elapsed": 1134,
     "status": "ok",
     "timestamp": 1573895145574,
     "user": {
      "displayName": "lovehk sing",
      "photoUrl": "https://lh3.google.com/a-/AAuE7mBQc5UaBuklX3apJ_VWCJ7yM-nT41netLeFWPg2=s64",
      "userId": "11175753879735056657"
     },
     "user_tz": -480
    },
    "id": "JTRiSDw3ARyq",
    "outputId": "b8aa3a72-a453-4e25-c3d3-42d7884199b6"
   },
   "outputs": [
    {
     "data": {
      "image/png": "[encoded data removed]",
      "text/plain": [
       "<Figure size 432x288 with 1 Axes>"
      ]
     },
     "metadata": {
      "tags": []
     },
     "output_type": "display_data"
    }
   ],
   "source": [
    "model.plot()\n",
    "plt.show()"
   ]
  },
  {
   "cell_type": "markdown",
   "metadata": {
    "colab_type": "text",
    "id": "oZYqWLiSARys"
   },
   "source": [
    "As you see, the process generates outputs just right. Let's see if GP can figure out itself when we try to fit it into noise or signal."
   ]
  },
  {
   "cell_type": "markdown",
   "metadata": {
    "colab_type": "text",
    "id": "0tOrZZONARys"
   },
   "source": [
    "<b> Task 1.4: </b> Generate two datasets: sinusoid wihout noise and samples from gaussian noise. Optimize kernel parameters and submit optimal values of noise component.\n",
    "<br><b>Note:</b> generate data only using ```generate_points(n, noise_variance)``` and ```generate_noise(n, noise_variance)``` function!"
   ]
  },
  {
   "cell_type": "code",
   "execution_count": 0,
   "metadata": {
    "colab": {},
    "colab_type": "code",
    "id": "64QZ8lTKARyt"
   },
   "outputs": [],
   "source": [
    "X, y = generate_noise(noise_variance=10)\n",
    "### YOUR CODE HERE\n",
    "model = GPy.models.GPRegression(X, y, kernel=kernel)\n",
    "model.optimize()\n",
    "noise = model.Gaussian_noise.variance"
   ]
  },
  {
   "cell_type": "code",
   "execution_count": 0,
   "metadata": {
    "colab": {},
    "colab_type": "code",
    "id": "ddQ_KEBbARyv"
   },
   "outputs": [],
   "source": [
    "X, y = generate_points(noise_variance=0)\n",
    "### YOUR CODE HERE\n",
    "model = GPy.models.GPRegression(X, y, kernel=kernel)\n",
    "model.optimize()\n",
    "just_signal = model.Gaussian_noise.variance"
   ]
  },
  {
   "cell_type": "code",
   "execution_count": 75,
   "metadata": {
    "colab": {
     "base_uri": "https://localhost:8080/",
     "height": 51
    },
    "colab_type": "code",
    "executionInfo": {
     "elapsed": 637,
     "status": "ok",
     "timestamp": 1573895684496,
     "user": {
      "displayName": "lovehk sing",
      "photoUrl": "https://lh3.google.com/a-/AAuE7mBQc5UaBuklX3apJ_VWCJ7yM-nT41netLeFWPg2=s64",
      "userId": "11175753879735056657"
     },
     "user_tz": -480
    },
    "id": "Qep8-2tVARyx",
    "outputId": "ff493ece-5d97-4b0d-d248-a0933e3bee78"
   },
   "outputs": [
    {
     "name": "stdout",
     "output_type": "stream",
     "text": [
      "Current answer for task 1.4 (noise) is: 13.563737584492955\n",
      "Current answer for task 1.4 (just signal) is: 2.0632545080635422e-15\n"
     ]
    }
   ],
   "source": [
    "grader.submit_GPy_4(noise, just_signal)"
   ]
  },
  {
   "cell_type": "markdown",
   "metadata": {
    "colab_type": "text",
    "id": "84en5kqAARy0"
   },
   "source": [
    "## Sparse GP\n",
    "Now let's consider the speed of GP. We will generate a dataset of 3000 points and measure the time that is consumed for prediction of mean and variance for each point. We will then try to use inducing inputs and find the optimal number of points according to quality-time tradeoff.\n",
    "\n",
    "For the sparse model with inducing points, you should use ```GPy.models.SparseGPRegression``` class. You can set the number of inducing inputs with parameter ```num_inducing``` and optimize their positions and values with ```.optimize()``` call."
   ]
  },
  {
   "cell_type": "markdown",
   "metadata": {
    "colab_type": "text",
    "id": "QTtqSaAWARy0"
   },
   "source": [
    "<b>Task 1.5</b>: Create a dataset of 1000 points and fit GPRegression. Measure time for predicting mean and variance at position $x=1$. Then fit `SparseGPRegression` with 10 inducing inputs and repeat the experiment. Report speedup as a ratio between consumed time without and with inducing inputs."
   ]
  },
  {
   "cell_type": "code",
   "execution_count": 0,
   "metadata": {
    "colab": {},
    "colab_type": "code",
    "id": "_TCHRkg4ARy1"
   },
   "outputs": [],
   "source": [
    "X, y = generate_points(1000)"
   ]
  },
  {
   "cell_type": "code",
   "execution_count": 0,
   "metadata": {
    "colab": {},
    "colab_type": "code",
    "id": "4_pXrg-lARy8"
   },
   "outputs": [],
   "source": [
    "start = time.time()\n",
    "### YOUR CODE HERE\n",
    "model = GPy.models.GPRegression(X, y)\n",
    "model.optimize()\n",
    "model.predict(np.array([[1]]))\n",
    "time_gp = time.time()-start"
   ]
  },
  {
   "cell_type": "code",
   "execution_count": 0,
   "metadata": {
    "colab": {},
    "colab_type": "code",
    "id": "rmysrTLjARzB"
   },
   "outputs": [],
   "source": [
    "start = time.time()\n",
    "### YOUR CODE HERE\n",
    "model = GPy.models.SparseGPRegression(X, y, num_inducing=10)\n",
    "model.optimize()\n",
    "model.predict(np.array([[1]]))\n",
    "time_sgp = time.time()-start"
   ]
  },
  {
   "cell_type": "code",
   "execution_count": 104,
   "metadata": {
    "colab": {
     "base_uri": "https://localhost:8080/",
     "height": 297
    },
    "colab_type": "code",
    "executionInfo": {
     "elapsed": 1050,
     "status": "ok",
     "timestamp": 1573896432357,
     "user": {
      "displayName": "lovehk sing",
      "photoUrl": "https://lh3.google.com/a-/AAuE7mBQc5UaBuklX3apJ_VWCJ7yM-nT41netLeFWPg2=s64",
      "userId": "11175753879735056657"
     },
     "user_tz": -480
    },
    "id": "9JrmafC7ARzD",
    "outputId": "808cbe08-0055-4ed4-9591-ef15d7e7e3a9"
   },
   "outputs": [
    {
     "data": {
      "image/png": "[encoded data removed]",
      "text/plain": [
       "<Figure size 432x288 with 1 Axes>"
      ]
     },
     "metadata": {
      "tags": []
     },
     "output_type": "display_data"
    }
   ],
   "source": [
    "model.plot()\n",
    "plt.show()"
   ]
  },
  {
   "cell_type": "code",
   "execution_count": 105,
   "metadata": {
    "colab": {
     "base_uri": "https://localhost:8080/",
     "height": 34
    },
    "colab_type": "code",
    "executionInfo": {
     "elapsed": 911,
     "status": "ok",
     "timestamp": 1573896432358,
     "user": {
      "displayName": "lovehk sing",
      "photoUrl": "https://lh3.google.com/a-/AAuE7mBQc5UaBuklX3apJ_VWCJ7yM-nT41netLeFWPg2=s64",
      "userId": "11175753879735056657"
     },
     "user_tz": -480
    },
    "id": "6Up_1YmbARzF",
    "outputId": "724a5ba9-fe9f-45b9-c13a-da595f418d94"
   },
   "outputs": [
    {
     "name": "stdout",
     "output_type": "stream",
     "text": [
      "Current answer for task 1.5 is: 5.996477668817465\n"
     ]
    }
   ],
   "source": [
    "grader.submit_GPy_5(time_gp / time_sgp)"
   ]
  },
  {
   "cell_type": "markdown",
   "metadata": {
    "colab_type": "text",
    "id": "O1HnQGAdARzI"
   },
   "source": [
    "## Bayesian optimization: GPyOpt (<a href=\"http://pythonhosted.org/GPyOpt/\">documentation</a>, <a href=\"http://nbviewer.jupyter.org/github/SheffieldML/GPyOpt/blob/master/manual/index.ipynb\">tutorials</a>)"
   ]
  },
  {
   "cell_type": "markdown",
   "metadata": {
    "colab_type": "text",
    "id": "BADBvA8UARzI"
   },
   "source": [
    "In this part of the assignment, we will try to find optimal hyperparameters to XGBoost model! We will use data from a small competition to speed things up, but keep in mind that the approach works even for large datasets.\n",
    "\n",
    "We will use diabetes dataset provided in sklearn package."
   ]
  },
  {
   "cell_type": "code",
   "execution_count": 0,
   "metadata": {
    "colab": {},
    "colab_type": "code",
    "id": "NRP5TDRpARzJ"
   },
   "outputs": [],
   "source": [
    "dataset = sklearn.datasets.load_diabetes()\n",
    "X = dataset['data']\n",
    "y = dataset['target']"
   ]
  },
  {
   "cell_type": "markdown",
   "metadata": {
    "colab_type": "text",
    "id": "6u0iqyclARzK"
   },
   "source": [
    "We will use cross-validation score to estimate accuracy and our goal will be to tune: ```max_depth```, ```learning_rate```, ```n_estimators``` parameters. The baseline MSE with default XGBoost parameters is $0.2$. Let's see if we can do better. First, we have to define optimization function and domains."
   ]
  },
  {
   "cell_type": "code",
   "execution_count": 0,
   "metadata": {
    "colab": {},
    "colab_type": "code",
    "id": "FTU36V0lARzL"
   },
   "outputs": [],
   "source": [
    "# Score. Optimizer will try to find minimum, so we will add a \"-\" sign.\n",
    "def f(parameters):\n",
    "    parameters = parameters[0]\n",
    "    score = -cross_val_score(\n",
    "        XGBRegressor(learning_rate=parameters[0],\n",
    "                     max_depth=int(parameters[2]),\n",
    "                     n_estimators=int(parameters[3]),\n",
    "                     gamma=int(parameters[1]),\n",
    "                     min_child_weight = parameters[4]), \n",
    "        X, y, scoring='neg_mean_squared_error'\n",
    "    ).mean()\n",
    "    score = np.array(score)\n",
    "    return score"
   ]
  },
  {
   "cell_type": "code",
   "execution_count": 0,
   "metadata": {
    "colab": {},
    "colab_type": "code",
    "id": "MdV9ZfaBARzM"
   },
   "outputs": [],
   "source": [
    "baseline = -cross_val_score(\n",
    "    XGBRegressor(), X, y, scoring='neg_mean_squared_error'\n",
    ").mean()\n",
    "baseline"
   ]
  },
  {
   "cell_type": "code",
   "execution_count": 0,
   "metadata": {
    "colab": {},
    "colab_type": "code",
    "id": "QWa7dv7JARzO"
   },
   "outputs": [],
   "source": [
    "# Bounds (NOTE: define continuous variables first, then discrete!)\n",
    "bounds = [\n",
    "    {'name': 'learning_rate',\n",
    "     'type': 'continuous',\n",
    "     'domain': (0, 1)},\n",
    "\n",
    "    {'name': 'gamma',\n",
    "     'type': 'continuous',\n",
    "     'domain': (0, 5)},\n",
    "\n",
    "    {'name': 'max_depth',\n",
    "     'type': 'discrete',\n",
    "     'domain': (1, 50)},\n",
    "\n",
    "    {'name': 'n_estimators',\n",
    "     'type': 'discrete',\n",
    "     'domain': (1, 300)},\n",
    "\n",
    "    {'name': 'min_child_weight',\n",
    "     'type': 'discrete',\n",
    "     'domain': (1, 10)}\n",
    "]"
   ]
  },
  {
   "cell_type": "code",
   "execution_count": 0,
   "metadata": {
    "colab": {},
    "colab_type": "code",
    "id": "jCTRBxNpARzQ",
    "scrolled": false
   },
   "outputs": [],
   "source": [
    "np.random.seed(777)\n",
    "optimizer = GPyOpt.methods.BayesianOptimization(\n",
    "    f=f, domain=bounds,\n",
    "    acquisition_type ='MPI',\n",
    "    acquisition_par = 0.1,\n",
    "    exact_eval=True\n",
    ")"
   ]
  },
  {
   "cell_type": "code",
   "execution_count": 0,
   "metadata": {
    "colab": {},
    "colab_type": "code",
    "id": "Ll6B--tDARzR"
   },
   "outputs": [],
   "source": [
    "max_iter = 50\n",
    "max_time = 60\n",
    "optimizer.run_optimization(max_iter, max_time)"
   ]
  },
  {
   "cell_type": "code",
   "execution_count": 116,
   "metadata": {
    "colab": {
     "base_uri": "https://localhost:8080/",
     "height": 350
    },
    "colab_type": "code",
    "executionInfo": {
     "elapsed": 45622,
     "status": "ok",
     "timestamp": 1573896529714,
     "user": {
      "displayName": "lovehk sing",
      "photoUrl": "https://lh3.google.com/a-/AAuE7mBQc5UaBuklX3apJ_VWCJ7yM-nT41netLeFWPg2=s64",
      "userId": "11175753879735056657"
     },
     "user_tz": -480
    },
    "id": "NC6iDNS9ARzU",
    "outputId": "9a2ad638-f1ad-4376-e63d-a864d822fc38"
   },
   "outputs": [
    {
     "data": {
      "image/png": "[encoded data removed]",
      "text/plain": [
       "<Figure size 720x360 with 2 Axes>"
      ]
     },
     "metadata": {
      "tags": []
     },
     "output_type": "display_data"
    }
   ],
   "source": [
    "optimizer.plot_convergence()"
   ]
  },
  {
   "cell_type": "markdown",
   "metadata": {
    "colab_type": "text",
    "id": "ydbyyh8LARzW"
   },
   "source": [
    "Best values of parameters:"
   ]
  },
  {
   "cell_type": "code",
   "execution_count": 117,
   "metadata": {
    "colab": {
     "base_uri": "https://localhost:8080/",
     "height": 51
    },
    "colab_type": "code",
    "executionInfo": {
     "elapsed": 45156,
     "status": "ok",
     "timestamp": 1573896529715,
     "user": {
      "displayName": "lovehk sing",
      "photoUrl": "https://lh3.google.com/a-/AAuE7mBQc5UaBuklX3apJ_VWCJ7yM-nT41netLeFWPg2=s64",
      "userId": "11175753879735056657"
     },
     "user_tz": -480
    },
    "id": "FoT5n8A4ARzW",
    "outputId": "e6e4817f-d2fe-46b2-de01-58674019a74a"
   },
   "outputs": [
    {
     "data": {
      "text/plain": [
       "array([9.22836856e-02, 1.89172284e+00, 1.00000000e+00, 3.00000000e+02,\n",
       "       1.00000000e+00])"
      ]
     },
     "execution_count": 117,
     "metadata": {
      "tags": []
     },
     "output_type": "execute_result"
    }
   ],
   "source": [
    "optimizer.X[np.argmin(optimizer.Y)]"
   ]
  },
  {
   "cell_type": "code",
   "execution_count": 118,
   "metadata": {
    "colab": {
     "base_uri": "https://localhost:8080/",
     "height": 34
    },
    "colab_type": "code",
    "executionInfo": {
     "elapsed": 44617,
     "status": "ok",
     "timestamp": 1573896529716,
     "user": {
      "displayName": "lovehk sing",
      "photoUrl": "https://lh3.google.com/a-/AAuE7mBQc5UaBuklX3apJ_VWCJ7yM-nT41netLeFWPg2=s64",
      "userId": "11175753879735056657"
     },
     "user_tz": -480
    },
    "id": "uFybmPviARzY",
    "outputId": "cdde3ac5-c050-4c57-bd6b-8da9f4ae67d5"
   },
   "outputs": [
    {
     "name": "stdout",
     "output_type": "stream",
     "text": [
      "MSE: 3192.9357292803816 Gain: 109.58415695994108\n"
     ]
    }
   ],
   "source": [
    "print('MSE:', np.min(optimizer.Y),\n",
    "      'Gain:', baseline/np.min(optimizer.Y)*100)"
   ]
  },
  {
   "cell_type": "markdown",
   "metadata": {
    "colab_type": "text",
    "id": "XehCUKBmARzZ"
   },
   "source": [
    "We were able to get 9% boost without tuning parameters by hand! Let's see if you can do the same. "
   ]
  },
  {
   "cell_type": "markdown",
   "metadata": {
    "colab_type": "text",
    "id": "4C4EWe4XARza"
   },
   "source": [
    "<b>Task 2.1:</b> Tune SVR model. Find optimal values for three parameters: `C`, `epsilon` and `gamma`. Use range (1e-5, 1000) for `C`, (1e-5, 10) for `epsilon` and `gamma`. Use MPI as an acquisition function with weight 0.1. Submit the optimal value of epsilon that was found by a model."
   ]
  },
  {
   "cell_type": "code",
   "execution_count": 0,
   "metadata": {
    "colab": {},
    "colab_type": "code",
    "id": "g7awIn4_lZuF"
   },
   "outputs": [],
   "source": [
    "# Score. Optimizer will try to find minimum, so we will add a \"-\" sign.\n",
    "def f(parameters):\n",
    "    parameters = parameters[0]\n",
    "    score = -cross_val_score(\n",
    "        SVR(C=parameters[0],\n",
    "        epsilon=parameters[1],\n",
    "        gamma=parameters[2]),\n",
    "        X, y, scoring='neg_mean_squared_error'\n",
    "    ).mean()\n",
    "    score = np.array(score)\n",
    "    return score"
   ]
  },
  {
   "cell_type": "code",
   "execution_count": 124,
   "metadata": {
    "colab": {
     "base_uri": "https://localhost:8080/",
     "height": 34
    },
    "colab_type": "code",
    "executionInfo": {
     "elapsed": 586,
     "status": "ok",
     "timestamp": 1573897438417,
     "user": {
      "displayName": "lovehk sing",
      "photoUrl": "https://lh3.google.com/a-/AAuE7mBQc5UaBuklX3apJ_VWCJ7yM-nT41netLeFWPg2=s64",
      "userId": "11175753879735056657"
     },
     "user_tz": -480
    },
    "id": "Wg1tjPJ2lZxK",
    "outputId": "41ab8980-3688-4f0b-e1cc-3ff1912e9149"
   },
   "outputs": [
    {
     "data": {
      "text/plain": [
       "6067.652263997995"
      ]
     },
     "execution_count": 124,
     "metadata": {
      "tags": []
     },
     "output_type": "execute_result"
    }
   ],
   "source": [
    "baseline = -cross_val_score(\n",
    "    SVR(), X, y, scoring='neg_mean_squared_error'\n",
    ").mean()\n",
    "baseline"
   ]
  },
  {
   "cell_type": "code",
   "execution_count": 0,
   "metadata": {
    "colab": {},
    "colab_type": "code",
    "id": "NJfz2q60lZ4N"
   },
   "outputs": [],
   "source": [
    "# Bounds (NOTE: define continuous variables first, then discrete!)\n",
    "bounds = [\n",
    "    {'name': 'C',\n",
    "     'type': 'continuous',\n",
    "     'domain': (1e-5, 1000)},\n",
    "\n",
    "    {'name': 'epsilon',\n",
    "     'type': 'continuous',\n",
    "     'domain': (1e-5, 10)},\n",
    "\n",
    "    {'name': 'gamma',\n",
    "     'type': 'discrete',\n",
    "     'domain': (1e-5, 10)}\n",
    "]"
   ]
  },
  {
   "cell_type": "code",
   "execution_count": 0,
   "metadata": {
    "colab": {},
    "colab_type": "code",
    "id": "_SFW-D_ylZ10"
   },
   "outputs": [],
   "source": [
    "np.random.seed(777)\n",
    "optimizer = GPyOpt.methods.BayesianOptimization(\n",
    "    f=f, domain=bounds,\n",
    "    acquisition_type ='MPI',\n",
    "    acquisition_par = 0.1,\n",
    "    exact_eval=True\n",
    ")"
   ]
  },
  {
   "cell_type": "code",
   "execution_count": 0,
   "metadata": {
    "colab": {},
    "colab_type": "code",
    "id": "Ki5ntRjglZz5"
   },
   "outputs": [],
   "source": [
    "max_iter = 50\n",
    "max_time = 60\n",
    "optimizer.run_optimization(max_iter, max_time)"
   ]
  },
  {
   "cell_type": "code",
   "execution_count": 128,
   "metadata": {
    "colab": {
     "base_uri": "https://localhost:8080/",
     "height": 34
    },
    "colab_type": "code",
    "executionInfo": {
     "elapsed": 13738,
     "status": "ok",
     "timestamp": 1573897476715,
     "user": {
      "displayName": "lovehk sing",
      "photoUrl": "https://lh3.google.com/a-/AAuE7mBQc5UaBuklX3apJ_VWCJ7yM-nT41netLeFWPg2=s64",
      "userId": "11175753879735056657"
     },
     "user_tz": -480
    },
    "id": "n2KtGVvumEpi",
    "outputId": "8e1823c6-9549-4740-9cf8-5941be04bf4f"
   },
   "outputs": [
    {
     "data": {
      "text/plain": [
       "array([49.0405375, 10.       , 10.       ])"
      ]
     },
     "execution_count": 128,
     "metadata": {
      "tags": []
     },
     "output_type": "execute_result"
    }
   ],
   "source": [
    "optimizer.X[np.argmin(optimizer.Y)]"
   ]
  },
  {
   "cell_type": "code",
   "execution_count": 133,
   "metadata": {
    "colab": {
     "base_uri": "https://localhost:8080/",
     "height": 34
    },
    "colab_type": "code",
    "executionInfo": {
     "elapsed": 630,
     "status": "ok",
     "timestamp": 1573897553438,
     "user": {
      "displayName": "lovehk sing",
      "photoUrl": "https://lh3.google.com/a-/AAuE7mBQc5UaBuklX3apJ_VWCJ7yM-nT41netLeFWPg2=s64",
      "userId": "11175753879735056657"
     },
     "user_tz": -480
    },
    "id": "GH9NVQ4EARzb",
    "outputId": "e2ecaa45-ac49-4a01-f1d6-7f7f66093b27"
   },
   "outputs": [
    {
     "name": "stdout",
     "output_type": "stream",
     "text": [
      "Current answer for task 2.1 is: 10\n"
     ]
    }
   ],
   "source": [
    "### YOUR CODE HERE\n",
    "best_epsilon = 10 ### YOUR CODE HERE\n",
    "grader.submit_GPyOpt_1(best_epsilon)"
   ]
  },
  {
   "cell_type": "markdown",
   "metadata": {
    "colab_type": "text",
    "id": "u6GDZz8TARze"
   },
   "source": [
    "<b>Task 2.2:</b> For the model above submit boost in improvement that you got after tuning hyperparameters (output percents) [e.g. if baseline MSE was 40 and you got 20, output number 200]"
   ]
  },
  {
   "cell_type": "code",
   "execution_count": 129,
   "metadata": {
    "colab": {
     "base_uri": "https://localhost:8080/",
     "height": 34
    },
    "colab_type": "code",
    "executionInfo": {
     "elapsed": 599,
     "status": "ok",
     "timestamp": 1573897501411,
     "user": {
      "displayName": "lovehk sing",
      "photoUrl": "https://lh3.google.com/a-/AAuE7mBQc5UaBuklX3apJ_VWCJ7yM-nT41netLeFWPg2=s64",
      "userId": "11175753879735056657"
     },
     "user_tz": -480
    },
    "id": "ddbKIeg9mfF3",
    "outputId": "92fe94e0-95c2-4e43-c4c3-f2782c329874"
   },
   "outputs": [
    {
     "name": "stdout",
     "output_type": "stream",
     "text": [
      "MSE: 2945.4948091521605 Gain: 205.99772388478675\n"
     ]
    }
   ],
   "source": [
    "print('MSE:', np.min(optimizer.Y),\n",
    "      'Gain:', baseline/np.min(optimizer.Y)*100)"
   ]
  },
  {
   "cell_type": "code",
   "execution_count": 139,
   "metadata": {
    "colab": {
     "base_uri": "https://localhost:8080/",
     "height": 34
    },
    "colab_type": "code",
    "executionInfo": {
     "elapsed": 624,
     "status": "ok",
     "timestamp": 1573897628444,
     "user": {
      "displayName": "lovehk sing",
      "photoUrl": "https://lh3.google.com/a-/AAuE7mBQc5UaBuklX3apJ_VWCJ7yM-nT41netLeFWPg2=s64",
      "userId": "11175753879735056657"
     },
     "user_tz": -480
    },
    "id": "w_XPazMBARzg",
    "outputId": "13909ee1-e4f3-40eb-d2c2-3152f6f6188c"
   },
   "outputs": [
    {
     "name": "stdout",
     "output_type": "stream",
     "text": [
      "Current answer for task 2.2 is: 205.99772388478675\n"
     ]
    }
   ],
   "source": [
    "performance_boost = 2.0599772388478675 ### YOUR CODE HERE\n",
    "grader.submit_GPyOpt_2(performance_boost*100)"
   ]
  },
  {
   "cell_type": "markdown",
   "metadata": {
    "colab_type": "text",
    "id": "zlgGPvhTARzi"
   },
   "source": [
    "# Authorization & Submission\n",
    "To submit assignment parts to Cousera platform, please, enter your e-mail and token into variables below. You can generate a token on this programming assignment's page. <b>Note:</b> The token expires 30 minutes after generation."
   ]
  },
  {
   "cell_type": "code",
   "execution_count": 140,
   "metadata": {
    "colab": {
     "base_uri": "https://localhost:8080/",
     "height": 187
    },
    "colab_type": "code",
    "executionInfo": {
     "elapsed": 628,
     "status": "ok",
     "timestamp": 1573897633879,
     "user": {
      "displayName": "lovehk sing",
      "photoUrl": "https://lh3.google.com/a-/AAuE7mBQc5UaBuklX3apJ_VWCJ7yM-nT41netLeFWPg2=s64",
      "userId": "11175753879735056657"
     },
     "user_tz": -480
    },
    "id": "5WxnWO6bARzi",
    "outputId": "763ca386-3892-4877-a6cd-c7f629bc1b1f"
   },
   "outputs": [
    {
     "name": "stdout",
     "output_type": "stream",
     "text": [
      "You want to submit these numbers:\n",
      "Task 1.1: 1.0461813545396959\n",
      "Task 1.2 (mean): 0.6646774926102937\n",
      "Task 1.2 (variance): 1.1001478223790582\n",
      "Task 1.3: 1.6252681650349912\n",
      "Task 1.4 (noise): 13.563737584492955\n",
      "Task 1.4 (just signal): 2.0632545080635422e-15\n",
      "Task 1.5: 5.996477668817465\n",
      "Task 2.1: 10\n",
      "Task 2.2: 205.99772388478675\n"
     ]
    }
   ],
   "source": [
    "STUDENT_EMAIL = 'chrispun0518@gmail.com' # EMAIL HERE\n",
    "STUDENT_TOKEN = 'YzZJadwGJRpDCd37' # TOKEN HERE\n",
    "grader.status()"
   ]
  },
  {
   "cell_type": "markdown",
   "metadata": {
    "colab_type": "text",
    "id": "ZadqoXvtARzk"
   },
   "source": [
    "If you want to submit these answers, run cell below"
   ]
  },
  {
   "cell_type": "code",
   "execution_count": 141,
   "metadata": {
    "colab": {
     "base_uri": "https://localhost:8080/",
     "height": 34
    },
    "colab_type": "code",
    "executionInfo": {
     "elapsed": 1158,
     "status": "ok",
     "timestamp": 1573897635777,
     "user": {
      "displayName": "lovehk sing",
      "photoUrl": "https://lh3.google.com/a-/AAuE7mBQc5UaBuklX3apJ_VWCJ7yM-nT41netLeFWPg2=s64",
      "userId": "11175753879735056657"
     },
     "user_tz": -480
    },
    "id": "cwk20o7LARzl",
    "outputId": "ec952898-b769-402b-f165-c37d9ce99fe9"
   },
   "outputs": [
    {
     "name": "stdout",
     "output_type": "stream",
     "text": [
      "Submitted to Coursera platform. See results on assignment page!\n"
     ]
    }
   ],
   "source": [
    "grader.submit(STUDENT_EMAIL, STUDENT_TOKEN)"
   ]
  },
  {
   "cell_type": "code",
   "execution_count": 0,
   "metadata": {
    "colab": {},
    "colab_type": "code",
    "id": "c6jfucJTbPFt"
   },
   "outputs": [],
   "source": []
  }
 ],
 "metadata": {
  "colab": {
   "collapsed_sections": [],
   "name": "Copy of gp_assignment.ipynb",
   "provenance": [
    {
     "file_id": "https://github.com/hse-aml/bayesian-methods-for-ml/blob/master/week6/gp_assignment.ipynb",
     "timestamp": 1573887515701
    }
   ]
  },
  "kernelspec": {
   "display_name": "Python 3",
   "language": "python",
   "name": "python3"
  },
  "language_info": {
   "codemirror_mode": {
    "name": "ipython",
    "version": 3
   },
   "file_extension": ".py",
   "mimetype": "text/x-python",
   "name": "python",
   "nbconvert_exporter": "python",
   "pygments_lexer": "ipython3",
   "version": "3.6.8"
  },
  "latex_envs": {
   "bibliofile": "biblio.bib",
   "cite_by": "apalike",
   "current_citInitial": 1,
   "eqLabelWithNumbers": true,
   "eqNumInitial": 0
  }
 },
 "nbformat": 4,
 "nbformat_minor": 1
}
