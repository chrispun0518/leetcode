{
 "cells": [
  {
   "cell_type": "markdown",
   "metadata": {},
   "source": [
    "# 0. Packages version"
   ]
  },
  {
   "cell_type": "markdown",
   "metadata": {},
   "source": [
    "Here, we will first import all the packages we needed and list the verion of the packages.<br>\n",
    "\n",
    "numpy 1.17.2<br>\n",
    "pandas 0.24.2<br>\n",
    "sklearn 0.20.3<br>\n",
    "matplotlib 3.0.3<br>\n",
    "xgboost 0.90"
   ]
  },
  {
   "cell_type": "code",
   "execution_count": 3,
   "metadata": {},
   "outputs": [],
   "source": [
    "import numpy as np\n",
    "import pandas as pd \n",
    "import sklearn\n",
    "import matplotlib.pyplot as plt\n",
    "import xgboost as xgb\n",
    "from sklearn.ensemble import RandomForestRegressor\n",
    "from sklearn.metrics import mean_squared_error, r2_score\n",
    "from sklearn.model_selection import train_test_split\n",
    "from sklearn.linear_model import LinearRegression\n",
    "from sklearn.svm import SVR\n",
    "from sklearn.preprocessing import OneHotEncoder\n",
    "from lightgbm import LGBMRegressor"
   ]
  },
  {
   "cell_type": "markdown",
   "metadata": {},
   "source": [
    "# 1. Import Data And Simple Analysis"
   ]
  },
  {
   "cell_type": "markdown",
   "metadata": {},
   "source": [
    "First, we import both train and test data and compare the distribution of two datasets. <br>\n",
    "The train dataset consists of 33 months.<br>\n",
    "The target is to use them to predict the sales of each shops in the 34th months."
   ]
  },
  {
   "cell_type": "code",
   "execution_count": 4,
   "metadata": {},
   "outputs": [],
   "source": [
    "train = pd.read_csv('./sales_train.csv.gz')\n",
    "test = pd.read_csv('./test.csv.gz')\n",
    "shop_info = pd.read_csv('./shops.csv')\n",
    "item_info = pd.read_csv('./items.csv')\n",
    "item_cat_info = pd.read_csv('./item_categories.csv')"
   ]
  },
  {
   "cell_type": "code",
   "execution_count": 5,
   "metadata": {},
   "outputs": [
    {
     "name": "stdout",
     "output_type": "stream",
     "text": [
      "Index(['date', 'date_block_num', 'shop_id', 'item_id', 'item_price',\n",
      "       'item_cnt_day'],\n",
      "      dtype='object')\n",
      "Index(['ID', 'shop_id', 'item_id'], dtype='object')\n"
     ]
    }
   ],
   "source": [
    "print(train.columns)\n",
    "print(test.columns)"
   ]
  },
  {
   "cell_type": "markdown",
   "metadata": {},
   "source": [
    "The first question pops up in my mind is that:<br>\n",
    "Does every shop in test set appears in the train data set? <br>\n",
    "If not, we will have to interpolate the sales by other methods."
   ]
  },
  {
   "cell_type": "code",
   "execution_count": 4,
   "metadata": {},
   "outputs": [
    {
     "data": {
      "text/plain": [
       "55     34769\n",
       "56     69573\n",
       "57    117428\n",
       "58     71441\n",
       "59     42108\n",
       "Name: shop_id, dtype: int64"
      ]
     },
     "execution_count": 4,
     "metadata": {},
     "output_type": "execute_result"
    }
   ],
   "source": [
    "train['shop_id'].value_counts().sort_index().tail()"
   ]
  },
  {
   "cell_type": "code",
   "execution_count": 5,
   "metadata": {},
   "outputs": [
    {
     "data": {
      "text/plain": [
       "55    5100\n",
       "56    5100\n",
       "57    5100\n",
       "58    5100\n",
       "59    5100\n",
       "Name: shop_id, dtype: int64"
      ]
     },
     "execution_count": 5,
     "metadata": {},
     "output_type": "execute_result"
    }
   ],
   "source": [
    "test['shop_id'].value_counts().sort_index().tail()"
   ]
  },
  {
   "cell_type": "markdown",
   "metadata": {},
   "source": [
    "We know that:<br>\n",
    "range of shop_id in train set: 0 - 59 <br>\n",
    "range of shop_id in test set: 2 - 59 <br>\n",
    "Therefore, shops needed to be predicted are all in the train set. It seems that shop 0 and shop 1 was closed after Feb2013, we will also drop those data.\n",
    "\n",
    "On the other hand, in reality, we know that not all shops have the all type of goods. That is, some item_id may not exist for some shops. This may be a hint for potential data leakage."
   ]
  },
  {
   "cell_type": "code",
   "execution_count": 6,
   "metadata": {},
   "outputs": [],
   "source": [
    "target_item = set(test.item_id)\n",
    "target_shop = set(test.shop_id)\n",
    "id_not_exist = {}\n",
    "for shop in target_shop:\n",
    "    id_not_exist[shop] = list(target_item - set(train[train['shop_id'] ==shop].item_id))"
   ]
  },
  {
   "cell_type": "markdown",
   "metadata": {},
   "source": [
    "We Can see that there is a lot of item that did not record any sales in certain shop. So we will set the prediction for those (shop_id, item_id) pair to 0."
   ]
  },
  {
   "cell_type": "code",
   "execution_count": 7,
   "metadata": {},
   "outputs": [],
   "source": [
    "leakage_ans = pd.DataFrame(columns=['shop_id', 'item_id'])\n",
    "for shop in id_not_exist.keys():\n",
    "    items = id_not_exist[shop]\n",
    "    leakage_ans = leakage_ans.append(pd.DataFrame({'shop_id': [shop] * len(items), 'item_id' :items}))"
   ]
  },
  {
   "cell_type": "markdown",
   "metadata": {},
   "source": [
    "Similarly, we may focus on those product who are in both train set and test set"
   ]
  },
  {
   "cell_type": "code",
   "execution_count": 8,
   "metadata": {},
   "outputs": [],
   "source": [
    "train = train.merge(test[['shop_id', 'item_id']], left_on=['shop_id', 'item_id'], right_on=['shop_id', 'item_id'])"
   ]
  },
  {
   "cell_type": "markdown",
   "metadata": {},
   "source": [
    "As the data set is a time series, we will use the 20th to 31st month to predict 32nd month as the training period. <br>\n",
    "Later, we will use 21st to 32nd month to predict 33rd month as the validation period."
   ]
  },
  {
   "cell_type": "code",
   "execution_count": 9,
   "metadata": {},
   "outputs": [],
   "source": [
    "y_train_split = train[train['date_block_num'] == 32]\n",
    "y_train_split = y_train_split.groupby(['shop_id', 'item_id'])['item_cnt_day'].sum().reset_index()\n",
    "y_train_split.columns = ['shop_id', 'item_id', 'item_cnt_month']\n",
    "\n",
    "train_set = train[(train['date_block_num'] > 19) & (train['date_block_num'] < 32)]\n",
    "train_split = train_set.groupby(['date_block_num', 'shop_id', 'item_id'])['item_cnt_day'].sum().reset_index()\n",
    "train_split = train_split.merge(train_set.groupby(['date_block_num', 'shop_id', 'item_id'])['item_price'].min(),\n",
    "                                left_on=['date_block_num', 'shop_id', 'item_id'],\n",
    "                                right_index=True)\n",
    "\n",
    "train_split = train_split.merge(item_info[['item_id', 'item_category_id']], left_on='item_id', right_on='item_id')\n",
    "train_split.columns = ['date_block_num', 'shop_id', 'item_id', 'item_cnt_month', 'item_price', 'item_category_id']"
   ]
  },
  {
   "cell_type": "markdown",
   "metadata": {},
   "source": [
    "We now have a dataframe records the number of sales for each product in each shop per month, with the name 'item_cnt_month'. <br>\n",
    "According to the instruction of the project, the target variables of the test set are integers ranging from 0 to 20, so we will clip the item_cnt_month to 20."
   ]
  },
  {
   "cell_type": "code",
   "execution_count": 10,
   "metadata": {},
   "outputs": [],
   "source": [
    "train_split['item_cnt_month'] = train_split['item_cnt_month'].clip(0,20)"
   ]
  },
  {
   "cell_type": "markdown",
   "metadata": {},
   "source": [
    "# 2. EDA"
   ]
  },
  {
   "cell_type": "markdown",
   "metadata": {},
   "source": [
    "In the previous section, we can see that each shop_id appears 5100 times in the test set. We believe that the item_id in the test set is in fact a set of number that repeatedly appears 58 times. Therefore, it seems that it is interesting to mean encode the item_cnt_day of each item_id/item_category_id and shop_id to help the prediction.\n",
    "\n",
    "Therefore, we now conduct EDA to see what feature we can generate."
   ]
  },
  {
   "cell_type": "markdown",
   "metadata": {},
   "source": [
    "It seems that there is quite a strong seasonal effect for the sales, especially you can see two spikes for every december. We may include past 12 month data to capture the seasonal effect."
   ]
  },
  {
   "cell_type": "code",
   "execution_count": 13,
   "metadata": {},
   "outputs": [
    {
     "data": {
      "text/plain": [
       "<matplotlib.axes._subplots.AxesSubplot at 0x26e9f2aa278>"
      ]
     },
     "execution_count": 13,
     "metadata": {},
     "output_type": "execute_result"
    },
    {
     "data": {
      "image/png": "[encoded data removed]",
      "text/plain": [
       "<Figure size 432x288 with 1 Axes>"
      ]
     },
     "metadata": {
      "needs_background": "light"
     },
     "output_type": "display_data"
    }
   ],
   "source": [
    "train_split.groupby('date_block_num')['item_cnt_month'].sum().plot()"
   ]
  },
  {
   "cell_type": "markdown",
   "metadata": {},
   "source": [
    "Secondly, we can see that for different category, the total item_cnt_day is different, indicating that some categories are much more popular then other. <br>\n",
    "This mean that we can mean encode item_category_id by the item_cnt_month."
   ]
  },
  {
   "cell_type": "code",
   "execution_count": 14,
   "metadata": {},
   "outputs": [
    {
     "data": {
      "text/plain": [
       "<matplotlib.axes._subplots.AxesSubplot at 0x26e9f37a390>"
      ]
     },
     "execution_count": 14,
     "metadata": {},
     "output_type": "execute_result"
    },
    {
     "data": {
      "image/png": "[encoded data removed]",
      "text/plain": [
       "<Figure size 432x288 with 1 Axes>"
      ]
     },
     "metadata": {
      "needs_background": "light"
     },
     "output_type": "display_data"
    }
   ],
   "source": [
    "train_split.groupby('item_category_id')['item_cnt_month'].sum().plot()"
   ]
  },
  {
   "cell_type": "markdown",
   "metadata": {},
   "source": [
    "On the other hand, I can see that the item category names have a lot of common words, for example: category_id 1 to 7 starts with 'Аксессуары' which I think it can let me group the items to bigger categories"
   ]
  },
  {
   "cell_type": "code",
   "execution_count": 24,
   "metadata": {},
   "outputs": [
    {
     "data": {
      "text/plain": [
       "1         Аксессуары - PS2\n",
       "2         Аксессуары - PS3\n",
       "3         Аксессуары - PS4\n",
       "4         Аксессуары - PSP\n",
       "5      Аксессуары - PSVita\n",
       "6    Аксессуары - XBOX 360\n",
       "7    Аксессуары - XBOX ONE\n",
       "Name: item_category_name, dtype: object"
      ]
     },
     "execution_count": 24,
     "metadata": {},
     "output_type": "execute_result"
    }
   ],
   "source": [
    "item_cat_info['item_category_name'][1:8]"
   ]
  },
  {
   "cell_type": "code",
   "execution_count": 19,
   "metadata": {},
   "outputs": [
    {
     "data": {
      "text/plain": [
       "0             PC\n",
       "1     Аксессуары\n",
       "2     Аксессуары\n",
       "3     Аксессуары\n",
       "4     Аксессуары\n",
       "5     Аксессуары\n",
       "6     Аксессуары\n",
       "7     Аксессуары\n",
       "8         Билеты\n",
       "9       Доставка\n",
       "10       Игровые\n",
       "11       Игровые\n",
       "12       Игровые\n",
       "13       Игровые\n",
       "14       Игровые\n",
       "15       Игровые\n",
       "16       Игровые\n",
       "17       Игровые\n",
       "18          Игры\n",
       "19          Игры\n",
       "20          Игры\n",
       "21          Игры\n",
       "22          Игры\n",
       "23          Игры\n",
       "24          Игры\n",
       "25          Игры\n",
       "26          Игры\n",
       "27          Игры\n",
       "28          Игры\n",
       "29          Игры\n",
       "         ...    \n",
       "54         Книги\n",
       "55        Музыка\n",
       "56        Музыка\n",
       "57        Музыка\n",
       "58        Музыка\n",
       "59        Музыка\n",
       "60        Музыка\n",
       "61       Подарки\n",
       "62       Подарки\n",
       "63       Подарки\n",
       "64       Подарки\n",
       "65       Подарки\n",
       "66       Подарки\n",
       "67       Подарки\n",
       "68       Подарки\n",
       "69       Подарки\n",
       "70       Подарки\n",
       "71       Подарки\n",
       "72       Подарки\n",
       "73     Программы\n",
       "74     Программы\n",
       "75     Программы\n",
       "76     Программы\n",
       "77     Программы\n",
       "78     Программы\n",
       "79     Служебные\n",
       "80     Служебные\n",
       "81        Чистые\n",
       "82        Чистые\n",
       "83      Элементы\n",
       "Name: item_category_name, Length: 84, dtype: object"
      ]
     },
     "execution_count": 19,
     "metadata": {},
     "output_type": "execute_result"
    }
   ],
   "source": [
    "item_cat_info['item_category_name'].str.split(' ').apply(lambda x:x[0])"
   ]
  },
  {
   "cell_type": "markdown",
   "metadata": {},
   "source": [
    "# 3.  Feature engineering"
   ]
  },
  {
   "cell_type": "markdown",
   "metadata": {},
   "source": [
    "Since we believe that if the item_price drops after a period, then the product may be outdated and not popular at all. Which will mean that the future item_cnt_day decrease. So we create features about item_price changes."
   ]
  },
  {
   "cell_type": "code",
   "execution_count": 112,
   "metadata": {},
   "outputs": [],
   "source": [
    "train_for_fit = train_split.pivot_table(values='item_cnt_month', index=['item_id','shop_id'], columns=['date_block_num'], aggfunc=np.mean).fillna(0)\n",
    "train_for_fit.columns = ['past_block_'+ str(12 - i) for i in range(0,12)]\n",
    "pivoted_item_count = train_for_fit.copy()\n",
    "rolling_mean3m = pivoted_item_count.rolling(3,axis=1).mean().dropna(axis=1)\n",
    "rolling_mean3m.columns = ['past_block_3m_mean_'+ str(10 - i) for i in range(0,10)]\n",
    "train_for_fit = train_for_fit.merge(rolling_mean3m, left_index=True, right_index=True)\n",
    "rolling_mean6m = pivoted_item_count.rolling(6,axis=1).mean().dropna(axis=1)\n",
    "rolling_mean6m.columns = ['past_block_6m_mean_'+ str(7 - i) for i in range(0,7)]\n",
    "train_for_fit = train_for_fit.merge(rolling_mean6m, left_index=True, right_index=True)\n",
    "rolling_std6m = pivoted_item_count.rolling(6,axis=1).std().dropna(axis=1)\n",
    "rolling_std6m.columns = ['past_block_6m_std_'+ str(7 - i) for i in range(0,7)]\n",
    "train_for_fit = train_for_fit.merge(rolling_std6m, left_index=True, right_index=True)\n",
    "train_for_fit['std_item_cnt_month'] = pivoted_item_count.std(axis=1)\n",
    "train_for_fit['mean_item_cnt_month'] = train_for_fit.mean(axis=1)\n",
    "train_for_fit['recent_price'] = train_split.groupby(['item_id','shop_id'])['item_price'].min()\n",
    "\n",
    "train_for_fit['price_decrease'] = (train_split.groupby(['item_id','shop_id'])['item_price'].min() - train_split.groupby(['item_id','shop_id'])['item_price'].max())\n",
    "train_for_fit['price_change'] = (train_for_fit['price_decrease'] != 0)"
   ]
  },
  {
   "cell_type": "markdown",
   "metadata": {},
   "source": [
    "Generate average category month sales for each category"
   ]
  },
  {
   "cell_type": "code",
   "execution_count": 113,
   "metadata": {},
   "outputs": [],
   "source": [
    "mean_cat_cnt_id = train_split.pivot_table(values='item_cnt_month', index='item_category_id', columns ='date_block_num', aggfunc=np.mean).fillna(0).mean(axis=1)\n",
    "mean_cat_cnt_id = mean_cat_cnt_id.rename('mean_cat_cnt_id')\n",
    "train_for_fit = train_for_fit.reset_index()\n",
    "train_for_fit = train_for_fit.merge(item_info[['item_id','item_category_id']], left_on='item_id', right_on='item_id')\n",
    "train_for_fit = train_for_fit.merge(mean_cat_cnt_id, left_on='item_category_id', right_index=True)"
   ]
  },
  {
   "cell_type": "markdown",
   "metadata": {},
   "source": [
    "### Experiment feature"
   ]
  },
  {
   "cell_type": "code",
   "execution_count": 114,
   "metadata": {},
   "outputs": [],
   "source": [
    "train_for_fit = train_for_fit.merge(pd.get_dummies(train_for_fit['shop_id'], prefix='shop_id').iloc[:,:-1], left_index=True, right_index=True)"
   ]
  },
  {
   "cell_type": "markdown",
   "metadata": {},
   "source": [
    "# 4.Building Model "
   ]
  },
  {
   "cell_type": "markdown",
   "metadata": {},
   "source": [
    "Again, as the data set is a time series, we will use the 20th to 31st month to predict 32nd month as the training period. <br>\n",
    "Later, we will use 21st to 32nd month to predict 33rd month as the validation period."
   ]
  },
  {
   "cell_type": "markdown",
   "metadata": {},
   "source": [
    "For model metric, although in the project, the evaluation is based on RMSE, but I think R2 is much easier to interpret and it is equivalent to R2. Therefore, I will use R2 score to evaluate the model."
   ]
  },
  {
   "cell_type": "code",
   "execution_count": 86,
   "metadata": {},
   "outputs": [],
   "source": [
    "X = train_for_fit.drop(['item_category_id'], axis=1)\n",
    "y = y_train_split\n",
    "full_data = X.merge(y, left_on=['shop_id', 'item_id'], right_on=['shop_id', 'item_id'])\n",
    "X_train = full_data.drop(['shop_id', 'item_id', 'item_cnt_month'], axis=1)\n",
    "y_train = full_data['item_cnt_month']\n",
    "y_train = y_train.clip(0,20)"
   ]
  },
  {
   "cell_type": "code",
   "execution_count": 90,
   "metadata": {},
   "outputs": [
    {
     "name": "stdout",
     "output_type": "stream",
     "text": [
      "87 4 0.91 0.62 0.19999999999999996 264 3\n"
     ]
    }
   ],
   "source": [
    "n_estimators_xgb = np.random.choice(np.arange(10, 100))\n",
    "max_depth_xgb = np.random.choice(np.arange(1, 11))\n",
    "reg_lambda_xgb = np.random.choice(np.arange(0, 2, 0.01))\n",
    "reg_alpha_xgb = np.random.choice(np.arange(0, 2, 0.01))\n",
    "learning_rate_xgb = np.random.choice(np.arange(0.1, 0.5,0.01))\n",
    "n_estimators_rf = np.random.choice(np.arange(100, 500))\n",
    "max_depth_rf = np.random.choice(np.arange(1,11))\n",
    "\n",
    "print(n_estimators_xgb,\n",
    "max_depth_xgb,\n",
    "reg_lambda_xgb,\n",
    "reg_alpha_xgb,\n",
    "learning_rate_xgb,\n",
    "n_estimators_rf,\n",
    "max_depth_rf)"
   ]
  },
  {
   "cell_type": "code",
   "execution_count": 91,
   "metadata": {},
   "outputs": [],
   "source": [
    "# n_estimators_xgb = 47\n",
    "# max_depth_xgb = 3\n",
    "# reg_lambda_xgb = 1.71\n",
    "# reg_alpha_xgb = 1.343\n",
    "# learning_rate_xgb = 0.14\n",
    "# n_estimators_rf = 436\n",
    "# max_depth_rf = 3"
   ]
  },
  {
   "cell_type": "code",
   "execution_count": 92,
   "metadata": {},
   "outputs": [
    {
     "name": "stderr",
     "output_type": "stream",
     "text": [
      "C:\\Users\\starm\\Anaconda3\\envs\\py3.6\\lib\\site-packages\\xgboost\\core.py:587: FutureWarning: Series.base is deprecated and will be removed in a future version\n",
      "  if getattr(data, 'base', None) is not None and \\\n"
     ]
    },
    {
     "name": "stdout",
     "output_type": "stream",
     "text": [
      "train model r2 score: 0.7276299124714829\n",
      "train model r2 score: 1.1434803052857727\n"
     ]
    }
   ],
   "source": [
    "model1 = xgb.XGBRegressor(n_estimators=n_estimators_xgb,\n",
    "                          max_depth=max_depth_xgb,\n",
    "                          learning_rate=learning_rate_xgb,\n",
    "                          reg_lambda = reg_lambda_xgb,\n",
    "                          reg_alpha = reg_alpha_xgb,\n",
    "                          n_jobs=-1,\n",
    "                          random_state=9,\n",
    "                          objective='reg:squarederror')\n",
    "model1.fit(X_train, y_train)\n",
    "output1 = model1.predict(X_train)\n",
    "model2 = RandomForestRegressor(n_estimators=n_estimators_rf,\n",
    "                               max_depth=max_depth_rf,\n",
    "                               random_state=9,\n",
    "                               n_jobs=-1)\n",
    "model2.fit(X_train, y_train)\n",
    "output2 = model2.predict(X_train)\n",
    "input_layer2=np.c_[output1,output2]\n",
    "model3 = LinearRegression()\n",
    "model3.fit(input_layer2, y_train)\n",
    "print('train model r2 score: ' + str(r2_score(y_train, model3.predict(input_layer2))))\n",
    "print('train model r2 score: ' + str(np.sqrt(mean_squared_error(y_train, model3.predict(input_layer2)))))"
   ]
  },
  {
   "cell_type": "markdown",
   "metadata": {},
   "source": [
    "Although one may argue that the r2 score here did not count those (item_id, shop_id) pairs that did not appear in both 19th-31st (training X) and 32nd (training y) period , at least we are confident with those appears in both data. We can see whether we have to deal with those appear in y but not in X period later. <br>\n",
    "At this moment, we can submit the score by filling those which are in test set but not in traning set with 0 zero and see how is the score."
   ]
  },
  {
   "cell_type": "markdown",
   "metadata": {},
   "source": [
    "### Validation"
   ]
  },
  {
   "cell_type": "code",
   "execution_count": 115,
   "metadata": {
    "scrolled": false
   },
   "outputs": [],
   "source": [
    "y_val_split = train[train['date_block_num'] == 33]\n",
    "y_val_split = y_val_split.groupby(['shop_id', 'item_id'])['item_cnt_day'].sum().reset_index()\n",
    "y_val_split.columns = ['shop_id', 'item_id', 'item_cnt_month']\n",
    "\n",
    "val_set = train[(train['date_block_num'] > 20) & (train['date_block_num'] < 33)]\n",
    "val_split = val_set.groupby(['date_block_num', 'shop_id', 'item_id'])['item_cnt_day'].sum().reset_index()\n",
    "val_split = val_split.merge(val_set.groupby(['date_block_num', 'shop_id', 'item_id'])['item_price'].min(),\n",
    "                                left_on=['date_block_num', 'shop_id', 'item_id'],\n",
    "                                right_index=True)\n",
    "\n",
    "val_split = val_split.merge(item_info[['item_id', 'item_category_id']], left_on='item_id', right_on='item_id')\n",
    "val_split.columns = ['date_block_num', 'shop_id', 'item_id', 'item_cnt_month', 'item_price', 'item_category_id']\n",
    "\n",
    "val_for_fit = val_split.pivot_table(values='item_cnt_month', index=['item_id','shop_id'], columns=['date_block_num'], aggfunc=np.mean).fillna(0)\n",
    "val_for_fit.columns = ['past_block_'+ str(12 - i) for i in range(0,12)]\n",
    "pivoted_item_count = val_for_fit.copy()\n",
    "rolling_mean3m = pivoted_item_count.rolling(3,axis=1).mean().dropna(axis=1)\n",
    "rolling_mean3m.columns = ['past_block_3m_mean_'+ str(10 - i) for i in range(0,10)]\n",
    "val_for_fit = val_for_fit.merge(rolling_mean3m, left_index=True, right_index=True)\n",
    "rolling_mean6m = pivoted_item_count.rolling(6,axis=1).mean().dropna(axis=1)\n",
    "rolling_mean6m.columns = ['past_block_6m_mean_'+ str(7 - i) for i in range(0,7)]\n",
    "val_for_fit = val_for_fit.merge(rolling_mean6m, left_index=True, right_index=True)\n",
    "rolling_std6m = pivoted_item_count.rolling(6,axis=1).std().dropna(axis=1)\n",
    "rolling_std6m.columns = ['past_block_6m_std_'+ str(7 - i) for i in range(0,7)]\n",
    "val_for_fit = val_for_fit.merge(rolling_std6m, left_index=True, right_index=True)\n",
    "val_for_fit['std_item_cnt_month'] = pivoted_item_count.std(axis=1)\n",
    "val_for_fit['mean_item_cnt_month'] = val_for_fit.mean(axis=1)\n",
    "val_for_fit['recent_price'] = val_split.groupby(['item_id','shop_id'])['item_price'].min()\n",
    "\n",
    "val_for_fit['price_decrease'] = (val_split.groupby(['item_id','shop_id'])['item_price'].min() - val_split.groupby(['item_id','shop_id'])['item_price'].max())\n",
    "val_for_fit['price_change'] = (val_for_fit['price_decrease'] != 0)\n",
    "\n",
    "mean_cat_cnt_id = val_split.pivot_table(values='item_cnt_month', index='item_category_id', columns ='date_block_num', aggfunc=np.mean).fillna(0).mean(axis=1)\n",
    "mean_cat_cnt_id = mean_cat_cnt_id.rename('mean_cat_cnt_id')\n",
    "val_for_fit = val_for_fit.reset_index()\n",
    "val_for_fit = val_for_fit.merge(item_info[['item_id','item_category_id']], left_on='item_id', right_on='item_id')\n",
    "val_for_fit = val_for_fit.merge(mean_cat_cnt_id, left_on='item_category_id', right_index=True)\n",
    "val_for_fit = val_for_fit.merge(pd.get_dummies(val_for_fit['shop_id'], prefix='shop_id').iloc[:,:-1], left_index=True, right_index=True)"
   ]
  },
  {
   "cell_type": "code",
   "execution_count": 39,
   "metadata": {},
   "outputs": [],
   "source": [
    "X = val_for_fit.drop(['item_category_id'], axis=1)\n",
    "y = y_val_split\n",
    "full_data = X.merge(y, left_on=['shop_id', 'item_id'], right_on=['shop_id', 'item_id'])\n",
    "X_val = full_data.drop(['shop_id', 'item_id', 'item_cnt_month'], axis=1)\n",
    "y_val = full_data['item_cnt_month']\n",
    "y_val = y_val.clip(0,20)"
   ]
  },
  {
   "cell_type": "code",
   "execution_count": null,
   "metadata": {},
   "outputs": [],
   "source": [
    "output1 = model1.predict(X_val)\n",
    "output2 = model2.predict(X_val)\n",
    "input_layer2=np.c_[output1,output2]\n",
    "output3 = model3.predict(input_layer2)\n",
    "print('val model r2 score: ' + str(r2_score(y_val, model3.predict(input_layer2))))\n",
    "print('val model r2 score: ' + str(np.sqrt(mean_squared_error(y_val, model3.predict(input_layer2)))))"
   ]
  },
  {
   "cell_type": "code",
   "execution_count": 111,
   "metadata": {},
   "outputs": [
    {
     "data": {
      "text/plain": [
       "Index(['item_id', 'shop_id', 'past_block_12', 'past_block_11', 'past_block_10',\n",
       "       'past_block_9', 'past_block_8', 'past_block_7', 'past_block_6',\n",
       "       'past_block_5', 'past_block_4', 'past_block_3', 'past_block_2',\n",
       "       'past_block_1', 'past_block_3m_mean_10', 'past_block_3m_mean_9',\n",
       "       'past_block_3m_mean_8', 'past_block_3m_mean_7', 'past_block_3m_mean_6',\n",
       "       'past_block_3m_mean_5', 'past_block_3m_mean_4', 'past_block_3m_mean_3',\n",
       "       'past_block_3m_mean_2', 'past_block_3m_mean_1', 'past_block_6m_mean_7',\n",
       "       'past_block_6m_mean_6', 'past_block_6m_mean_5', 'past_block_6m_mean_4',\n",
       "       'past_block_6m_mean_3', 'past_block_6m_mean_2', 'past_block_6m_mean_1',\n",
       "       'past_block_6m_std_7', 'past_block_6m_std_6', 'past_block_6m_std_5',\n",
       "       'past_block_6m_std_4', 'past_block_6m_std_3', 'past_block_6m_std_2',\n",
       "       'past_block_6m_std_1', 'std_item_cnt_month', 'mean_item_cnt_month',\n",
       "       'recent_price', 'price_decrease', 'price_change', 'item_category_id',\n",
       "       'mean_cat_cnt_id'],\n",
       "      dtype='object')"
      ]
     },
     "execution_count": 111,
     "metadata": {},
     "output_type": "execute_result"
    }
   ],
   "source": [
    "train_for_fit.columns"
   ]
  },
  {
   "cell_type": "markdown",
   "metadata": {},
   "source": [
    "The model may be a little bit overfitted. However, we can still try to submit the result and see how it goes."
   ]
  },
  {
   "cell_type": "markdown",
   "metadata": {},
   "source": [
    "## Refit the model with val set"
   ]
  },
  {
   "cell_type": "code",
   "execution_count": null,
   "metadata": {},
   "outputs": [],
   "source": [
    "model1 = xgb.XGBRegressor(n_estimators=32,\n",
    "                          max_depth=1,\n",
    "                          reg_lambda=1.71, \n",
    "                          reg_alpha=1.34,\n",
    "                          learning_rate=0.24,\n",
    "                          n_jobs = -1,\n",
    "                          random_state=9,\n",
    "                          objective='reg:squarederror')\n",
    "model1.fit(X_val, y_val)\n",
    "output1 = model1.predict(X_val)\n",
    "model2 = RandomForestRegressor(n_estimators=341,\n",
    "                               max_depth=1,\n",
    "                               random_state=9,\n",
    "                               n_jobs=-1)\n",
    "model2.fit(X_val, y_val)\n",
    "output2 = model2.predict(X_val)\n",
    "input_layer2=np.c_[output1,output2]\n",
    "model3 = LinearRegression()\n",
    "model3.fit(input_layer2, y_val)\n",
    "print('model r2 score: ' + str(r2_score(y_val, model3.predict(input_layer2))))"
   ]
  },
  {
   "cell_type": "markdown",
   "metadata": {},
   "source": [
    "# 5. Predicting test set and submit"
   ]
  },
  {
   "cell_type": "code",
   "execution_count": null,
   "metadata": {
    "scrolled": true
   },
   "outputs": [],
   "source": [
    "test_set = train[(train['date_block_num'] > 21)]\n",
    "test_split = test_set.groupby(['date_block_num', 'shop_id', 'item_id'])['item_cnt_day'].sum().reset_index()\n",
    "test_split = test_split.merge(test_set.groupby(['date_block_num', 'shop_id', 'item_id'])['item_price'].min(),\n",
    "                                left_on=['date_block_num', 'shop_id', 'item_id'],\n",
    "                                right_index=True)\n",
    "\n",
    "test_split = test_split.merge(item_info[['item_id', 'item_category_id']], left_on='item_id', right_on='item_id')\n",
    "test_split.columns = ['date_block_num', 'shop_id', 'item_id', 'item_cnt_month', 'item_price', 'item_category_id']\n",
    "\n",
    "test_for_fit = test_split.pivot_table(values='item_cnt_month', index=['item_id','shop_id'], columns=['date_block_num'], aggfunc=np.mean).fillna(0)\n",
    "test_for_fit.columns = ['past_block_'+ str(12 - i) for i in range(0,12)]\n",
    "pivoted_item_count = test_for_fit.copy()\n",
    "rolling_mean3m = pivoted_item_count.rolling(3,axis=1).mean().dropna(axis=1)\n",
    "rolling_mean3m.columns = ['past_block_3m_mean_'+ str(10 - i) for i in range(0,10)]\n",
    "test_for_fit = test_for_fit.merge(rolling_mean3m, left_index=True, right_index=True)\n",
    "rolling_mean6m = pivoted_item_count.rolling(6,axis=1).mean().dropna(axis=1)\n",
    "rolling_mean6m.columns = ['past_block_6m_mean_'+ str(7 - i) for i in range(0,7)]\n",
    "test_for_fit = test_for_fit.merge(rolling_mean6m, left_index=True, right_index=True)\n",
    "test_for_fit['std_item_cnt_month'] = pivoted_item_count.std(axis=1)\n",
    "test_for_fit['mean_item_cnt_month'] = test_for_fit.mean(axis=1)\n",
    "test_for_fit['recent_price'] = test_split.groupby(['item_id','shop_id'])['item_price'].min()\n",
    "\n",
    "test_for_fit['price_decrease'] = (test_split.groupby(['item_id','shop_id'])['item_price'].min() - test_split.groupby(['item_id','shop_id'])['item_price'].max())\n",
    "test_for_fit['price_change'] = (test_for_fit['price_decrease'] != 0)\n",
    "\n",
    "mean_cat_cnt_id = test_split.pivot_table(values='item_cnt_month', index='item_category_id', columns ='date_block_num', aggfunc=np.mean).fillna(0).mean(axis=1)\n",
    "mean_cat_cnt_id = mean_cat_cnt_id.rename('mean_cat_cnt_id')\n",
    "test_for_fit = test_for_fit.reset_index()\n",
    "test_for_fit = test_for_fit.merge(item_info[['item_id','item_category_id']], left_on='item_id', right_on='item_id')\n",
    "test_for_fit = test_for_fit.merge(mean_cat_cnt_id, left_on='item_category_id', right_index=True)"
   ]
  },
  {
   "cell_type": "code",
   "execution_count": null,
   "metadata": {},
   "outputs": [],
   "source": [
    "X = test_for_fit.drop(['item_category_id'], axis=1)\n",
    "y= test\n",
    "full_data = X.merge(y, left_on=['shop_id', 'item_id'], right_on=['shop_id', 'item_id'])\n",
    "X_test = full_data.drop(['shop_id', 'item_id', 'ID'], axis=1)"
   ]
  },
  {
   "cell_type": "code",
   "execution_count": null,
   "metadata": {},
   "outputs": [],
   "source": [
    "output1 = model1.predict(X_test)\n",
    "output2 = model2.predict(X_test)\n",
    "input_layer2=np.c_[output1,output2]\n",
    "output3 = model3.predict(input_layer2)\n",
    "full_data['item_cnt_month'] = output3\n",
    "full_data['item_cnt_month'] = full_data['item_cnt_month'].clip(0,20)\n",
    "result = test.merge(full_data[['ID','item_cnt_month']], left_on='ID', right_on='ID', how='outer').fillna(0)\n",
    "result = result[['ID','item_cnt_month']]\n",
    "result['item_cnt_month'] = result['item_cnt_month'].round()\n",
    "result.to_csv('submission.csv', index=False)"
   ]
  },
  {
   "cell_type": "code",
   "execution_count": null,
   "metadata": {},
   "outputs": [],
   "source": [
    "li = pd.Series(model1.feature_importances_, X_train.columns).sort_values()[pd.Series(model1.feature_importances_, X_train.columns).sort_values()>0].index"
   ]
  },
  {
   "cell_type": "code",
   "execution_count": null,
   "metadata": {},
   "outputs": [],
   "source": [
    "pd.Series(model2.feature_importances_, X_train.columns).sort_values()"
   ]
  },
  {
   "cell_type": "code",
   "execution_count": null,
   "metadata": {},
   "outputs": [],
   "source": [
    "    model1 = xgb.XGBRegressor(n_estimators=n_estimators_xgb,\n",
    "                              max_depth=max_depth_xgb,\n",
    "                              learning_rate=learning_rate_xgb,\n",
    "                              reg_lambda = reg_lambda_xgb,\n",
    "                              reg_alpha = reg_alpha_xgb,\n",
    "                              n_jobs=-1,\n",
    "                              random_state=9,\n",
    "                              objective='reg:squarederror')\n",
    "    model1.fit(X_train, y_train)"
   ]
  },
  {
   "cell_type": "code",
   "execution_count": 116,
   "metadata": {},
   "outputs": [
    {
     "name": "stdout",
     "output_type": "stream",
     "text": [
      "trial: 1\n",
      "95 4 0.59 0.6900000000000001 0.24999999999999992 174 3\n"
     ]
    },
    {
     "name": "stderr",
     "output_type": "stream",
     "text": [
      "C:\\Users\\starm\\Anaconda3\\envs\\py3.6\\lib\\site-packages\\xgboost\\core.py:587: FutureWarning: Series.base is deprecated and will be removed in a future version\n",
      "  if getattr(data, 'base', None) is not None and \\\n",
      "C:\\Users\\starm\\Anaconda3\\envs\\py3.6\\lib\\site-packages\\sklearn\\svm\\base.py:196: FutureWarning: The default value of gamma will change from 'auto' to 'scale' in version 0.22 to account better for unscaled features. Set gamma explicitly to 'auto' or 'scale' to avoid this warning.\n",
      "  \"avoid this warning.\", FutureWarning)\n"
     ]
    },
    {
     "name": "stdout",
     "output_type": "stream",
     "text": [
      "train model r2 score: 0.734542928411225\n",
      "train model r2 score: 1.1288757226949733\n",
      "val model r2 score: 0.3200648302132115\n",
      "val model r2 score: 1.781952223509592\n",
      "trial: 2\n",
      "58 1 1.28 1.23 0.3199999999999999 174 8\n"
     ]
    },
    {
     "name": "stderr",
     "output_type": "stream",
     "text": [
      "C:\\Users\\starm\\Anaconda3\\envs\\py3.6\\lib\\site-packages\\xgboost\\core.py:587: FutureWarning: Series.base is deprecated and will be removed in a future version\n",
      "  if getattr(data, 'base', None) is not None and \\\n",
      "C:\\Users\\starm\\Anaconda3\\envs\\py3.6\\lib\\site-packages\\sklearn\\svm\\base.py:196: FutureWarning: The default value of gamma will change from 'auto' to 'scale' in version 0.22 to account better for unscaled features. Set gamma explicitly to 'auto' or 'scale' to avoid this warning.\n",
      "  \"avoid this warning.\", FutureWarning)\n"
     ]
    },
    {
     "name": "stdout",
     "output_type": "stream",
     "text": [
      "train model r2 score: 0.7016968319498895\n",
      "train model r2 score: 1.196679679906745\n",
      "val model r2 score: 0.2446985766266916\n"
     ]
    },
    {
     "ename": "KeyboardInterrupt",
     "evalue": "",
     "output_type": "error",
     "traceback": [
      "\u001b[1;31m---------------------------------------------------------------------------\u001b[0m",
      "\u001b[1;31mKeyboardInterrupt\u001b[0m                         Traceback (most recent call last)",
      "\u001b[1;32m<ipython-input-116-4f77bb052901>\u001b[0m in \u001b[0;36m<module>\u001b[1;34m\u001b[0m\n\u001b[0;32m     58\u001b[0m     \u001b[0moutput3\u001b[0m \u001b[1;33m=\u001b[0m \u001b[0mmodel3\u001b[0m\u001b[1;33m.\u001b[0m\u001b[0mpredict\u001b[0m\u001b[1;33m(\u001b[0m\u001b[0minput_layer2\u001b[0m\u001b[1;33m)\u001b[0m\u001b[1;33m\u001b[0m\u001b[1;33m\u001b[0m\u001b[0m\n\u001b[0;32m     59\u001b[0m     \u001b[0mprint\u001b[0m\u001b[1;33m(\u001b[0m\u001b[1;34m'val model r2 score: '\u001b[0m \u001b[1;33m+\u001b[0m \u001b[0mstr\u001b[0m\u001b[1;33m(\u001b[0m\u001b[0mr2_score\u001b[0m\u001b[1;33m(\u001b[0m\u001b[0my_val\u001b[0m\u001b[1;33m,\u001b[0m \u001b[0mmodel3\u001b[0m\u001b[1;33m.\u001b[0m\u001b[0mpredict\u001b[0m\u001b[1;33m(\u001b[0m\u001b[0minput_layer2\u001b[0m\u001b[1;33m)\u001b[0m\u001b[1;33m)\u001b[0m\u001b[1;33m)\u001b[0m\u001b[1;33m)\u001b[0m\u001b[1;33m\u001b[0m\u001b[1;33m\u001b[0m\u001b[0m\n\u001b[1;32m---> 60\u001b[1;33m     \u001b[0mprint\u001b[0m\u001b[1;33m(\u001b[0m\u001b[1;34m'val model r2 score: '\u001b[0m \u001b[1;33m+\u001b[0m \u001b[0mstr\u001b[0m\u001b[1;33m(\u001b[0m\u001b[0mnp\u001b[0m\u001b[1;33m.\u001b[0m\u001b[0msqrt\u001b[0m\u001b[1;33m(\u001b[0m\u001b[0mmean_squared_error\u001b[0m\u001b[1;33m(\u001b[0m\u001b[0my_val\u001b[0m\u001b[1;33m,\u001b[0m \u001b[0mmodel3\u001b[0m\u001b[1;33m.\u001b[0m\u001b[0mpredict\u001b[0m\u001b[1;33m(\u001b[0m\u001b[0minput_layer2\u001b[0m\u001b[1;33m)\u001b[0m\u001b[1;33m)\u001b[0m\u001b[1;33m)\u001b[0m\u001b[1;33m)\u001b[0m\u001b[1;33m)\u001b[0m\u001b[1;33m\u001b[0m\u001b[1;33m\u001b[0m\u001b[0m\n\u001b[0m",
      "\u001b[1;32m~\\Anaconda3\\envs\\py3.6\\lib\\site-packages\\sklearn\\svm\\base.py\u001b[0m in \u001b[0;36mpredict\u001b[1;34m(self, X)\u001b[0m\n\u001b[0;32m    325\u001b[0m         \u001b[0mX\u001b[0m \u001b[1;33m=\u001b[0m \u001b[0mself\u001b[0m\u001b[1;33m.\u001b[0m\u001b[0m_validate_for_predict\u001b[0m\u001b[1;33m(\u001b[0m\u001b[0mX\u001b[0m\u001b[1;33m)\u001b[0m\u001b[1;33m\u001b[0m\u001b[1;33m\u001b[0m\u001b[0m\n\u001b[0;32m    326\u001b[0m         \u001b[0mpredict\u001b[0m \u001b[1;33m=\u001b[0m \u001b[0mself\u001b[0m\u001b[1;33m.\u001b[0m\u001b[0m_sparse_predict\u001b[0m \u001b[1;32mif\u001b[0m \u001b[0mself\u001b[0m\u001b[1;33m.\u001b[0m\u001b[0m_sparse\u001b[0m \u001b[1;32melse\u001b[0m \u001b[0mself\u001b[0m\u001b[1;33m.\u001b[0m\u001b[0m_dense_predict\u001b[0m\u001b[1;33m\u001b[0m\u001b[1;33m\u001b[0m\u001b[0m\n\u001b[1;32m--> 327\u001b[1;33m         \u001b[1;32mreturn\u001b[0m \u001b[0mpredict\u001b[0m\u001b[1;33m(\u001b[0m\u001b[0mX\u001b[0m\u001b[1;33m)\u001b[0m\u001b[1;33m\u001b[0m\u001b[1;33m\u001b[0m\u001b[0m\n\u001b[0m\u001b[0;32m    328\u001b[0m \u001b[1;33m\u001b[0m\u001b[0m\n\u001b[0;32m    329\u001b[0m     \u001b[1;32mdef\u001b[0m \u001b[0m_dense_predict\u001b[0m\u001b[1;33m(\u001b[0m\u001b[0mself\u001b[0m\u001b[1;33m,\u001b[0m \u001b[0mX\u001b[0m\u001b[1;33m)\u001b[0m\u001b[1;33m:\u001b[0m\u001b[1;33m\u001b[0m\u001b[1;33m\u001b[0m\u001b[0m\n",
      "\u001b[1;32m~\\Anaconda3\\envs\\py3.6\\lib\\site-packages\\sklearn\\svm\\base.py\u001b[0m in \u001b[0;36m_dense_predict\u001b[1;34m(self, X)\u001b[0m\n\u001b[0;32m    348\u001b[0m             \u001b[0mself\u001b[0m\u001b[1;33m.\u001b[0m\u001b[0mprobA_\u001b[0m\u001b[1;33m,\u001b[0m \u001b[0mself\u001b[0m\u001b[1;33m.\u001b[0m\u001b[0mprobB_\u001b[0m\u001b[1;33m,\u001b[0m \u001b[0msvm_type\u001b[0m\u001b[1;33m=\u001b[0m\u001b[0msvm_type\u001b[0m\u001b[1;33m,\u001b[0m \u001b[0mkernel\u001b[0m\u001b[1;33m=\u001b[0m\u001b[0mkernel\u001b[0m\u001b[1;33m,\u001b[0m\u001b[1;33m\u001b[0m\u001b[1;33m\u001b[0m\u001b[0m\n\u001b[0;32m    349\u001b[0m             \u001b[0mdegree\u001b[0m\u001b[1;33m=\u001b[0m\u001b[0mself\u001b[0m\u001b[1;33m.\u001b[0m\u001b[0mdegree\u001b[0m\u001b[1;33m,\u001b[0m \u001b[0mcoef0\u001b[0m\u001b[1;33m=\u001b[0m\u001b[0mself\u001b[0m\u001b[1;33m.\u001b[0m\u001b[0mcoef0\u001b[0m\u001b[1;33m,\u001b[0m \u001b[0mgamma\u001b[0m\u001b[1;33m=\u001b[0m\u001b[0mself\u001b[0m\u001b[1;33m.\u001b[0m\u001b[0m_gamma\u001b[0m\u001b[1;33m,\u001b[0m\u001b[1;33m\u001b[0m\u001b[1;33m\u001b[0m\u001b[0m\n\u001b[1;32m--> 350\u001b[1;33m             cache_size=self.cache_size)\n\u001b[0m\u001b[0;32m    351\u001b[0m \u001b[1;33m\u001b[0m\u001b[0m\n\u001b[0;32m    352\u001b[0m     \u001b[1;32mdef\u001b[0m \u001b[0m_sparse_predict\u001b[0m\u001b[1;33m(\u001b[0m\u001b[0mself\u001b[0m\u001b[1;33m,\u001b[0m \u001b[0mX\u001b[0m\u001b[1;33m)\u001b[0m\u001b[1;33m:\u001b[0m\u001b[1;33m\u001b[0m\u001b[1;33m\u001b[0m\u001b[0m\n",
      "\u001b[1;31mKeyboardInterrupt\u001b[0m: "
     ]
    }
   ],
   "source": [
    "for i in range(1,20):\n",
    "    print('trial: ' + str(i))\n",
    "    n_estimators_xgb = np.random.choice(np.arange(10, 100))\n",
    "    max_depth_xgb = np.random.choice(np.arange(1, 5))\n",
    "    reg_lambda_xgb = np.random.choice(np.arange(0, 2, 0.01))\n",
    "    reg_alpha_xgb = np.random.choice(np.arange(0, 2, 0.01))\n",
    "    learning_rate_xgb = np.random.choice(np.arange(0.1, 0.5,0.01))\n",
    "    n_estimators_rf = np.random.choice(np.arange(100, 500))\n",
    "    max_depth_rf = np.random.choice(np.arange(1,11))\n",
    "\n",
    "    print(n_estimators_xgb,\n",
    "    max_depth_xgb,\n",
    "    reg_lambda_xgb,\n",
    "    reg_alpha_xgb,\n",
    "    learning_rate_xgb,\n",
    "    n_estimators_rf,\n",
    "    max_depth_rf)\n",
    "    \n",
    "    X = train_for_fit.drop(['item_category_id'], axis=1)\n",
    "    y = y_train_split\n",
    "    full_data = X.merge(y, left_on=['shop_id', 'item_id'], right_on=['shop_id', 'item_id'])\n",
    "    X_train = full_data.drop(['shop_id', 'item_id', 'item_cnt_month'], axis=1)\n",
    "    y_train = full_data['item_cnt_month']\n",
    "    y_train = y_train.clip(0,20)\n",
    "\n",
    "    model1 = xgb.XGBRegressor(n_estimators=n_estimators_xgb,\n",
    "                              max_depth=max_depth_xgb,\n",
    "                              learning_rate=learning_rate_xgb,\n",
    "                              reg_lambda = reg_lambda_xgb,\n",
    "                              reg_alpha = reg_alpha_xgb,\n",
    "                              n_jobs=-1,\n",
    "                              random_state=9,\n",
    "                              objective='reg:squarederror')\n",
    "    model1.fit(X_train, y_train)\n",
    "    output1 = model1.predict(X_train)\n",
    "    model2 = RandomForestRegressor(n_estimators=n_estimators_rf,\n",
    "                                   max_depth=max_depth_rf,\n",
    "                                   random_state=9,\n",
    "                                   n_jobs=-1)\n",
    "    model2.fit(X_train, y_train)\n",
    "    output2 = model2.predict(X_train)\n",
    "    input_layer2=np.c_[output1,output2]\n",
    "    model3 = SVR()\n",
    "    model3.fit(input_layer2, y_train)\n",
    "    print('train model r2 score: ' + str(r2_score(y_train, model3.predict(input_layer2))))\n",
    "    print('train model r2 score: ' + str(np.sqrt(mean_squared_error(y_train, model3.predict(input_layer2)))))\n",
    "\n",
    "    X = val_for_fit.drop(['item_category_id'], axis=1)\n",
    "    y = y_val_split\n",
    "    full_data = X.merge(y, left_on=['shop_id', 'item_id'], right_on=['shop_id', 'item_id'])\n",
    "    X_val = full_data.drop(['shop_id', 'item_id', 'item_cnt_month'], axis=1)\n",
    "    y_val = full_data['item_cnt_month']\n",
    "    y_val = y_val.clip(0,20)\n",
    "\n",
    "    output1 = model1.predict(X_val)\n",
    "    output2 = model2.predict(X_val)\n",
    "    input_layer2=np.c_[output1,output2]\n",
    "    output3 = model3.predict(input_layer2)\n",
    "    print('val model r2 score: ' + str(r2_score(y_val, model3.predict(input_layer2))))\n",
    "    print('val model r2 score: ' + str(np.sqrt(mean_squared_error(y_val, model3.predict(input_layer2)))))"
   ]
  },
  {
   "cell_type": "code",
   "execution_count": null,
   "metadata": {},
   "outputs": [],
   "source": [
    "import keras\n",
    "from keras import Sequential\n",
    "from keras.layers import Dense, Dropout"
   ]
  },
  {
   "cell_type": "code",
   "execution_count": null,
   "metadata": {},
   "outputs": [],
   "source": []
  },
  {
   "cell_type": "code",
   "execution_count": null,
   "metadata": {},
   "outputs": [],
   "source": [
    "model4 = Sequential()\n",
    "model4.add(Dense(256, activation='relu'))\n",
    "model4.add(Dropout(0.1))\n",
    "model4.add(Dense(64, activation='relu'))\n",
    "model4.add(Dropout(0.1))\n",
    "model4.add(Dense(32, activation='relu'))\n",
    "model4.add(Dropout(0.1))\n",
    "model4.add(Dense(16, activation='relu'))\n",
    "model4.add(Dropout(0.1))\n",
    "model4.add(Dense(4, activation='relu'))\n",
    "model4.add(Dropout(0.1))\n",
    "model4.add(Dense(2, activation='relu'))\n",
    "model4.add(Dense(1, activation='linear'))\n",
    "model4.compile(loss='mean_squared_error', optimizer='adam')"
   ]
  },
  {
   "cell_type": "code",
   "execution_count": null,
   "metadata": {},
   "outputs": [],
   "source": [
    "model4.fit(X_train[list(li)].values, y_train.values, epochs=70, batch_size=8128, validation_data=(X_val[list(li)].values, y_val.values))"
   ]
  },
  {
   "cell_type": "code",
   "execution_count": null,
   "metadata": {},
   "outputs": [],
   "source": [
    "mean_squared_error(y_val, model4.predict(X_val).reshape(-1))"
   ]
  },
  {
   "cell_type": "code",
   "execution_count": null,
   "metadata": {},
   "outputs": [],
   "source": [
    "import catboost"
   ]
  },
  {
   "cell_type": "code",
   "execution_count": null,
   "metadata": {},
   "outputs": [],
   "source": [
    "model4 = catboost.CatBoostRegressor(iterations=121)"
   ]
  },
  {
   "cell_type": "code",
   "execution_count": null,
   "metadata": {},
   "outputs": [],
   "source": [
    "model4.fit(X_train,y_train,cat_features = ['item_category_id', 'shop_id', 'item_id'], eval_set=(X_val,y_val))"
   ]
  },
  {
   "cell_type": "code",
   "execution_count": null,
   "metadata": {},
   "outputs": [],
   "source": [
    "X = test_for_fit\n",
    "y= test\n",
    "full_data = X.merge(y, left_on=['shop_id', 'item_id'], right_on=['shop_id', 'item_id'])\n",
    "X_test = full_data.drop(['ID'], axis=1)"
   ]
  },
  {
   "cell_type": "code",
   "execution_count": null,
   "metadata": {},
   "outputs": [],
   "source": [
    "full_data['item_cnt_month'] = model4.predict(X_test)\n",
    "full_data['item_cnt_month'] = full_data['item_cnt_month'].clip(0,20)\n",
    "result = test.merge(full_data[['ID','item_cnt_month']], left_on='ID', right_on='ID', how='outer').fillna(0)\n",
    "result = result[['ID','item_cnt_month']]\n",
    "result['item_cnt_month'] = result['item_cnt_month'].round()\n",
    "result.to_csv('submission.csv', index=False)"
   ]
  },
  {
   "cell_type": "code",
   "execution_count": null,
   "metadata": {},
   "outputs": [],
   "source": [
    "pd.Series(model4.feature_importances_, X_test.columns).sort_values()"
   ]
  },
  {
   "cell_type": "code",
   "execution_count": null,
   "metadata": {},
   "outputs": [],
   "source": [
    "X = train_for_fit\n",
    "y = y_train_split\n",
    "full_data = X.merge(y, left_on=['shop_id', 'item_id'], right_on=['shop_id', 'item_id'])\n",
    "X_train = full_data.drop(['item_cnt_month'], axis=1)\n",
    "y_train = full_data['item_cnt_month']\n",
    "y_train = y_train.clip(0,20)"
   ]
  },
  {
   "cell_type": "code",
   "execution_count": null,
   "metadata": {},
   "outputs": [],
   "source": [
    "X = val_for_fit\n",
    "y = y_val_split\n",
    "full_data = X.merge(y, left_on=['shop_id', 'item_id'], right_on=['shop_id', 'item_id'])\n",
    "X_val = full_data.drop([ 'item_cnt_month'], axis=1)\n",
    "y_val = full_data['item_cnt_month']\n",
    "y_val = y_val.clip(0,20)"
   ]
  },
  {
   "cell_type": "code",
   "execution_count": null,
   "metadata": {},
   "outputs": [],
   "source": [
    "X['item_category_id'].value_counts().shape"
   ]
  },
  {
   "cell_type": "code",
   "execution_count": null,
   "metadata": {},
   "outputs": [],
   "source": [
    "from sklearn.preprocessing import MaxAbsScaler\n",
    "from sklearn.linear_model import LogisticRegression"
   ]
  },
  {
   "cell_type": "code",
   "execution_count": null,
   "metadata": {},
   "outputs": [],
   "source": [
    "scalar = MinMaxScaler()"
   ]
  },
  {
   "cell_type": "code",
   "execution_count": null,
   "metadata": {},
   "outputs": [],
   "source": [
    "transed = scalar.fit_transform(y_train.values.reshape(-1,1))"
   ]
  },
  {
   "cell_type": "code",
   "execution_count": null,
   "metadata": {},
   "outputs": [],
   "source": [
    "model5 = LogisticRegression()"
   ]
  },
  {
   "cell_type": "code",
   "execution_count": 31,
   "metadata": {},
   "outputs": [],
   "source": []
  },
  {
   "cell_type": "code",
   "execution_count": 46,
   "metadata": {},
   "outputs": [],
   "source": [
    "mind_child_sample=np.random.choice(np.arange(0.01, 0.3, 0.01))"
   ]
  },
  {
   "cell_type": "code",
   "execution_count": null,
   "metadata": {},
   "outputs": [],
   "source": [
    "model10.fit()"
   ]
  },
  {
   "cell_type": "code",
   "execution_count": 43,
   "metadata": {},
   "outputs": [
    {
     "data": {
      "text/plain": [
       "LGBMRegressor(boosting_type='gbdt', class_weight=None, colsample_bytree=1.0,\n",
       "       importance_type='split', learning_rate=0.1, max_depth=-1,\n",
       "       min_child_samples=20, min_child_weight=0.001, min_split_gain=0.0,\n",
       "       n_estimators=100, n_jobs=-1, num_leaves=31, objective=None,\n",
       "       random_state=None, reg_alpha=0.0, reg_lambda=0.0, silent=True,\n",
       "       subsample=1.0, subsample_for_bin=200000, subsample_freq=0)"
      ]
     },
     "execution_count": 43,
     "metadata": {},
     "output_type": "execute_result"
    }
   ],
   "source": []
  },
  {
   "cell_type": "code",
   "execution_count": 41,
   "metadata": {},
   "outputs": [
    {
     "data": {
      "text/plain": [
       "2.7244076583746417"
      ]
     },
     "execution_count": 41,
     "metadata": {},
     "output_type": "execute_result"
    }
   ],
   "source": [
    "mean_squared_error(y_val, model10.predict(X_val).astype(int))"
   ]
  },
  {
   "cell_type": "code",
   "execution_count": null,
   "metadata": {},
   "outputs": [],
   "source": []
  }
 ],
 "metadata": {
  "kernelspec": {
   "display_name": "Python 3",
   "language": "python",
   "name": "python3"
  },
  "language_info": {
   "codemirror_mode": {
    "name": "ipython",
    "version": 3
   },
   "file_extension": ".py",
   "mimetype": "text/x-python",
   "name": "python",
   "nbconvert_exporter": "python",
   "pygments_lexer": "ipython3",
   "version": "3.6.8"
  }
 },
 "nbformat": 4,
 "nbformat_minor": 2
}
