{
  "nbformat": 4,
  "nbformat_minor": 0,
  "metadata": {
    "accelerator": "GPU",
    "colab": {
      "name": "pun_chung_sing.ipynb",
      "provenance": [],
      "collapsed_sections": [],
      "machine_shape": "hm"
    },
    "kernelspec": {
      "display_name": "Python 3",
      "language": "python",
      "name": "python3"
    },
    "language_info": {
      "codemirror_mode": {
        "name": "ipython",
        "version": 3
      },
      "file_extension": ".py",
      "mimetype": "text/x-python",
      "name": "python",
      "nbconvert_exporter": "python",
      "pygments_lexer": "ipython3",
      "version": "3.6.8"
    }
  },
  "cells": [
    {
      "cell_type": "markdown",
      "metadata": {
        "colab_type": "text",
        "id": "BZoCrUuOx-Nd"
      },
      "source": [
        "# Welcome to the data science journey!\n",
        "We are going to build a churn model for an imaginary bank! The whole notebook demonstrates my daily workflow.<br>\n",
        "Some of the codes here may be quite tedious and can be avoided by using some self-constructed libraries in practice. To make it self-contain, I wiil only use some common libraries. <br>\n",
        "Hope you enjoy this journey, we will start our jounery with importing common libraries and reading data.<br>\n",
        "\n",
        "xgboost version: 0.90 <br>\n",
        "sklearn version: 0.22.2.post1 <br>\n",
        "lightgbm version: 2.2.3"
      ]
    },
    {
      "cell_type": "code",
      "metadata": {
        "colab_type": "code",
        "id": "MPpJ_uKEtY0V",
        "colab": {
          "base_uri": "https://localhost:8080/",
          "height": 51
        },
        "outputId": "e89ad4bc-14e6-4c9b-ffd4-b35ceb73f101"
      },
      "source": [
        "from dateutil.relativedelta import relativedelta \n",
        "import pandas as pd\n",
        "import numpy as np\n",
        "from scipy.stats import ttest_ind\n",
        "import matplotlib.pyplot as plt\n",
        "import seaborn as sns\n",
        "from sklearn.model_selection import train_test_split, RandomizedSearchCV, GridSearchCV\n",
        "from sklearn.metrics import roc_auc_score\n",
        "from sklearn.ensemble import RandomForestClassifier\n",
        "from xgboost import XGBClassifier\n",
        "import lightgbm as lgb"
      ],
      "execution_count": 2,
      "outputs": [
        {
          "output_type": "stream",
          "text": [
            "/usr/local/lib/python3.6/dist-packages/statsmodels/tools/_testing.py:19: FutureWarning: pandas.util.testing is deprecated. Use the functions in the public API at pandas.testing instead.\n",
            "  import pandas.util.testing as tm\n"
          ],
          "name": "stderr"
        }
      ]
    },
    {
      "cell_type": "code",
      "metadata": {
        "colab_type": "code",
        "id": "3WYdGYEVt4vz",
        "colab": {}
      },
      "source": [
        "devices_raw = pd.read_csv('data/devices.csv')\n",
        "notifications_raw = pd.read_csv('data/notifications.csv', parse_dates=['created_date'])\n",
        "users_raw = pd.read_csv('data/users.csv', parse_dates=['created_date'])\n",
        "transactions_raw = pd.read_csv('data/transactions.csv', parse_dates=['created_date'])"
      ],
      "execution_count": 0,
      "outputs": []
    },
    {
      "cell_type": "markdown",
      "metadata": {
        "id": "HTXei7z_oSYY",
        "colab_type": "text"
      },
      "source": [
        "Since the data is highly confidential so I can only show the schema of the datasets."
      ]
    },
    {
      "cell_type": "code",
      "metadata": {
        "id": "nNbveB15osl2",
        "colab_type": "code",
        "colab": {
          "base_uri": "https://localhost:8080/",
          "height": 187
        },
        "outputId": "d3086d38-720b-4937-e828-a516e9d2d731"
      },
      "source": [
        "display(devices_raw.info())"
      ],
      "execution_count": 8,
      "outputs": [
        {
          "output_type": "stream",
          "text": [
            "<class 'pandas.core.frame.DataFrame'>\n",
            "RangeIndex: 19430 entries, 0 to 19429\n",
            "Data columns (total 2 columns):\n",
            " #   Column   Non-Null Count  Dtype \n",
            "---  ------   --------------  ----- \n",
            " 0   brand    19430 non-null  object\n",
            " 1   user_id  19430 non-null  object\n",
            "dtypes: object(2)\n",
            "memory usage: 303.7+ KB\n"
          ],
          "name": "stdout"
        },
        {
          "output_type": "display_data",
          "data": {
            "text/plain": [
              "None"
            ]
          },
          "metadata": {
            "tags": []
          }
        }
      ]
    },
    {
      "cell_type": "code",
      "metadata": {
        "id": "CamzuF6Kp8yZ",
        "colab_type": "code",
        "colab": {
          "base_uri": "https://localhost:8080/",
          "height": 238
        },
        "outputId": "257784bc-7992-4ded-ed1a-febc9ef22946"
      },
      "source": [
        "display(notifications_raw.info())\n"
      ],
      "execution_count": 9,
      "outputs": [
        {
          "output_type": "stream",
          "text": [
            "<class 'pandas.core.frame.DataFrame'>\n",
            "RangeIndex: 121813 entries, 0 to 121812\n",
            "Data columns (total 5 columns):\n",
            " #   Column        Non-Null Count   Dtype         \n",
            "---  ------        --------------   -----         \n",
            " 0   reason        121813 non-null  object        \n",
            " 1   channel       121813 non-null  object        \n",
            " 2   status        121813 non-null  object        \n",
            " 3   user_id       121813 non-null  object        \n",
            " 4   created_date  121813 non-null  datetime64[ns]\n",
            "dtypes: datetime64[ns](1), object(4)\n",
            "memory usage: 4.6+ MB\n"
          ],
          "name": "stdout"
        },
        {
          "output_type": "display_data",
          "data": {
            "text/plain": [
              "None"
            ]
          },
          "metadata": {
            "tags": []
          }
        }
      ]
    },
    {
      "cell_type": "code",
      "metadata": {
        "id": "L2tDvKgbp9um",
        "colab_type": "code",
        "colab": {
          "base_uri": "https://localhost:8080/",
          "height": 357
        },
        "outputId": "8cf4b474-8a42-4a0e-8193-bd3dd1653d2c"
      },
      "source": [
        "display(users_raw.info())"
      ],
      "execution_count": 10,
      "outputs": [
        {
          "output_type": "stream",
          "text": [
            "<class 'pandas.core.frame.DataFrame'>\n",
            "RangeIndex: 19430 entries, 0 to 19429\n",
            "Data columns (total 12 columns):\n",
            " #   Column                                    Non-Null Count  Dtype         \n",
            "---  ------                                    --------------  -----         \n",
            " 0   user_id                                   19430 non-null  object        \n",
            " 1   birth_year                                19430 non-null  int64         \n",
            " 2   country                                   19430 non-null  object        \n",
            " 3   city                                      19430 non-null  object        \n",
            " 4   created_date                              19430 non-null  datetime64[ns]\n",
            " 5   user_settings_crypto_unlocked             19430 non-null  int64         \n",
            " 6   plan                                      19430 non-null  object        \n",
            " 7   attributes_notifications_marketing_push   12820 non-null  float64       \n",
            " 8   attributes_notifications_marketing_email  12820 non-null  float64       \n",
            " 9   num_contacts                              19430 non-null  int64         \n",
            " 10  num_referrals                             19430 non-null  int64         \n",
            " 11  num_successful_referrals                  19430 non-null  int64         \n",
            "dtypes: datetime64[ns](1), float64(2), int64(5), object(4)\n",
            "memory usage: 1.8+ MB\n"
          ],
          "name": "stdout"
        },
        {
          "output_type": "display_data",
          "data": {
            "text/plain": [
              "None"
            ]
          },
          "metadata": {
            "tags": []
          }
        }
      ]
    },
    {
      "cell_type": "code",
      "metadata": {
        "id": "6I35qpi6p-hC",
        "colab_type": "code",
        "colab": {
          "base_uri": "https://localhost:8080/",
          "height": 357
        },
        "outputId": "f7d51ee9-9905-4c35-c1f6-04e45768b2b5"
      },
      "source": [
        "display(transactions_raw.info())"
      ],
      "execution_count": 11,
      "outputs": [
        {
          "output_type": "stream",
          "text": [
            "<class 'pandas.core.frame.DataFrame'>\n",
            "RangeIndex: 2740075 entries, 0 to 2740074\n",
            "Data columns (total 12 columns):\n",
            " #   Column                 Dtype         \n",
            "---  ------                 -----         \n",
            " 0   transaction_id         object        \n",
            " 1   transactions_type      object        \n",
            " 2   transactions_currency  object        \n",
            " 3   amount_usd             float64       \n",
            " 4   transactions_state     object        \n",
            " 5   ea_cardholderpresence  object        \n",
            " 6   ea_merchant_mcc        float64       \n",
            " 7   ea_merchant_city       object        \n",
            " 8   ea_merchant_country    object        \n",
            " 9   direction              object        \n",
            " 10  user_id                object        \n",
            " 11  created_date           datetime64[ns]\n",
            "dtypes: datetime64[ns](1), float64(2), object(9)\n",
            "memory usage: 250.9+ MB\n"
          ],
          "name": "stdout"
        },
        {
          "output_type": "display_data",
          "data": {
            "text/plain": [
              "None"
            ]
          },
          "metadata": {
            "tags": []
          }
        }
      ]
    },
    {
      "cell_type": "markdown",
      "metadata": {
        "colab_type": "text",
        "id": "_yiLk2rcyezH"
      },
      "source": [
        "First, to build a model classifying clients as engaged or unengaged, we have to define the meaning of the client being unengaged.<br>\n",
        "As a bank, we can easily say a client is unengaged (or churns) when he/she did not use our service for a while.<br>\n",
        "But what do we mean by 'a while'? <br>\n",
        "Let's look at the transaction data and see whether there are any hints! <br>\n",
        "\n",
        "To start, for a transaction with 0 dollars, it is probably a record generated by the system.\n",
        "It does not necessary a transaction done by the client, so we will ignore those transactions"
      ]
    },
    {
      "cell_type": "code",
      "metadata": {
        "colab_type": "code",
        "id": "reA_lbdMzlfO",
        "colab": {}
      },
      "source": [
        "id_and_trans = transactions_raw[transactions_raw['amount_usd'] > 0].copy()\n",
        "id_and_trans = id_and_trans[['user_id', 'created_date']].sort_values(['user_id', 'created_date'])\n",
        "id_and_trans['time_until_next_transaction'] = -id_and_trans.groupby('user_id')['created_date'].diff(-1)\n",
        "# to better visualize the data, we will change the unit to week instead of a long long yymmdd hhmmss format \n",
        "days_until_next_trans = id_and_trans['time_until_next_transaction'].dt.days\n",
        "week_until_next_trans = days_until_next_trans // 7"
      ],
      "execution_count": 0,
      "outputs": []
    },
    {
      "cell_type": "code",
      "metadata": {
        "colab_type": "code",
        "id": "cZMcQUdB0dzO",
        "outputId": "0dd65eb5-949d-4a48-b811-11eb154ea0d2",
        "colab": {
          "base_uri": "https://localhost:8080/",
          "height": 623
        }
      },
      "source": [
        "fig, ax = plt.subplots(4, 1, sharex=True)\n",
        "\n",
        "ax[0].set_title('Distribution of week until next trans. (All transaction)', fontsize=10)\n",
        "week_until_next_trans.hist(ax=ax[0], figsize=(5,10), bins=range(0,70))\n",
        "\n",
        "ax[1].set_title('Distribution of week until next trans. (At least 1 weeks gap)', fontsize=10)\n",
        "week_until_next_trans[week_until_next_trans>=1].hist(ax=ax[1], figsize=(5,10), bins=range(0,70))\n",
        "\n",
        "ax[2].set_title('Distribution of week until next trans. (At least 2 weeks gap)', fontsize=10)\n",
        "week_until_next_trans[week_until_next_trans>=2].hist(ax=ax[2], figsize=(5,10), bins=range(0,70))\n",
        "\n",
        "ax[3].set_title('Distribution of week until next trans. (At least 4 weeks gap)', fontsize=10)\n",
        "week_until_next_trans[week_until_next_trans>=4].hist(ax=ax[3], figsize=(5,10), bins=range(0,70))"
      ],
      "execution_count": 0,
      "outputs": [
        {
          "output_type": "execute_result",
          "data": {
            "text/plain": [
              "<matplotlib.axes._subplots.AxesSubplot at 0x7f2c1f4c8c50>"
            ]
          },
          "metadata": {
            "tags": []
          },
          "execution_count": 5
        },
        {
          "output_type": "display_data",
          "data": {
            "image/png": "[encoded data removed]",
            "text/plain": [
              "<Figure size 360x720 with 4 Axes>"
            ]
          },
          "metadata": {
            "tags": []
          }
        }
      ]
    },
    {
      "cell_type": "markdown",
      "metadata": {
        "colab_type": "text",
        "id": "nzlr6EKyRPt4"
      },
      "source": [
        "### Main take away for Q2"
      ]
    },
    {
      "cell_type": "code",
      "metadata": {
        "colab_type": "code",
        "id": "SO5XgsYT2Ew2",
        "outputId": "c009357c-e446-4a20-a9fa-f0879afae95b",
        "colab": {
          "base_uri": "https://localhost:8080/",
          "height": 34
        }
      },
      "source": [
        "print('95% percent of the transactions will be followed by another transaction within {} days'.format(days_until_next_trans[days_until_next_trans > 0].quantile(0.95)))"
      ],
      "execution_count": 0,
      "outputs": [
        {
          "output_type": "stream",
          "text": [
            "95% percent of the transactions will be followed by another transaction within 28.0 days\n"
          ],
          "name": "stdout"
        }
      ]
    },
    {
      "cell_type": "markdown",
      "metadata": {
        "colab_type": "text",
        "id": "G1wniOgn5cF7"
      },
      "source": [
        "Since most of the client will follow another trade within 28 days, to optimize the resource, we may just focus on re-engaging the clients at the tail,\n",
        "so we will say a client is unengaging if he/she has <b>no transaction within the next 28 days</b>. <br>\n",
        "\n",
        "Besides, as the model only consider the time in the coming 28 days and does not consider the possibility that the client will come back long long time later, so the model will see an unengaging client as a churn client.<br>\n",
        "\n",
        "This is quite similar to the execution level if we predict that the client will cease using the bank in the coming 28 days. It does not quite make sense to wait the client come back a long time later and stopping doing anything from retaining the client.<br>\n",
        "Therefore, at the model perspective, we will see <b>unengaging clients as churn clients</b>.<br>\n",
        "\n",
        "Now, the model should assign a churn probability to each client. <br>\n",
        "To make the model easier to execute in the production environment,\n",
        "we will try to assign a score to the client once a week (batch scoring). <br>\n",
        "Using the information in the past, we would like to predict whether the \n",
        "client's next transaction will be conducted after 28 days."
      ]
    },
    {
      "cell_type": "markdown",
      "metadata": {
        "colab_type": "text",
        "id": "C_FrxWWXG2xN"
      },
      "source": [
        "### Data manipulations (Feature Extraction)\n",
        "This part will mainly focus on some generating features manually,\n",
        "which is quite tedious and lengthy, some are with insights and some are by heuristics. <br>\n",
        "\n",
        "We will tackle the 4 csv files one by one.\n",
        "The final goal is to build a data frame that each row stores some summary statistics of each client at each snapshot (each week)."
      ]
    },
    {
      "cell_type": "code",
      "metadata": {
        "colab_type": "code",
        "id": "fUHN26g1Hkic",
        "colab": {}
      },
      "source": [
        "# The user_id for devices table is unique\n",
        "# Most of the devices people use are either Apple or Android, we will binary encode the brand\n",
        "devices = devices_raw.copy().set_index('user_id')\n",
        "devices['brand'] = devices['brand'].map({'Android': 1, 'Apple': 0, 'Unknown': np.NaN})"
      ],
      "execution_count": 0,
      "outputs": []
    },
    {
      "cell_type": "code",
      "metadata": {
        "colab_type": "code",
        "id": "oN54rTehFwc_",
        "colab": {}
      },
      "source": [
        "users = users_raw.copy()\n",
        "users = users.rename({'created_date': 'account_created_date'}, axis=1)\n",
        "users['account_created_date'] = pd.to_datetime(users['account_created_date'])\n",
        "\n",
        "# Order the 'Plan' by the plan level,\n",
        "# and add an indicator to flag out whether the clients was given an upgrade offer\n",
        "users['plan_level'] = users['plan'].replace({'STANDARD': 0,\n",
        "                                             'PREMIUM': 1, 'PREMIUM_OFFER': 1, 'PREMIUM_FREE': 1,\n",
        "                                             'METAL': 2, 'METAL_FREE': 2})\n",
        "users['plan_discount'] = users['plan'].replace({'STANDARD': 0, 'PREMIUM': 0, 'METAL': 0,\n",
        "                                                'PREMIUM_OFFER': 1, 'PREMIUM_FREE': 1, 'METAL_FREE': 1})\n",
        "\n",
        "# Note that all entries in 'num_successful_referrals' and 'num_referrals' are the same,\n",
        "# we may just drop this entry. Also, the distribution of city is too sparse, we can use the 'country' variable\n",
        "users.drop(['num_successful_referrals', 'num_referrals', 'plan', 'city'], axis=1, inplace=True)"
      ],
      "execution_count": 0,
      "outputs": []
    },
    {
      "cell_type": "code",
      "metadata": {
        "colab_type": "code",
        "id": "VVNZPTq-Gj4h",
        "colab": {}
      },
      "source": [
        "transactions = transactions_raw.copy()\n",
        "transactions = transactions.rename({'created_date': 'transaction_date'}, axis=1)\n",
        "transactions['transactions_state'] = transactions['transactions_state'].replace({'FAILED': 'TRANSACTION_FAILED'})\n",
        "\n",
        "# over 40% of the entries about starts with ea are null\n",
        "# which is what we should improve for the database system!\n",
        "# This time we may drop them first.\n",
        "transactions.drop(['ea_merchant_city', 'ea_cardholderpresence', 'ea_merchant_mcc'], axis=1, inplace=True)\n",
        "transactions['direction'] = transactions['direction'].map({'INBOUND': 0, 'OUTBOUND': 1})"
      ],
      "execution_count": 0,
      "outputs": []
    },
    {
      "cell_type": "code",
      "metadata": {
        "colab_type": "code",
        "id": "a4P-frjyr3q8",
        "colab": {}
      },
      "source": [
        "notifications = notifications_raw.copy()\n",
        "notifications = notifications.rename({'created_date': 'message_created_date'}, axis=1)\n",
        "notifications['status'] = notifications['status'].replace({'FAILED': 'MESSAGE_FAILED'})\n",
        "\n",
        "# Note that some types of notification reason appear only in a later period of the data set, \n",
        "# such at promotional reasons like 'ONBOARDING_TIPS_ACTIVATED_USERS' only appear after June 2018\n",
        "# and only reactivation reasons like 'NO_INITIAL_CARD_ORDER' or 'NO_INITIAL_CARD_USE' appear before June 2018\n",
        "# we will drop the reason column and we will see why later.\n",
        "notifications.drop('reason', inplace=True, axis=1)"
      ],
      "execution_count": 0,
      "outputs": []
    },
    {
      "cell_type": "code",
      "metadata": {
        "colab_type": "code",
        "id": "N4UrHIjjVN3v",
        "colab": {}
      },
      "source": [
        "# Now, we are make a series of pivot_table, with the row as user_id and column and the domain values of categorical variables\n",
        "# Since some domain values only appear in certain month.\n",
        "domain_values = {}\n",
        "domain_values['transactions_type'] = transactions['transactions_type'].unique()\n",
        "domain_values['transactions_state'] = transactions['transactions_state'].unique()\n",
        "domain_values['channel'] = notifications['channel'].unique()\n",
        "domain_values['status'] = notifications['status'].unique()"
      ],
      "execution_count": 0,
      "outputs": []
    },
    {
      "cell_type": "markdown",
      "metadata": {
        "colab_type": "text",
        "id": "rD2OrF5qDaNl"
      },
      "source": [
        "### Data Transformation pipeline\n",
        "\n",
        "After some general data manipulations, we will start to split our data into train and test set. <br>\n",
        "\n",
        "The transaction records are from 2018 Jan to 2019 May, we will use the records in 2018 to train the model\n",
        "and 2019 data to test the model. <br>\n",
        "\n",
        "The reason is simple, after we train a model, since we don't want to keep re-training the model regularly, \n",
        "we should ensure the model is valid from time to time. Therefore the time out-of-time validation set is necessary for the task.<br>\n",
        "\n",
        "And that is why we drop the 'reason' columns previously!"
      ]
    },
    {
      "cell_type": "code",
      "metadata": {
        "colab_type": "code",
        "id": "8PzVBfQfu6os",
        "colab": {}
      },
      "source": [
        "# We will give a score to the client every 7 days,\n",
        "# so we will make a snapshot at every 7 days and create a dataframe for training\n",
        "time_periods = []\n",
        "snap_shot_date = pd.to_datetime('2018-02-01')\n",
        "while snap_shot_date < pd.to_datetime('2019-01-01'):\n",
        "    time_periods.append(snap_shot_date)\n",
        "    snap_shot_date = snap_shot_date + relativedelta(snap_shot_date, days=7)"
      ],
      "execution_count": 0,
      "outputs": []
    },
    {
      "cell_type": "markdown",
      "metadata": {
        "colab_type": "text",
        "id": "BjPN6ZaiaIL7"
      },
      "source": [
        "After splitting the data set to train and validation set, \n",
        "we can generate some complicated features without an afraid of a data leak. <br>\n",
        "\n",
        "To ensure that the same pipeline is applied across train and test set, \n",
        "we will write a simple function for this process. \n",
        "\n",
        "In general, one should conduct exploratory analysis and try to generate golden features and add to the data manipulation pipeline. <br>\n",
        "\n",
        "To make the code much more structured and avoid copying the same code, \n",
        "we will first create the pipeline and\n",
        "then plot out the graphs after creating the pipeline."
      ]
    },
    {
      "cell_type": "code",
      "metadata": {
        "colab_type": "code",
        "id": "HXVdnybuF91V",
        "colab": {}
      },
      "source": [
        "def data_transformation_pipeline(start_time, end_time):\n",
        "    snap_shot_dates = []\n",
        "    snap_shot_date = pd.to_datetime(start_time)\n",
        "    while snap_shot_date < pd.to_datetime(end_time):\n",
        "        snap_shot_dates.append(snap_shot_date)\n",
        "        snap_shot_date = snap_shot_date + relativedelta(snap_shot_date, days=7)\n",
        "\n",
        "    df_all_months = {}\n",
        "    for snap_shot_date in snap_shot_dates:\n",
        "        # We will use past one month data to create summary statsics\n",
        "        snap_shot_beg = pd.to_datetime(snap_shot_date)\n",
        "        snap_shot_end = snap_shot_beg + relativedelta(snap_shot_beg, months=1)\n",
        "\n",
        "        # Of course, we will only include clients have account before the snapshot_day!\n",
        "        users_1m = users[users['account_created_date'] < snap_shot_end].copy().set_index('user_id')\n",
        "        users_1m['age'] = snap_shot_end.year - users_1m['birth_year']\n",
        "        users_1m['days_since_account_opened'] = (snap_shot_end - users_1m['account_created_date']).dt.days\n",
        "        users_1m = users_1m.merge(devices, left_index=True, right_index=True, how='left')\n",
        "\n",
        "        # To prevent data leak, we will only use the summary of past 7 days\n",
        "        trans_beg = snap_shot_end + relativedelta(snap_shot_end, days=-7)\n",
        "        transactions_7d = transactions[(trans_beg <= transactions['transaction_date'] ) & (transactions['transaction_date'] < snap_shot_end)].copy()\n",
        "        next_transaction_date = transactions[transactions['transaction_date'] >= snap_shot_end].groupby('user_id')['transaction_date'].min()\n",
        "\n",
        "        # counting past some 7days transaction summaries\n",
        "        trans_summary_7d = pd.DataFrame(transactions_7d.groupby('user_id')['amount_usd'].mean())\n",
        "        trans_summary_7d = trans_summary_7d.rename({'amount_usd': 'mean_transaction_7d'}, axis=1).sort_index()\n",
        "        trans_summary_7d['std_transaction_7d'] = transactions_7d.groupby('user_id')['amount_usd'].std() \n",
        "        trans_summary_7d['direction'] = transactions_7d.groupby('user_id')['direction'].mean()\n",
        "        trans_summary_7d['transactions_currency'] = transactions_7d.groupby('user_id')['transactions_currency'].nunique()\n",
        "        trans_summary_7d['days_unitl_next_transation'] = (next_transaction_date - snap_shot_end).dt.days\n",
        "\n",
        "        # As we have mentioned, we will say a client is churns if he has no transaction in the next 28 days\n",
        "        trans_summary_7d['churn'] = trans_summary_7d['days_unitl_next_transation'] > 28\n",
        "        trans_summary_7d.drop(['days_unitl_next_transation'], axis=1, inplace=True)\n",
        "\n",
        "        # A series of pivot table now\n",
        "        data_to_concat = []\n",
        "        for column in ['transactions_type', 'transactions_state']:\n",
        "            # To make a pivot table which store the count for different domain values\n",
        "            temp = transactions_7d.pivot_table(index='user_id',\n",
        "                                               columns=column,\n",
        "                                               values='transaction_id',\n",
        "                                               aggfunc='count',\n",
        "                                               fill_value=0).sort_index()\n",
        "            for domain_value in domain_values[column]:\n",
        "                if domain_value not in temp.columns:\n",
        "                    temp[domain_value] = 0 \n",
        "            temp = temp[domain_values[column]]\n",
        "            data_to_concat.append(temp)\n",
        "\n",
        "        # We would like to see whether a notification in past 1 month will make the client \n",
        "        # uses our bank in long term (lower churn rate)\n",
        "        notifications_1m = notifications[(snap_shot_beg <= notifications['message_created_date'] ) & (notifications['message_created_date'] < snap_shot_end)].copy()\n",
        "        for column in ['status', 'channel']:\n",
        "            # To make a pivot table which store the count for different domain values\n",
        "            temp = notifications_1m.pivot_table(index='user_id',\n",
        "                                                columns=column,\n",
        "                                                values='message_created_date',\n",
        "                                                aggfunc='count',\n",
        "                                                fill_value=0).sort_index()\n",
        "            for domain_value in domain_values[column]:\n",
        "                if domain_value not in temp.columns:\n",
        "                    temp[domain_value] = 0 \n",
        "            temp = temp[domain_values[column]]\n",
        "            data_to_concat.append(temp)\n",
        "        noti_cnt_1m = notifications_1m.groupby('user_id')['message_created_date'].count()\n",
        "\n",
        "        # concating all the result\n",
        "        df_1m = pd.concat([users_1m, noti_cnt_1m] + data_to_concat , axis=1, join='outer', sort=False)\n",
        "        # Also notice some some 'attributes_notifications_marketing_push' and 'attributes_notifications_marketing_email' are missing\n",
        "        # This information is input at the time the user join out bank\n",
        "        # From time to time, the client may change his preference\n",
        "        # So whenever he received a message in this month, we will fill the na as 1, else 0\n",
        "        df_1m['attributes_notifications_marketing_push'] = df_1m[['attributes_notifications_marketing_push', 'PUSH']].fillna(0).max(axis=1) > 0\n",
        "        df_1m['attributes_notifications_marketing_email'] = df_1m[['attributes_notifications_marketing_push', 'EMAIL']].fillna(0).max(axis=1) > 0\n",
        "        df_1m.drop(['birth_year', 'account_created_date'], axis=1, inplace=True)\n",
        "\n",
        "        # A left join is used with the past 7days transaction data as the base,\n",
        "        # If the client has no transaction in past 7days, we may use the previous score.\n",
        "        df_1m = trans_summary_7d.merge(df_1m, left_index=True, right_index=True, how='left')\n",
        "        df_all_months[snap_shot_date] = df_1m\n",
        "\n",
        "    df = pd.concat(df_all_months.values()).rename({'message_created_date': 'num_messages_1m'}, axis=1)\n",
        "    # the more transaction in that country, the more people know our bank,\n",
        "    # And more people will use it! (hopefully)\n",
        "    # Frequency encoding for the country entry\n",
        "    df['country'] = df['country'].map(df['country'].value_counts())\n",
        "    return df.fillna(0)"
      ],
      "execution_count": 0,
      "outputs": []
    },
    {
      "cell_type": "code",
      "metadata": {
        "colab_type": "code",
        "id": "6TQnxp9JDaQp",
        "colab": {}
      },
      "source": [
        "df_train = data_transformation_pipeline('2018-02-01', '2019-01-01')"
      ],
      "execution_count": 0,
      "outputs": []
    },
    {
      "cell_type": "markdown",
      "metadata": {
        "colab_type": "text",
        "id": "WopLehSPjifv"
      },
      "source": [
        "### Exploratory Data Analysis\n",
        "After creating a pipeline of data manipulation, let's do some explanatory data analysis to get a feeling of\n",
        "whether the variable is useful!"
      ]
    },
    {
      "cell_type": "code",
      "metadata": {
        "colab_type": "code",
        "id": "MiN2cyqpjiiV",
        "outputId": "5ed415e5-7cb1-4bde-a358-c8cb3b022d99",
        "colab": {
          "base_uri": "https://localhost:8080/",
          "height": 296
        }
      },
      "source": [
        "sns.violinplot(x=df_train['COMPLETED'].clip(upper=20),\n",
        "        y=df_train['churn'], orient='h')\n",
        "# one can see that in general, the more completed transaction in the past 7 days,\n",
        "# the (slightly) lower chance the client churns in the future."
      ],
      "execution_count": 0,
      "outputs": [
        {
          "output_type": "execute_result",
          "data": {
            "text/plain": [
              "<matplotlib.axes._subplots.AxesSubplot at 0x7f2c1ee17b38>"
            ]
          },
          "metadata": {
            "tags": []
          },
          "execution_count": 15
        },
        {
          "output_type": "display_data",
          "data": {
            "image/png": "[encoded data removed]",
            "text/plain": [
              "<Figure size 432x288 with 1 Axes>"
            ]
          },
          "metadata": {
            "tags": []
          }
        }
      ]
    },
    {
      "cell_type": "code",
      "metadata": {
        "colab_type": "code",
        "id": "zjnA7Znnt5PE",
        "outputId": "ae7d9eed-231e-43c6-83d9-a6e8eee1c0ef",
        "colab": {
          "base_uri": "https://localhost:8080/",
          "height": 296
        }
      },
      "source": [
        "sns.violinplot(x=df_train['TRANSFER'].clip(upper=5), y=df_train['churn'], orient='h')\n",
        "# Similarly, the more completed transfer in the past 7 days\n",
        "# the low chance the client churns in the future.\n",
        "# These factors means that the active users will stick to out bank, \n",
        "# which is very common as banking service traditionally has high stickiness\n",
        "# Maybe some our marketing team has to think of converting those one-off users?"
      ],
      "execution_count": 0,
      "outputs": [
        {
          "output_type": "execute_result",
          "data": {
            "text/plain": [
              "<matplotlib.axes._subplots.AxesSubplot at 0x7f2c1f4e7550>"
            ]
          },
          "metadata": {
            "tags": []
          },
          "execution_count": 16
        },
        {
          "output_type": "display_data",
          "data": {
            "image/png": "[encoded data removed]",
            "text/plain": [
              "<Figure size 432x288 with 1 Axes>"
            ]
          },
          "metadata": {
            "tags": []
          }
        }
      ]
    },
    {
      "cell_type": "code",
      "metadata": {
        "colab_type": "code",
        "id": "iAfzjF0jnfEI",
        "outputId": "0d0b57d6-a68c-42dc-8c38-4ad6545e90da",
        "colab": {
          "base_uri": "https://localhost:8080/",
          "height": 296
        }
      },
      "source": [
        "sns.violinplot(x=df_train['age'],\n",
        "               y=df_train['plan_level'],\n",
        "               hue=df_train['churn'],\n",
        "               split=True,\n",
        "               orient='h')\n",
        "# Here, for the plan_level Standard (0) and Metal (2), it may be a little bit difficult to tell\n",
        "# but for Premium (1), it seems that younger premium account holder tends to keep engaging\n",
        "# with our bank!"
      ],
      "execution_count": 0,
      "outputs": [
        {
          "output_type": "execute_result",
          "data": {
            "text/plain": [
              "<matplotlib.axes._subplots.AxesSubplot at 0x7f2c1f45cd30>"
            ]
          },
          "metadata": {
            "tags": []
          },
          "execution_count": 17
        },
        {
          "output_type": "display_data",
          "data": {
            "image/png": "[encoded data removed]",
            "text/plain": [
              "<Figure size 432x288 with 1 Axes>"
            ]
          },
          "metadata": {
            "tags": []
          }
        }
      ]
    },
    {
      "cell_type": "code",
      "metadata": {
        "colab_type": "code",
        "id": "meKDG_eYudot",
        "outputId": "25baf56b-5cd7-466c-bbce-171478100096",
        "colab": {
          "base_uri": "https://localhost:8080/",
          "height": 296
        }
      },
      "source": [
        "sns.violinplot(x=df_train['age'],\n",
        "               y=df_train['plan_discount'],\n",
        "               hue=df_train['churn'],\n",
        "               split=True, orient='h')\n",
        "# This graph has an interesting finding.\n",
        "# Given that the client was offered a discount,\n",
        "# the churn propensity does is not monotonic across the age!\n",
        "# the account upgrade offer is slightly more loyal to our bank if he is below 30 and above 40\n",
        "# but it is not the case for 30 to 40!\n",
        "# To target this age group, giving an upgrade offer may not\n",
        "# be useful to build a long term relationship with them.\n",
        "# That is very normal since they are potentially some middle management \n",
        "# of a company, they are getting wealthy and look at things other than fees.\n",
        "# Maybe a better user experience is more important to them?"
      ],
      "execution_count": 0,
      "outputs": [
        {
          "output_type": "execute_result",
          "data": {
            "text/plain": [
              "<matplotlib.axes._subplots.AxesSubplot at 0x7f2c1eda2320>"
            ]
          },
          "metadata": {
            "tags": []
          },
          "execution_count": 18
        },
        {
          "output_type": "display_data",
          "data": {
            "image/png": "[encoded data removed]",
            "text/plain": [
              "<Figure size 432x288 with 1 Axes>"
            ]
          },
          "metadata": {
            "tags": []
          }
        }
      ]
    },
    {
      "cell_type": "code",
      "metadata": {
        "colab_type": "code",
        "id": "_mnmRWepPyIN",
        "outputId": "6c1f5e04-8f77-4324-de8c-4a30eee5c8df",
        "colab": {
          "base_uri": "https://localhost:8080/",
          "height": 359
        }
      },
      "source": [
        "# There are lots of EDA can be done.\n",
        "# In fact, one can also look at some of the basic statistic\n",
        "# and get a sense of which one is a useful variable\n",
        "df_train.groupby('churn').mean().T[:10]\n",
        "\n",
        "# For example, the std_transaction_7d has a large difference in two groups\n",
        "# one may expect that std_transaction_7d may be one of the important variables to\n",
        "# separate two groups"
      ],
      "execution_count": 0,
      "outputs": [
        {
          "output_type": "execute_result",
          "data": {
            "text/html": [
              "<div>\n",
              "<style scoped>\n",
              "    .dataframe tbody tr th:only-of-type {\n",
              "        vertical-align: middle;\n",
              "    }\n",
              "\n",
              "    .dataframe tbody tr th {\n",
              "        vertical-align: top;\n",
              "    }\n",
              "\n",
              "    .dataframe thead th {\n",
              "        text-align: right;\n",
              "    }\n",
              "</style>\n",
              "<table border=\"1\" class=\"dataframe\">\n",
              "  <thead>\n",
              "    <tr style=\"text-align: right;\">\n",
              "      <th>churn</th>\n",
              "      <th>False</th>\n",
              "      <th>True</th>\n",
              "    </tr>\n",
              "  </thead>\n",
              "  <tbody>\n",
              "    <tr>\n",
              "      <th>mean_transaction_7d</th>\n",
              "      <td>317975.940951</td>\n",
              "      <td>1.606379e+06</td>\n",
              "    </tr>\n",
              "    <tr>\n",
              "      <th>std_transaction_7d</th>\n",
              "      <td>464218.834375</td>\n",
              "      <td>1.516723e+02</td>\n",
              "    </tr>\n",
              "    <tr>\n",
              "      <th>direction</th>\n",
              "      <td>0.766963</td>\n",
              "      <td>6.731982e-01</td>\n",
              "    </tr>\n",
              "    <tr>\n",
              "      <th>transactions_currency</th>\n",
              "      <td>1.223369</td>\n",
              "      <td>1.154992e+00</td>\n",
              "    </tr>\n",
              "    <tr>\n",
              "      <th>country</th>\n",
              "      <td>30429.041216</td>\n",
              "      <td>3.205932e+04</td>\n",
              "    </tr>\n",
              "    <tr>\n",
              "      <th>user_settings_crypto_unlocked</th>\n",
              "      <td>0.270969</td>\n",
              "      <td>1.799828e-01</td>\n",
              "    </tr>\n",
              "    <tr>\n",
              "      <th>attributes_notifications_marketing_push</th>\n",
              "      <td>0.714957</td>\n",
              "      <td>6.799212e-01</td>\n",
              "    </tr>\n",
              "    <tr>\n",
              "      <th>attributes_notifications_marketing_email</th>\n",
              "      <td>0.749317</td>\n",
              "      <td>7.220854e-01</td>\n",
              "    </tr>\n",
              "    <tr>\n",
              "      <th>num_contacts</th>\n",
              "      <td>21.583220</td>\n",
              "      <td>1.612317e+01</td>\n",
              "    </tr>\n",
              "    <tr>\n",
              "      <th>plan_level</th>\n",
              "      <td>0.190766</td>\n",
              "      <td>5.890681e-02</td>\n",
              "    </tr>\n",
              "  </tbody>\n",
              "</table>\n",
              "</div>"
            ],
            "text/plain": [
              "churn                                             False         True \n",
              "mean_transaction_7d                       317975.940951  1.606379e+06\n",
              "std_transaction_7d                        464218.834375  1.516723e+02\n",
              "direction                                      0.766963  6.731982e-01\n",
              "transactions_currency                          1.223369  1.154992e+00\n",
              "country                                    30429.041216  3.205932e+04\n",
              "user_settings_crypto_unlocked                  0.270969  1.799828e-01\n",
              "attributes_notifications_marketing_push        0.714957  6.799212e-01\n",
              "attributes_notifications_marketing_email       0.749317  7.220854e-01\n",
              "num_contacts                                  21.583220  1.612317e+01\n",
              "plan_level                                     0.190766  5.890681e-02"
            ]
          },
          "metadata": {
            "tags": []
          },
          "execution_count": 19
        }
      ]
    },
    {
      "cell_type": "markdown",
      "metadata": {
        "colab_type": "text",
        "id": "muXU8yynTY-n"
      },
      "source": [
        "### Model Training"
      ]
    },
    {
      "cell_type": "code",
      "metadata": {
        "colab_type": "code",
        "id": "QA5MoJiwa2Cq",
        "colab": {}
      },
      "source": [
        "# A standard train test split and parameter search\n",
        "X_train, X_test, y_train, y_test = train_test_split(df_train.drop('churn', axis=1),\n",
        "                                                    df_train['churn'],\n",
        "                                                    stratify=df_train['churn'],\n",
        "                                                    random_state=77)"
      ],
      "execution_count": 0,
      "outputs": []
    },
    {
      "cell_type": "markdown",
      "metadata": {
        "colab_type": "text",
        "id": "kjIG6_7iSyqT"
      },
      "source": [
        "In general, tree models dont really need to worry about the outliers <br>\n",
        "We may compare the results of XGBoost, LightGBM and Random Forest. <br>\n",
        "The param_grid below starts from a wider range and iteratively test and tune \n",
        "to shrink to the range you can see. <br>\n",
        "For demonstration purpose, we will only set n_iter=10."
      ]
    },
    {
      "cell_type": "code",
      "metadata": {
        "colab_type": "code",
        "id": "zGYzOEeDx-LR",
        "outputId": "59ed57b6-47c9-45dd-92fb-f6507f3a024d",
        "colab": {
          "base_uri": "https://localhost:8080/",
          "height": 51
        }
      },
      "source": [
        "%%time\n",
        "xgb_clf = XGBClassifier(random_state=77, n_jobs=-1)\n",
        "xgb_param_grid = {'n_estimators': range(10, 100),\n",
        "               'reg_alpha': np.arange(5, 20, 0.1),\n",
        "               'reg_lambda': np.arange(5, 20, 0.1),\n",
        "               'subsample': np.arange(0.5, 1, 0.01),\n",
        "               'learning_rate': np.arange(0.05, 0.5, 0.01),\n",
        "               'scale_pos_weight': np.arange(1, 3, 0.1),\n",
        "               'max_depth': range(3, 10)}\n",
        "xgb_searching_cv = RandomizedSearchCV(xgb_clf, \n",
        "                               xgb_param_grid, \n",
        "                               scoring='roc_auc',\n",
        "                               n_iter=10, \n",
        "                               cv=5,\n",
        "                               return_train_score=True,\n",
        "                               random_state=77,\n",
        "                               n_jobs=-1)\n",
        "xgb_searching_cv.fit(X_train, y_train)"
      ],
      "execution_count": 0,
      "outputs": [
        {
          "output_type": "stream",
          "text": [
            "CPU times: user 41 s, sys: 496 ms, total: 41.5 s\n",
            "Wall time: 7min\n"
          ],
          "name": "stdout"
        }
      ]
    },
    {
      "cell_type": "code",
      "metadata": {
        "colab_type": "code",
        "id": "-QZqMMi8qvYn",
        "outputId": "b3f91721-2b9f-4411-99a0-ad54dc2de415",
        "colab": {
          "base_uri": "https://localhost:8080/",
          "height": 51
        }
      },
      "source": [
        "%%time\n",
        "lgb_clf = lgb.LGBMClassifier(class_weight='balanced', n_jobs=-1, random_state=77)\n",
        "lgb_param_grid = {'n_estimators': range(10, 100),\n",
        "               'reg_alpha': np.arange(5, 20, 0.1),\n",
        "               'reg_lambda': np.arange(5, 20, 0.1),\n",
        "               'subsample': np.arange(0.5, 1, 0.01),\n",
        "               'learning_rate': np.arange(0.05, 0.5, 0.01),\n",
        "               'scale_pos_weight': np.arange(1, 3, 0.1),\n",
        "               'max_depth': range(3, 10)}\n",
        "lgb_searching_cv = RandomizedSearchCV(lgb_clf, \n",
        "                               lgb_param_grid, \n",
        "                               scoring='roc_auc',\n",
        "                               n_iter=10, \n",
        "                               cv=5,\n",
        "                               return_train_score=True,\n",
        "                               random_state=77,\n",
        "                               n_jobs=-1)\n",
        "lgb_searching_cv.fit(X_train, y_train)"
      ],
      "execution_count": 0,
      "outputs": [
        {
          "output_type": "stream",
          "text": [
            "CPU times: user 10 s, sys: 288 ms, total: 10.3 s\n",
            "Wall time: 1min 1s\n"
          ],
          "name": "stdout"
        }
      ]
    },
    {
      "cell_type": "code",
      "metadata": {
        "colab_type": "code",
        "id": "4T-1MeAbK63n",
        "outputId": "1d7c2116-91e3-480f-b2a0-0980ba86e6ec",
        "colab": {
          "base_uri": "https://localhost:8080/",
          "height": 51
        }
      },
      "source": [
        "%%time\n",
        "rf_clf = RandomForestClassifier(class_weight='balanced_subsample', n_jobs=-1, random_state=77)\n",
        "rf_param_grid = {'n_estimators': range(50, 500, 50),\n",
        "              'max_depth': range(3, 10),\n",
        "              'min_samples_split': range(2, 200, 10)}\n",
        "rf_searching_cv = RandomizedSearchCV(rf_clf, \n",
        "                               rf_param_grid, \n",
        "                               scoring='roc_auc',\n",
        "                               cv=5,\n",
        "                               return_train_score=True,\n",
        "                               random_state=77,\n",
        "                               n_jobs=-1)\n",
        "rf_searching_cv.fit(X_train, y_train)"
      ],
      "execution_count": 0,
      "outputs": [
        {
          "output_type": "stream",
          "text": [
            "CPU times: user 1min 45s, sys: 1.36 s, total: 1min 47s\n",
            "Wall time: 11min 36s\n"
          ],
          "name": "stdout"
        }
      ]
    },
    {
      "cell_type": "markdown",
      "metadata": {
        "colab_type": "text",
        "id": "DENZ6fJxbbF8"
      },
      "source": [
        "As the random forest is a bagging algorithm whereas XGB and LGMB are boosting. <br>\n",
        "It may be unfair to compare them using running time, <br>\n",
        "but at the very beginning, we see that LGBM runs much faster than others. <br>\n",
        "Let see how the model performance in terms of the roc_auc_score. <br>"
      ]
    },
    {
      "cell_type": "code",
      "metadata": {
        "colab_type": "code",
        "id": "Djla1cpcldFY",
        "colab": {}
      },
      "source": [
        "def cv_evaluation(searching_cv):\n",
        "    cv_score = pd.DataFrame({'mean_train_score': searching_cv.cv_results_['mean_train_score'],\n",
        "                        'mean_test_score': searching_cv.cv_results_['mean_test_score']})\n",
        "    # To aviod overfit, we only choose parameters such that the train_score and test_score are very close\n",
        "    cv_score['train_test_difference'] = cv_score['mean_train_score'] - cv_score['mean_test_score']\n",
        "    no_overfit_candidate = cv_score[cv_score['train_test_difference'] < 0.025]\n",
        "    display(no_overfit_candidate)"
      ],
      "execution_count": 0,
      "outputs": []
    },
    {
      "cell_type": "code",
      "metadata": {
        "colab_type": "code",
        "id": "26X9yuchSAVx",
        "outputId": "7ae838c6-6a37-4024-c84f-beb790f1c0b4",
        "colab": {
          "base_uri": "https://localhost:8080/",
          "height": 629
        }
      },
      "source": [
        "print('The result of XGB:')\n",
        "cv_evaluation(xgb_searching_cv)\n",
        "print('The result of LGBM:')\n",
        "cv_evaluation(lgb_searching_cv)\n",
        "print('The result of RF:')\n",
        "cv_evaluation(rf_searching_cv)"
      ],
      "execution_count": 0,
      "outputs": [
        {
          "output_type": "stream",
          "text": [
            "The result of XGB:\n"
          ],
          "name": "stdout"
        },
        {
          "output_type": "display_data",
          "data": {
            "text/html": [
              "<div>\n",
              "<style scoped>\n",
              "    .dataframe tbody tr th:only-of-type {\n",
              "        vertical-align: middle;\n",
              "    }\n",
              "\n",
              "    .dataframe tbody tr th {\n",
              "        vertical-align: top;\n",
              "    }\n",
              "\n",
              "    .dataframe thead th {\n",
              "        text-align: right;\n",
              "    }\n",
              "</style>\n",
              "<table border=\"1\" class=\"dataframe\">\n",
              "  <thead>\n",
              "    <tr style=\"text-align: right;\">\n",
              "      <th></th>\n",
              "      <th>mean_train_score</th>\n",
              "      <th>mean_test_score</th>\n",
              "      <th>train_test_difference</th>\n",
              "    </tr>\n",
              "  </thead>\n",
              "  <tbody>\n",
              "    <tr>\n",
              "      <th>4</th>\n",
              "      <td>0.765876</td>\n",
              "      <td>0.754973</td>\n",
              "      <td>0.010902</td>\n",
              "    </tr>\n",
              "    <tr>\n",
              "      <th>6</th>\n",
              "      <td>0.763855</td>\n",
              "      <td>0.751829</td>\n",
              "      <td>0.012025</td>\n",
              "    </tr>\n",
              "  </tbody>\n",
              "</table>\n",
              "</div>"
            ],
            "text/plain": [
              "   mean_train_score  mean_test_score  train_test_difference\n",
              "4          0.765876         0.754973               0.010902\n",
              "6          0.763855         0.751829               0.012025"
            ]
          },
          "metadata": {
            "tags": []
          }
        },
        {
          "output_type": "stream",
          "text": [
            "The result of LGBM:\n"
          ],
          "name": "stdout"
        },
        {
          "output_type": "display_data",
          "data": {
            "text/html": [
              "<div>\n",
              "<style scoped>\n",
              "    .dataframe tbody tr th:only-of-type {\n",
              "        vertical-align: middle;\n",
              "    }\n",
              "\n",
              "    .dataframe tbody tr th {\n",
              "        vertical-align: top;\n",
              "    }\n",
              "\n",
              "    .dataframe thead th {\n",
              "        text-align: right;\n",
              "    }\n",
              "</style>\n",
              "<table border=\"1\" class=\"dataframe\">\n",
              "  <thead>\n",
              "    <tr style=\"text-align: right;\">\n",
              "      <th></th>\n",
              "      <th>mean_train_score</th>\n",
              "      <th>mean_test_score</th>\n",
              "      <th>train_test_difference</th>\n",
              "    </tr>\n",
              "  </thead>\n",
              "  <tbody>\n",
              "    <tr>\n",
              "      <th>3</th>\n",
              "      <td>0.777767</td>\n",
              "      <td>0.755856</td>\n",
              "      <td>0.021911</td>\n",
              "    </tr>\n",
              "    <tr>\n",
              "      <th>4</th>\n",
              "      <td>0.768704</td>\n",
              "      <td>0.755582</td>\n",
              "      <td>0.013123</td>\n",
              "    </tr>\n",
              "    <tr>\n",
              "      <th>5</th>\n",
              "      <td>0.775027</td>\n",
              "      <td>0.756094</td>\n",
              "      <td>0.018934</td>\n",
              "    </tr>\n",
              "    <tr>\n",
              "      <th>6</th>\n",
              "      <td>0.770563</td>\n",
              "      <td>0.754956</td>\n",
              "      <td>0.015607</td>\n",
              "    </tr>\n",
              "  </tbody>\n",
              "</table>\n",
              "</div>"
            ],
            "text/plain": [
              "   mean_train_score  mean_test_score  train_test_difference\n",
              "3          0.777767         0.755856               0.021911\n",
              "4          0.768704         0.755582               0.013123\n",
              "5          0.775027         0.756094               0.018934\n",
              "6          0.770563         0.754956               0.015607"
            ]
          },
          "metadata": {
            "tags": []
          }
        },
        {
          "output_type": "stream",
          "text": [
            "The result of RF:\n"
          ],
          "name": "stdout"
        },
        {
          "output_type": "display_data",
          "data": {
            "text/html": [
              "<div>\n",
              "<style scoped>\n",
              "    .dataframe tbody tr th:only-of-type {\n",
              "        vertical-align: middle;\n",
              "    }\n",
              "\n",
              "    .dataframe tbody tr th {\n",
              "        vertical-align: top;\n",
              "    }\n",
              "\n",
              "    .dataframe thead th {\n",
              "        text-align: right;\n",
              "    }\n",
              "</style>\n",
              "<table border=\"1\" class=\"dataframe\">\n",
              "  <thead>\n",
              "    <tr style=\"text-align: right;\">\n",
              "      <th></th>\n",
              "      <th>mean_train_score</th>\n",
              "      <th>mean_test_score</th>\n",
              "      <th>train_test_difference</th>\n",
              "    </tr>\n",
              "  </thead>\n",
              "  <tbody>\n",
              "    <tr>\n",
              "      <th>0</th>\n",
              "      <td>0.761512</td>\n",
              "      <td>0.747196</td>\n",
              "      <td>0.014316</td>\n",
              "    </tr>\n",
              "    <tr>\n",
              "      <th>1</th>\n",
              "      <td>0.752635</td>\n",
              "      <td>0.744267</td>\n",
              "      <td>0.008368</td>\n",
              "    </tr>\n",
              "    <tr>\n",
              "      <th>2</th>\n",
              "      <td>0.738833</td>\n",
              "      <td>0.735648</td>\n",
              "      <td>0.003185</td>\n",
              "    </tr>\n",
              "    <tr>\n",
              "      <th>3</th>\n",
              "      <td>0.769769</td>\n",
              "      <td>0.748548</td>\n",
              "      <td>0.021221</td>\n",
              "    </tr>\n",
              "    <tr>\n",
              "      <th>4</th>\n",
              "      <td>0.761325</td>\n",
              "      <td>0.747240</td>\n",
              "      <td>0.014085</td>\n",
              "    </tr>\n",
              "    <tr>\n",
              "      <th>5</th>\n",
              "      <td>0.734110</td>\n",
              "      <td>0.732061</td>\n",
              "      <td>0.002050</td>\n",
              "    </tr>\n",
              "    <tr>\n",
              "      <th>7</th>\n",
              "      <td>0.733773</td>\n",
              "      <td>0.731860</td>\n",
              "      <td>0.001913</td>\n",
              "    </tr>\n",
              "    <tr>\n",
              "      <th>8</th>\n",
              "      <td>0.760393</td>\n",
              "      <td>0.747129</td>\n",
              "      <td>0.013265</td>\n",
              "    </tr>\n",
              "    <tr>\n",
              "      <th>9</th>\n",
              "      <td>0.770051</td>\n",
              "      <td>0.748824</td>\n",
              "      <td>0.021227</td>\n",
              "    </tr>\n",
              "  </tbody>\n",
              "</table>\n",
              "</div>"
            ],
            "text/plain": [
              "   mean_train_score  mean_test_score  train_test_difference\n",
              "0          0.761512         0.747196               0.014316\n",
              "1          0.752635         0.744267               0.008368\n",
              "2          0.738833         0.735648               0.003185\n",
              "3          0.769769         0.748548               0.021221\n",
              "4          0.761325         0.747240               0.014085\n",
              "5          0.734110         0.732061               0.002050\n",
              "7          0.733773         0.731860               0.001913\n",
              "8          0.760393         0.747129               0.013265\n",
              "9          0.770051         0.748824               0.021227"
            ]
          },
          "metadata": {
            "tags": []
          }
        }
      ]
    },
    {
      "cell_type": "markdown",
      "metadata": {
        "colab_type": "text",
        "id": "Tn7ZLL9utvc4"
      },
      "source": [
        "One can see that for RF, mean_test_score are in general lower than\n",
        "XGB and LGBM, considering the running time, as XGB's running time is about 5 times of LGBM's, even though some parameters of XGB have lower tran_test_difference (more stable), we would choose LGBM as our final model. <br> \n",
        "Also, to balance between the need for high mean_test_score and low train_test_difference, \n",
        "I would like to choose the 4th set of parameters."
      ]
    },
    {
      "cell_type": "code",
      "metadata": {
        "colab_type": "code",
        "id": "JuosEce7dr36",
        "outputId": "6a87fda6-0f6d-4f9e-a234-962bf5deedc6",
        "colab": {
          "base_uri": "https://localhost:8080/",
          "height": 170
        }
      },
      "source": [
        "final_params = lgb_searching_cv.cv_results_['params'][4]\n",
        "clf = lgb.LGBMClassifier(class_weight='balanced', n_jobs=-1, random_state=103, **final_params)\n",
        "clf.fit(X_train, y_train)"
      ],
      "execution_count": 0,
      "outputs": [
        {
          "output_type": "execute_result",
          "data": {
            "text/plain": [
              "LGBMClassifier(boosting_type='gbdt', class_weight='balanced',\n",
              "               colsample_bytree=1.0, importance_type='split',\n",
              "               learning_rate=0.08000000000000002, max_depth=4,\n",
              "               min_child_samples=20, min_child_weight=0.001, min_split_gain=0.0,\n",
              "               n_estimators=83, n_jobs=-1, num_leaves=31, objective=None,\n",
              "               random_state=103, reg_alpha=5.1, reg_lambda=16.69999999999996,\n",
              "               scale_pos_weight=2.300000000000001, silent=True,\n",
              "               subsample=0.8700000000000003, subsample_for_bin=200000,\n",
              "               subsample_freq=0)"
            ]
          },
          "metadata": {
            "tags": []
          },
          "execution_count": 26
        }
      ]
    },
    {
      "cell_type": "code",
      "metadata": {
        "colab_type": "code",
        "id": "zAilwqwugQ5b",
        "colab": {}
      },
      "source": [
        "def evaluation(X, y, model):\n",
        "    y_pred = clf.predict_proba(X)[:, 1]\n",
        "    print('The roc auc score is: {}'.format(roc_auc_score(y, y_pred)))\n",
        "    result_table = pd.DataFrame({'Predict_proba': y_pred, 'churn': y}).sort_values('Predict_proba', ascending=False)\n",
        "    result_table['rank'] = range(result_table.shape[0])\n",
        "    result_table['count'] = 1\n",
        "    result_table['percentile'] = (pd.qcut(result_table['rank'], 5, labels=False) + 1) * 20\n",
        "    decile_table = result_table.groupby('percentile')['churn', 'count'].sum()\n",
        "    decile_table['group_accuracy'] = decile_table['churn'] / decile_table['count']\n",
        "    decile_table['cumulative_churn'] = decile_table['churn'].cumsum()\n",
        "    decile_table['cumulative_count'] = decile_table['count'].cumsum()\n",
        "    decile_table['cumulative_accuracy'] = decile_table['cumulative_churn']/decile_table['cumulative_count']\n",
        "\n",
        "    display(decile_table)\n",
        "\n",
        "    print('the model uplift is {0:.2f}x'.format(decile_table.loc[20, 'cumulative_accuracy'] / decile_table.loc[100, 'cumulative_accuracy']))"
      ],
      "execution_count": 0,
      "outputs": []
    },
    {
      "cell_type": "markdown",
      "metadata": {
        "colab_type": "text",
        "id": "Gn4brZ5wTLMb"
      },
      "source": [
        "### Model evaluation\n",
        "The following table sorts the client by using the model's predicted churn probability in descending order, <br>\n",
        "and at the same time, the 'churn' columns indicate whether the client ceases to trade 28 days later. <br>\n",
        "\n",
        "Using the famous 80-20 rule, we expect that by allocating resources in \n",
        "20% of people, we can get 80% of rewards, <br>\n",
        "unfortunately, we can only recall 49% of all unengaging clients by just targeting the top 20% clients \n",
        "given by the model. <br>\n",
        "But it is still better than a random guess, which has only 20% recall rate for each of 5 groups."
      ]
    },
    {
      "cell_type": "code",
      "metadata": {
        "colab_type": "code",
        "id": "pgRCzsixiP7P",
        "outputId": "5b602d11-b91d-491b-acba-6ef92515a8e7",
        "colab": {
          "base_uri": "https://localhost:8080/",
          "height": 269
        }
      },
      "source": [
        "evaluation(X_train, y_train, clf)"
      ],
      "execution_count": 0,
      "outputs": [
        {
          "output_type": "stream",
          "text": [
            "The roc auc score is: 0.7673962703620847\n"
          ],
          "name": "stdout"
        },
        {
          "output_type": "display_data",
          "data": {
            "text/html": [
              "<div>\n",
              "<style scoped>\n",
              "    .dataframe tbody tr th:only-of-type {\n",
              "        vertical-align: middle;\n",
              "    }\n",
              "\n",
              "    .dataframe tbody tr th {\n",
              "        vertical-align: top;\n",
              "    }\n",
              "\n",
              "    .dataframe thead th {\n",
              "        text-align: right;\n",
              "    }\n",
              "</style>\n",
              "<table border=\"1\" class=\"dataframe\">\n",
              "  <thead>\n",
              "    <tr style=\"text-align: right;\">\n",
              "      <th></th>\n",
              "      <th>churn</th>\n",
              "      <th>count</th>\n",
              "      <th>group_accuracy</th>\n",
              "      <th>cumulative_churn</th>\n",
              "      <th>cumulative_count</th>\n",
              "      <th>cumulative_accuracy</th>\n",
              "    </tr>\n",
              "    <tr>\n",
              "      <th>percentile</th>\n",
              "      <th></th>\n",
              "      <th></th>\n",
              "      <th></th>\n",
              "      <th></th>\n",
              "      <th></th>\n",
              "      <th></th>\n",
              "    </tr>\n",
              "  </thead>\n",
              "  <tbody>\n",
              "    <tr>\n",
              "      <th>20</th>\n",
              "      <td>5982.0</td>\n",
              "      <td>29434</td>\n",
              "      <td>0.203234</td>\n",
              "      <td>5982.0</td>\n",
              "      <td>29434</td>\n",
              "      <td>0.203234</td>\n",
              "    </tr>\n",
              "    <tr>\n",
              "      <th>40</th>\n",
              "      <td>3360.0</td>\n",
              "      <td>29434</td>\n",
              "      <td>0.114154</td>\n",
              "      <td>9342.0</td>\n",
              "      <td>58868</td>\n",
              "      <td>0.158694</td>\n",
              "    </tr>\n",
              "    <tr>\n",
              "      <th>60</th>\n",
              "      <td>1863.0</td>\n",
              "      <td>29433</td>\n",
              "      <td>0.063296</td>\n",
              "      <td>11205.0</td>\n",
              "      <td>88301</td>\n",
              "      <td>0.126896</td>\n",
              "    </tr>\n",
              "    <tr>\n",
              "      <th>80</th>\n",
              "      <td>822.0</td>\n",
              "      <td>29434</td>\n",
              "      <td>0.027927</td>\n",
              "      <td>12027.0</td>\n",
              "      <td>117735</td>\n",
              "      <td>0.102153</td>\n",
              "    </tr>\n",
              "    <tr>\n",
              "      <th>100</th>\n",
              "      <td>157.0</td>\n",
              "      <td>29434</td>\n",
              "      <td>0.005334</td>\n",
              "      <td>12184.0</td>\n",
              "      <td>147169</td>\n",
              "      <td>0.082789</td>\n",
              "    </tr>\n",
              "  </tbody>\n",
              "</table>\n",
              "</div>"
            ],
            "text/plain": [
              "             churn  count  ...  cumulative_count  cumulative_accuracy\n",
              "percentile                 ...                                       \n",
              "20          5982.0  29434  ...             29434             0.203234\n",
              "40          3360.0  29434  ...             58868             0.158694\n",
              "60          1863.0  29433  ...             88301             0.126896\n",
              "80           822.0  29434  ...            117735             0.102153\n",
              "100          157.0  29434  ...            147169             0.082789\n",
              "\n",
              "[5 rows x 6 columns]"
            ]
          },
          "metadata": {
            "tags": []
          }
        },
        {
          "output_type": "stream",
          "text": [
            "the model uplift is 2.45x\n"
          ],
          "name": "stdout"
        }
      ]
    },
    {
      "cell_type": "markdown",
      "metadata": {
        "colab_type": "text",
        "id": "IamviaJSfGiu"
      },
      "source": [
        "### In time Test"
      ]
    },
    {
      "cell_type": "code",
      "metadata": {
        "colab_type": "code",
        "id": "r4CsATzCiVrJ",
        "outputId": "8af09e91-bae5-4ecd-a782-e5e41bdacc36",
        "colab": {
          "base_uri": "https://localhost:8080/",
          "height": 269
        }
      },
      "source": [
        "evaluation(X_test, y_test, clf)\n",
        "# We do the same for in time test set."
      ],
      "execution_count": 0,
      "outputs": [
        {
          "output_type": "stream",
          "text": [
            "The roc auc score is: 0.7503247447648458\n"
          ],
          "name": "stdout"
        },
        {
          "output_type": "display_data",
          "data": {
            "text/html": [
              "<div>\n",
              "<style scoped>\n",
              "    .dataframe tbody tr th:only-of-type {\n",
              "        vertical-align: middle;\n",
              "    }\n",
              "\n",
              "    .dataframe tbody tr th {\n",
              "        vertical-align: top;\n",
              "    }\n",
              "\n",
              "    .dataframe thead th {\n",
              "        text-align: right;\n",
              "    }\n",
              "</style>\n",
              "<table border=\"1\" class=\"dataframe\">\n",
              "  <thead>\n",
              "    <tr style=\"text-align: right;\">\n",
              "      <th></th>\n",
              "      <th>churn</th>\n",
              "      <th>count</th>\n",
              "      <th>group_accuracy</th>\n",
              "      <th>cumulative_churn</th>\n",
              "      <th>cumulative_count</th>\n",
              "      <th>cumulative_accuracy</th>\n",
              "    </tr>\n",
              "    <tr>\n",
              "      <th>percentile</th>\n",
              "      <th></th>\n",
              "      <th></th>\n",
              "      <th></th>\n",
              "      <th></th>\n",
              "      <th></th>\n",
              "      <th></th>\n",
              "    </tr>\n",
              "  </thead>\n",
              "  <tbody>\n",
              "    <tr>\n",
              "      <th>20</th>\n",
              "      <td>1890.0</td>\n",
              "      <td>9812</td>\n",
              "      <td>0.192621</td>\n",
              "      <td>1890.0</td>\n",
              "      <td>9812</td>\n",
              "      <td>0.192621</td>\n",
              "    </tr>\n",
              "    <tr>\n",
              "      <th>40</th>\n",
              "      <td>1122.0</td>\n",
              "      <td>9811</td>\n",
              "      <td>0.114361</td>\n",
              "      <td>3012.0</td>\n",
              "      <td>19623</td>\n",
              "      <td>0.153493</td>\n",
              "    </tr>\n",
              "    <tr>\n",
              "      <th>60</th>\n",
              "      <td>668.0</td>\n",
              "      <td>9811</td>\n",
              "      <td>0.068087</td>\n",
              "      <td>3680.0</td>\n",
              "      <td>29434</td>\n",
              "      <td>0.125025</td>\n",
              "    </tr>\n",
              "    <tr>\n",
              "      <th>80</th>\n",
              "      <td>317.0</td>\n",
              "      <td>9811</td>\n",
              "      <td>0.032311</td>\n",
              "      <td>3997.0</td>\n",
              "      <td>39245</td>\n",
              "      <td>0.101847</td>\n",
              "    </tr>\n",
              "    <tr>\n",
              "      <th>100</th>\n",
              "      <td>65.0</td>\n",
              "      <td>9812</td>\n",
              "      <td>0.006625</td>\n",
              "      <td>4062.0</td>\n",
              "      <td>49057</td>\n",
              "      <td>0.082802</td>\n",
              "    </tr>\n",
              "  </tbody>\n",
              "</table>\n",
              "</div>"
            ],
            "text/plain": [
              "             churn  count  ...  cumulative_count  cumulative_accuracy\n",
              "percentile                 ...                                       \n",
              "20          1890.0   9812  ...              9812             0.192621\n",
              "40          1122.0   9811  ...             19623             0.153493\n",
              "60           668.0   9811  ...             29434             0.125025\n",
              "80           317.0   9811  ...             39245             0.101847\n",
              "100           65.0   9812  ...             49057             0.082802\n",
              "\n",
              "[5 rows x 6 columns]"
            ]
          },
          "metadata": {
            "tags": []
          }
        },
        {
          "output_type": "stream",
          "text": [
            "the model uplift is 2.33x\n"
          ],
          "name": "stdout"
        }
      ]
    },
    {
      "cell_type": "markdown",
      "metadata": {
        "colab_type": "text",
        "id": "A05ihyXSSYv1"
      },
      "source": [
        "### Out of Time Test"
      ]
    },
    {
      "cell_type": "code",
      "metadata": {
        "colab_type": "code",
        "id": "Njs82EBvT_Ch",
        "outputId": "6a704977-6e2c-46d0-f676-d47b45f1adf1",
        "colab": {
          "base_uri": "https://localhost:8080/",
          "height": 269
        }
      },
      "source": [
        "df_oot_test = data_transformation_pipeline('2019-01-01', '2019-04-01')\n",
        "evaluation(df_oot_test.drop(['churn'], axis=1), df_oot_test['churn'], clf)\n",
        "# We also do the same for out of time test set."
      ],
      "execution_count": 0,
      "outputs": [
        {
          "output_type": "stream",
          "text": [
            "The roc auc score is: 0.7619284588841753\n"
          ],
          "name": "stdout"
        },
        {
          "output_type": "display_data",
          "data": {
            "text/html": [
              "<div>\n",
              "<style scoped>\n",
              "    .dataframe tbody tr th:only-of-type {\n",
              "        vertical-align: middle;\n",
              "    }\n",
              "\n",
              "    .dataframe tbody tr th {\n",
              "        vertical-align: top;\n",
              "    }\n",
              "\n",
              "    .dataframe thead th {\n",
              "        text-align: right;\n",
              "    }\n",
              "</style>\n",
              "<table border=\"1\" class=\"dataframe\">\n",
              "  <thead>\n",
              "    <tr style=\"text-align: right;\">\n",
              "      <th></th>\n",
              "      <th>churn</th>\n",
              "      <th>count</th>\n",
              "      <th>group_accuracy</th>\n",
              "      <th>cumulative_churn</th>\n",
              "      <th>cumulative_count</th>\n",
              "      <th>cumulative_accuracy</th>\n",
              "    </tr>\n",
              "    <tr>\n",
              "      <th>percentile</th>\n",
              "      <th></th>\n",
              "      <th></th>\n",
              "      <th></th>\n",
              "      <th></th>\n",
              "      <th></th>\n",
              "      <th></th>\n",
              "    </tr>\n",
              "  </thead>\n",
              "  <tbody>\n",
              "    <tr>\n",
              "      <th>20</th>\n",
              "      <td>1394.0</td>\n",
              "      <td>19749</td>\n",
              "      <td>0.070586</td>\n",
              "      <td>1394.0</td>\n",
              "      <td>19749</td>\n",
              "      <td>0.070586</td>\n",
              "    </tr>\n",
              "    <tr>\n",
              "      <th>40</th>\n",
              "      <td>745.0</td>\n",
              "      <td>19749</td>\n",
              "      <td>0.037723</td>\n",
              "      <td>2139.0</td>\n",
              "      <td>39498</td>\n",
              "      <td>0.054155</td>\n",
              "    </tr>\n",
              "    <tr>\n",
              "      <th>60</th>\n",
              "      <td>381.0</td>\n",
              "      <td>19749</td>\n",
              "      <td>0.019292</td>\n",
              "      <td>2520.0</td>\n",
              "      <td>59247</td>\n",
              "      <td>0.042534</td>\n",
              "    </tr>\n",
              "    <tr>\n",
              "      <th>80</th>\n",
              "      <td>152.0</td>\n",
              "      <td>19749</td>\n",
              "      <td>0.007697</td>\n",
              "      <td>2672.0</td>\n",
              "      <td>78996</td>\n",
              "      <td>0.033824</td>\n",
              "    </tr>\n",
              "    <tr>\n",
              "      <th>100</th>\n",
              "      <td>35.0</td>\n",
              "      <td>19749</td>\n",
              "      <td>0.001772</td>\n",
              "      <td>2707.0</td>\n",
              "      <td>98745</td>\n",
              "      <td>0.027414</td>\n",
              "    </tr>\n",
              "  </tbody>\n",
              "</table>\n",
              "</div>"
            ],
            "text/plain": [
              "             churn  count  ...  cumulative_count  cumulative_accuracy\n",
              "percentile                 ...                                       \n",
              "20          1394.0  19749  ...             19749             0.070586\n",
              "40           745.0  19749  ...             39498             0.054155\n",
              "60           381.0  19749  ...             59247             0.042534\n",
              "80           152.0  19749  ...             78996             0.033824\n",
              "100           35.0  19749  ...             98745             0.027414\n",
              "\n",
              "[5 rows x 6 columns]"
            ]
          },
          "metadata": {
            "tags": []
          }
        },
        {
          "output_type": "stream",
          "text": [
            "the model uplift is 2.57x\n"
          ],
          "name": "stdout"
        }
      ]
    },
    {
      "cell_type": "markdown",
      "metadata": {
        "colab_type": "text",
        "id": "ZoRe4AUpT7NR"
      },
      "source": [
        "Even the natural churn rate is 2.7%, which is much lower than the training period. <br>\n",
        "The model performance is still stable in terms of the model uplift and roc auc score. <br>\n",
        "This suggests that, given a set of clients, the ability to separate the client's churn probability in a relative scale is the same. <br> \n",
        "\n",
        "Whenever the roc_auc deviate a lot, one should consider retraining the model."
      ]
    },
    {
      "cell_type": "markdown",
      "metadata": {
        "colab_type": "text",
        "id": "kaCEMg9IUC-y"
      },
      "source": [
        "### Execution plan for retaining clients\n",
        "What can we do to retain a long term relationship with clients? <br>\n",
        "Apart from strategies mentioned in the EDA part (like offering free upgrade form a particular age group), it is also natural to leverage our model prediction. <br>\n",
        "\n",
        "Therefore, given that the client has a transaction in the past 7 days, if the model predicts the client will churn in the future, what can we do to solidify the client relationship? <br>\n",
        "\n",
        "We may first build a data pipeline that is similar to what we have done previously, but for the notification data frame, instead of collecting data in the past 1 month, we will collect the data 1 to 14 days after the snapshot."
      ]
    },
    {
      "cell_type": "code",
      "metadata": {
        "colab_type": "code",
        "id": "U2aXom11e-kN",
        "colab": {}
      },
      "source": [
        "notifications = notifications_raw.copy()\n",
        "notifications = notifications.rename({'created_date': 'message_created_date'}, axis=1)\n",
        "notifications['status'] = notifications['status'].replace({'FAILED': 'MESSAGE_FAILED'})\n",
        "\n",
        "# This time, we will include reasons, since we want to know what kind of messages will be helpful to retain the client.\n",
        "domain_values = {}\n",
        "domain_values['channel'] = notifications['channel'].unique()\n",
        "domain_values['status'] = notifications['status'].unique()\n",
        "domain_values['reason'] = notifications['reason'].unique()"
      ],
      "execution_count": 0,
      "outputs": []
    },
    {
      "cell_type": "code",
      "metadata": {
        "colab_type": "code",
        "id": "ww8JnNbCflAW",
        "colab": {}
      },
      "source": [
        "def campaign_transformation_pipeline(start_time, end_time):\n",
        "    snap_shot_dates = []\n",
        "    snap_shot_date = pd.to_datetime(start_time)\n",
        "    while snap_shot_date < pd.to_datetime(end_time):\n",
        "        snap_shot_dates.append(snap_shot_date)\n",
        "        snap_shot_date = snap_shot_date + relativedelta(snap_shot_date, days=7)\n",
        "\n",
        "    df_all_months = {}\n",
        "    for snap_shot_date in snap_shot_dates:\n",
        "        snap_shot_beg = pd.to_datetime(snap_shot_date)\n",
        "        snap_shot_end = snap_shot_beg + relativedelta(snap_shot_beg, months=1)\n",
        "\n",
        "        users_1m = users[users['account_created_date'] < snap_shot_end].copy().set_index('user_id')\n",
        "        users_1m['age'] = snap_shot_end.year - users_1m['birth_year']\n",
        "        users_1m = users_1m[['plan_level',\n",
        "                            'age',\n",
        "                            'attributes_notifications_marketing_push',\n",
        "                            'attributes_notifications_marketing_email']]\n",
        "\n",
        "        trans_beg = snap_shot_end + relativedelta(snap_shot_end, days=-7)\n",
        "        transactions_7d = transactions[(trans_beg <= transactions['transaction_date'] ) & (transactions['transaction_date'] < snap_shot_end)].copy()\n",
        "        next_transaction_date = transactions[transactions['transaction_date'] >= snap_shot_end].groupby('user_id')['transaction_date'].min()\n",
        "\n",
        "        trans_summary_7d = pd.DataFrame(transactions_7d.groupby('user_id')['amount_usd'].mean())\n",
        "        trans_summary_7d = trans_summary_7d.rename({'amount_usd': 'mean_transaction_7d'}, axis=1).sort_index()\n",
        "        trans_summary_7d['days_unitl_next_transation'] = (next_transaction_date - snap_shot_end).dt.days\n",
        "        trans_summary_7d['churn'] = trans_summary_7d['days_unitl_next_transation'] > 28\n",
        "        trans_summary_7d.drop(['days_unitl_next_transation'], axis=1, inplace=True)\n",
        "\n",
        "        #### This time, we will only select data 1 to 14 days after each snapshot!\n",
        "        data_to_concat = []\n",
        "        message_beg_date = snap_shot_date + relativedelta(snap_shot_date, days=1)\n",
        "        message_end_date = snap_shot_date + relativedelta(snap_shot_date, days=14)\n",
        "        campaign_period_msg = notifications[(message_beg_date <= notifications['message_created_date'] ) & (notifications['message_created_date'] < message_end_date)].copy()\n",
        "        for column in ['status', 'channel', 'reason']:\n",
        "            # To make a pivot table which store the count for different domain values\n",
        "            temp = campaign_period_msg.pivot_table(index='user_id',\n",
        "                                                    columns=column,\n",
        "                                                    values='message_created_date',\n",
        "                                                    aggfunc='count', \n",
        "                                                    fill_value=0).sort_index()\n",
        "            for domain_value in domain_values[column]:\n",
        "                if domain_value not in temp.columns:\n",
        "                    temp[domain_value] = 0 \n",
        "            temp = temp[domain_values[column]]\n",
        "            data_to_concat.append(temp)\n",
        "        campaign_period_cnt = campaign_period_msg.groupby('user_id')['message_created_date'].count()\n",
        "\n",
        "        df_1m = pd.concat([users_1m, campaign_period_cnt] + data_to_concat , axis=1, join='outer', sort=False)\n",
        "        df_1m['attributes_notifications_marketing_push'] = df_1m[['attributes_notifications_marketing_push', 'PUSH']].fillna(0).max(axis=1) > 0\n",
        "        df_1m['attributes_notifications_marketing_email'] = df_1m[['attributes_notifications_marketing_push', 'EMAIL']].fillna(0).max(axis=1) > 0\n",
        "\n",
        "        df_1m = trans_summary_7d.merge(df_1m, left_index=True, right_index=True, how='left')\n",
        "        df_all_months[snap_shot_date] = df_1m\n",
        "\n",
        "    df = pd.concat(df_all_months.values()).rename({'message_created_date': 'num_messages_1m'}, axis=1)\n",
        "    return df.fillna(0)"
      ],
      "execution_count": 0,
      "outputs": []
    },
    {
      "cell_type": "code",
      "metadata": {
        "colab_type": "code",
        "id": "1C9wxHqnhxe_",
        "colab": {}
      },
      "source": [
        "campaign = campaign_transformation_pipeline('2018-07-01', '2019-04-01')\n",
        "# Only select clients that are willing to receive notification\n",
        "valid_cus = campaign[campaign['attributes_notifications_marketing_push'] | campaign['attributes_notifications_marketing_email']].copy()"
      ],
      "execution_count": 0,
      "outputs": []
    },
    {
      "cell_type": "markdown",
      "metadata": {
        "colab_type": "text",
        "id": "M-fk-evKX4FS"
      },
      "source": [
        "Lets modulize our campaign evaluation process to avoid code duplication."
      ]
    },
    {
      "cell_type": "code",
      "metadata": {
        "colab_type": "code",
        "id": "kdkDyoxwkiko",
        "colab": {}
      },
      "source": [
        "def campaign_evaluation(col_name):\n",
        "    # A standard t_test is conducted to test the churn rate between two treatments\n",
        "    t_test_samples = valid_cus[[col_name, 'churn']].copy()\n",
        "    # flag out whether the client receive a message in 1 to 14 days after\n",
        "    t_test_samples[col_name] = t_test_samples[col_name] > 0\n",
        "    with_msg = t_test_samples[t_test_samples[col_name]]['churn']\n",
        "    without_msg = t_test_samples[~t_test_samples[col_name]]['churn']\n",
        "    print('churn rate of those getting {0} notifications: {1:.2f}%'.format(col_name, with_msg.mean() * 100))\n",
        "    print('churn rate of those without {0} notifications: {1:.2f}%'.format(col_name, without_msg.mean() * 100))\n",
        "    print('p value of (two-tail) t test: ', ttest_ind(with_msg, without_msg)[1])"
      ],
      "execution_count": 0,
      "outputs": []
    },
    {
      "cell_type": "code",
      "metadata": {
        "colab_type": "code",
        "id": "rnrWJbRolvd4",
        "outputId": "d686986a-13fd-4f1e-aec2-80a47b96126e",
        "colab": {
          "base_uri": "https://localhost:8080/",
          "height": 68
        }
      },
      "source": [
        "campaign_evaluation('SENT') # successfully sent notification to clients."
      ],
      "execution_count": 0,
      "outputs": [
        {
          "output_type": "stream",
          "text": [
            "churn rate of those getting SENT notifications: 5.72%\n",
            "churn rate of those without SENT notifications: 5.11%\n",
            "p value of (two-tail) t test:  3.519483715606599e-07\n"
          ],
          "name": "stdout"
        }
      ]
    },
    {
      "cell_type": "markdown",
      "metadata": {
        "colab_type": "text",
        "id": "9nwJAGOeYDgY"
      },
      "source": [
        "It seems frustrating that sending notifications will drive clients away. However, recall that there are many reasons to send out messages to clients, we are now going to investigate which reason can help retain clients."
      ]
    },
    {
      "cell_type": "code",
      "metadata": {
        "colab_type": "code",
        "id": "5SjqobXcmgJX",
        "outputId": "75be5eb7-43f0-4bfc-dfa3-ab409e340f5d",
        "colab": {
          "base_uri": "https://localhost:8080/",
          "height": 323
        }
      },
      "source": [
        "campaign_evaluation('BLACK_FRIDAY')\n",
        "print('\\n')\n",
        "campaign_evaluation('FIFTH_PAYMENT_PROMO')\n",
        "print('\\n')\n",
        "campaign_evaluation('REENGAGEMENT_ACTIVE_FUNDS')\n",
        "print('\\n')\n",
        "campaign_evaluation('METAL_GAME_START')"
      ],
      "execution_count": 0,
      "outputs": [
        {
          "output_type": "stream",
          "text": [
            "churn rate of those getting BLACK_FRIDAY notifications: 2.53%\n",
            "churn rate of those without BLACK_FRIDAY notifications: 5.31%\n",
            "p value of (two-tail) t test:  7.295265431051689e-10\n",
            "\n",
            "\n",
            "churn rate of those getting FIFTH_PAYMENT_PROMO notifications: 3.44%\n",
            "churn rate of those without FIFTH_PAYMENT_PROMO notifications: 5.39%\n",
            "p value of (two-tail) t test:  5.582283750978542e-19\n",
            "\n",
            "\n",
            "churn rate of those getting REENGAGEMENT_ACTIVE_FUNDS notifications: 8.50%\n",
            "churn rate of those without REENGAGEMENT_ACTIVE_FUNDS notifications: 4.84%\n",
            "p value of (two-tail) t test:  1.6938233051399085e-110\n",
            "\n",
            "\n",
            "churn rate of those getting METAL_GAME_START notifications: 2.82%\n",
            "churn rate of those without METAL_GAME_START notifications: 5.36%\n",
            "p value of (two-tail) t test:  4.288849684584922e-19\n"
          ],
          "name": "stdout"
        }
      ]
    },
    {
      "cell_type": "markdown",
      "metadata": {
        "colab_type": "text",
        "id": "nAqALV9lmzId"
      },
      "source": [
        "We see that 'METAL_GAME_START', 'FIFTH_PAYMENT_PROMO' and 'BLACK_FRIDAY'\n",
        "are quite effective to retain clients. <br>\n",
        "Let's see whether that are particularly useful to retain clients in certain age group."
      ]
    },
    {
      "cell_type": "code",
      "metadata": {
        "colab_type": "code",
        "id": "JlVQkNCvpq5n",
        "outputId": "95a601e7-6d83-4222-afce-0644460ad299",
        "colab": {
          "base_uri": "https://localhost:8080/",
          "height": 296
        }
      },
      "source": [
        "sns.violinplot(x=valid_cus['age'],\n",
        "               y=valid_cus['BLACK_FRIDAY'].clip(upper=1),\n",
        "               hue=valid_cus['churn'],\n",
        "               split=True,\n",
        "               orient='h')\n",
        "\n",
        "# We can read the graph in two dimensions, \n",
        "# First, one can compare the orange regions of two rows.\n",
        "# The slight difference in shape suggests that the \n",
        "# BLACK_FRIDAY notification can really affect the clients' intention\n",
        "# to cease using our bank across different age groups.\n",
        "# Secondly, at the bottom row, after the client receives at least 1 message about BLACK_FRIDAY,\n",
        "# clients in 20 - 30 age group may decide to use keep using our bank in the future.\n",
        "# This may suggest us to target younger users on black friday."
      ],
      "execution_count": 0,
      "outputs": [
        {
          "output_type": "execute_result",
          "data": {
            "text/plain": [
              "<matplotlib.axes._subplots.AxesSubplot at 0x7f2c1eda02b0>"
            ]
          },
          "metadata": {
            "tags": []
          },
          "execution_count": 37
        },
        {
          "output_type": "display_data",
          "data": {
            "image/png": "[encoded data removed]",
            "text/plain": [
              "<Figure size 432x288 with 1 Axes>"
            ]
          },
          "metadata": {
            "tags": []
          }
        }
      ]
    },
    {
      "cell_type": "code",
      "metadata": {
        "colab_type": "code",
        "id": "XhBsHpszp51H",
        "outputId": "a09c4fa1-eac8-4b95-8199-32295a8dba6c",
        "colab": {
          "base_uri": "https://localhost:8080/",
          "height": 296
        }
      },
      "source": [
        "sns.violinplot(x=valid_cus['age'],\n",
        "               y=valid_cus['FIFTH_PAYMENT_PROMO'].clip(upper=1),\n",
        "               hue=valid_cus['churn'],\n",
        "               split=True,\n",
        "               orient='h')\n",
        "# Unfortunately, the 4 halves of the graph look similar, this may suggest that\n",
        "# FIFTH_PAYMENT_PROMO has the same effect across different age groups,\n",
        "# but given that FIFTH_PAYMENT_PROMO statistically can reduce client churn rate.\n",
        "# We keep blasting similar message in future campaigns.\n",
        "# To better allocate resources, we should adopt the following\n",
        "# framework in the future marketing campaign."
      ],
      "execution_count": 0,
      "outputs": [
        {
          "output_type": "execute_result",
          "data": {
            "text/plain": [
              "<matplotlib.axes._subplots.AxesSubplot at 0x7f2c1f41f898>"
            ]
          },
          "metadata": {
            "tags": []
          },
          "execution_count": 38
        },
        {
          "output_type": "display_data",
          "data": {
            "image/png": "[encoded data removed]",
            "text/plain": [
              "<Figure size 432x288 with 1 Axes>"
            ]
          },
          "metadata": {
            "tags": []
          }
        }
      ]
    },
    {
      "cell_type": "markdown",
      "metadata": {
        "colab_type": "text",
        "id": "q-1P9xL6EBG8"
      },
      "source": [
        "At last, to better allocate our future resources, <br>\n",
        "I will suggest the following framework to the marketing team: <br>\n",
        "Recall that our model separate clients into 5 groups (define it to be model groups), in each group, we may reserve a portion of clients (say 5%) that will not be targeted in the future marketing campaign (control group). <br>\n",
        "\n",
        "In our next FIFTH_PAYMENT_PROMO campaign, apart from targeting the top 20% users, \n",
        "we should also target some users across different model groups. This will be very useful to track our campaign performance.<br>\n",
        "\n",
        "Suppose after the campaign, the result is as follows:"
      ]
    },
    {
      "cell_type": "code",
      "metadata": {
        "colab_type": "code",
        "id": "Jl5Ce53iGZkE",
        "outputId": "75dc11dd-3b8d-412b-d3fb-2f0512d6e72d",
        "colab": {
          "base_uri": "https://localhost:8080/",
          "height": 204
        }
      },
      "source": [
        "eg = pd.DataFrame({'campaign_group_churn_rate':[0.11, 0.025, 0.02, 0.005, 0.01],\n",
        "                    'control_group_churn_rate': [0.1, 0.05, 0.02, 0.01, 0.01]},\n",
        "                      index=range(20, 101, 20))\n",
        "display(eg)"
      ],
      "execution_count": 0,
      "outputs": [
        {
          "output_type": "display_data",
          "data": {
            "text/html": [
              "<div>\n",
              "<style scoped>\n",
              "    .dataframe tbody tr th:only-of-type {\n",
              "        vertical-align: middle;\n",
              "    }\n",
              "\n",
              "    .dataframe tbody tr th {\n",
              "        vertical-align: top;\n",
              "    }\n",
              "\n",
              "    .dataframe thead th {\n",
              "        text-align: right;\n",
              "    }\n",
              "</style>\n",
              "<table border=\"1\" class=\"dataframe\">\n",
              "  <thead>\n",
              "    <tr style=\"text-align: right;\">\n",
              "      <th></th>\n",
              "      <th>campaign_group_churn_rate</th>\n",
              "      <th>control_group_churn_rate</th>\n",
              "    </tr>\n",
              "  </thead>\n",
              "  <tbody>\n",
              "    <tr>\n",
              "      <th>20</th>\n",
              "      <td>0.110</td>\n",
              "      <td>0.10</td>\n",
              "    </tr>\n",
              "    <tr>\n",
              "      <th>40</th>\n",
              "      <td>0.025</td>\n",
              "      <td>0.05</td>\n",
              "    </tr>\n",
              "    <tr>\n",
              "      <th>60</th>\n",
              "      <td>0.020</td>\n",
              "      <td>0.02</td>\n",
              "    </tr>\n",
              "    <tr>\n",
              "      <th>80</th>\n",
              "      <td>0.005</td>\n",
              "      <td>0.01</td>\n",
              "    </tr>\n",
              "    <tr>\n",
              "      <th>100</th>\n",
              "      <td>0.010</td>\n",
              "      <td>0.01</td>\n",
              "    </tr>\n",
              "  </tbody>\n",
              "</table>\n",
              "</div>"
            ],
            "text/plain": [
              "     campaign_group_churn_rate  control_group_churn_rate\n",
              "20                       0.110                      0.10\n",
              "40                       0.025                      0.05\n",
              "60                       0.020                      0.02\n",
              "80                       0.005                      0.01\n",
              "100                      0.010                      0.01"
            ]
          },
          "metadata": {
            "tags": []
          }
        }
      ]
    },
    {
      "cell_type": "markdown",
      "metadata": {
        "colab_type": "text",
        "id": "ucI-uIIwYo2x"
      },
      "source": [
        "One can see that after the campaign, group 2 (20%-40%) and group 4 (60-80%)'s  <br>\n",
        "churn rate was reduced, whereas the churn rate in group 1 (0%-20%) is similar to the control group, <br>\n",
        "this suggests this campaign may not be attractive enough to retain them. <br>\n",
        "After conducting t-test or other statistical tests, <br>\n",
        "one may decide to allocate the same resources to group 2 and group 4 in the future."
      ]
    },
    {
      "cell_type": "markdown",
      "metadata": {
        "colab_type": "text",
        "id": "SnDy18CECdt8"
      },
      "source": [
        "### Main take way for the execution plan and metric:\n",
        "1. target particular age group for Black friday message. <br>\n",
        "2. Set up send out 'FIFTH_PAYMENT_PROMO' to all 5 model groups <br>\n",
        "3. Gather the statistics of the campaign and set up, say t-test for the campaign evaluation.\n",
        "4. Target the groups that have a significant decrease in churn rate if the same campaign is conducted in the future.\n"
      ]
    },
    {
      "cell_type": "markdown",
      "metadata": {
        "colab_type": "text",
        "id": "tQ1IVS78erM7"
      },
      "source": [
        "Thanks for joining this data science journey! I hope you enjoy this journey and I can proceed to the next stage!"
      ]
    }
  ]
}