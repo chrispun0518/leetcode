{
 "cells": [
  {
   "cell_type": "markdown",
   "metadata": {},
   "source": [
    "# Flask RestAPI demo"
   ]
  },
  {
   "cell_type": "markdown",
   "metadata": {},
   "source": [
    "The main purpose of this demo is to show how to deploy a machine learning app using flask. <br>\n",
    "For a more rigorious demo on building machine learning model, please refer to other notebooks."
   ]
  },
  {
   "cell_type": "code",
   "execution_count": 1,
   "metadata": {
    "colab": {},
    "colab_type": "code",
    "id": "dHUu6K8xHe4k"
   },
   "outputs": [],
   "source": [
    "import pickle\n",
    "import requests\n",
    "import pandas as pd\n",
    "import json\n",
    "from sklearn.datasets import load_iris\n",
    "from sklearn.model_selection import train_test_split, cross_validate\n",
    "from sklearn.preprocessing import StandardScaler\n",
    "from sklearn.linear_model import LogisticRegression\n",
    "from sklearn.metrics import accuracy_score\n",
    "from sklearn.pipeline import Pipeline"
   ]
  },
  {
   "cell_type": "code",
   "execution_count": 2,
   "metadata": {
    "colab": {},
    "colab_type": "code",
    "id": "c0Oa-A1nHo7F"
   },
   "outputs": [],
   "source": [
    "# load data\n",
    "data, target = load_iris(return_X_y=True)"
   ]
  },
  {
   "cell_type": "code",
   "execution_count": 3,
   "metadata": {
    "colab": {},
    "colab_type": "code",
    "id": "6S7CDCedIRz5"
   },
   "outputs": [],
   "source": [
    "# spliting data to train and test set\n",
    "X_train, X_test, y_train, y_test = train_test_split(data, target)"
   ]
  },
  {
   "cell_type": "code",
   "execution_count": 4,
   "metadata": {
    "colab": {
     "base_uri": "https://localhost:8080/",
     "height": 68
    },
    "colab_type": "code",
    "id": "DhjARXVzJTGQ",
    "outputId": "f593730a-beae-4555-f078-c405ea682b30"
   },
   "outputs": [
    {
     "data": {
      "text/plain": [
       "{'fit_time': array([0.01300049, 0.01300073, 0.01100063]),\n",
       " 'score_time': array([0.00400043, 0.        , 0.00099993]),\n",
       " 'test_score': array([0.94736842, 0.86486486, 0.97297297])}"
      ]
     },
     "execution_count": 4,
     "metadata": {},
     "output_type": "execute_result"
    }
   ],
   "source": [
    "# building pipeline\n",
    "preprocessor = StandardScaler()\n",
    "model = LogisticRegression(C=3, multi_class='ovr')\n",
    "pipeline = Pipeline([('standard_scaler', preprocessor), ('classifier', model)])\n",
    "cross_validate(pipeline, X_train, y_train, cv=3)"
   ]
  },
  {
   "cell_type": "code",
   "execution_count": 5,
   "metadata": {
    "colab": {
     "base_uri": "https://localhost:8080/",
     "height": 51
    },
    "colab_type": "code",
    "id": "af4gGOXJIh90",
    "outputId": "88ca0e68-b5ec-4158-cd09-77363ca64a95"
   },
   "outputs": [
    {
     "name": "stdout",
     "output_type": "stream",
     "text": [
      "The accuracy score for train set is 0.9375\n",
      "The accuracy score for test set is 0.9473684210526315\n"
     ]
    }
   ],
   "source": [
    "pipeline.fit(X_train, y_train)\n",
    "print('The accuracy score for train set is {}'.format(accuracy_score(y_train, pipeline.predict(X_train))))\n",
    "print('The accuracy score for test set is {}'.format(accuracy_score(y_test, pipeline.predict(X_test))))"
   ]
  },
  {
   "cell_type": "code",
   "execution_count": 6,
   "metadata": {},
   "outputs": [],
   "source": [
    "with open('model.pkl', 'wb') as io:\n",
    "    pickle.dump(pipeline, io)"
   ]
  },
  {
   "cell_type": "markdown",
   "metadata": {},
   "source": [
    "The following script is the main code of the app, which accept an Http post request and return the prediction result."
   ]
  },
  {
   "cell_type": "code",
   "execution_count": 7,
   "metadata": {
    "colab": {},
    "colab_type": "code",
    "id": "7oSffjyTNhgj"
   },
   "outputs": [
    {
     "name": "stdout",
     "output_type": "stream",
     "text": [
      "Overwriting flask_app.py\n"
     ]
    }
   ],
   "source": [
    "%%writefile flask_app.py\n",
    "import pickle\n",
    "import numpy as np\n",
    "from flask import Flask, request, jsonify\n",
    "\n",
    "app = Flask(__name__)\n",
    "with open('model.pkl', 'rb') as io:\n",
    "    model = pickle.load(io)\n",
    "    \n",
    "@app.route('/predict', methods=['POST', 'GET'])\n",
    "def predict():\n",
    "    if request.method == 'GET':\n",
    "        data = request.args\n",
    "        data = [data.get(f'arg{index}') for index in range(1, 5)]\n",
    "    else :\n",
    "        data = request.get_json()\n",
    "        data = [data.get(f'arg{index}') for index in range(1, 5)]\n",
    "        return str(data)\n",
    "        \n",
    "    try :\n",
    "        data = [float(record) for record in data if record]\n",
    "        X_data = np.array(data).reshape(-1, 4)\n",
    "        y_pred = model.predict(X_data)[0]\n",
    "        y_prob = np.max(model.predict_proba(X_data))\n",
    "        if request.method == 'GET':\n",
    "            return f'It is in group {y_pred} with probability {y_prob:.2f}'\n",
    "        else:\n",
    "            result = {'group' : f'{y_pred}', 'probability': f'{y_prob:.2f}'}\n",
    "            return jsonify(result)\n",
    "    except ValueError: \n",
    "        return 'Please input 4 data with names arg1, arg2, arg3, arg4'\n",
    "    \n",
    "\n",
    "if __name__ == '__main__':\n",
    "    app.run(debug=True, host='0.0.0.0')\n"
   ]
  },
  {
   "cell_type": "markdown",
   "metadata": {},
   "source": [
    "Execute the code flask_app.py in the terminal. <br>\n",
    "For example, in the windows environment, execute <br>\n",
    "set FLASK_APP=flask_app.py <br>\n",
    "flask run"
   ]
  },
  {
   "cell_type": "markdown",
   "metadata": {},
   "source": [
    "### Get request"
   ]
  },
  {
   "cell_type": "code",
   "execution_count": 8,
   "metadata": {
    "colab": {},
    "colab_type": "code",
    "id": "E2USsHMUJ2jH"
   },
   "outputs": [
    {
     "data": {
      "text/plain": [
       "b'It is in group 1 with probability 0.78'"
      ]
     },
     "execution_count": 8,
     "metadata": {},
     "output_type": "execute_result"
    }
   ],
   "source": [
    "requests.get('http://127.0.0.1:5000/predict?arg1=6.8&arg2=2.8&arg3=4.8&arg4=1.4').content"
   ]
  },
  {
   "cell_type": "code",
   "execution_count": 9,
   "metadata": {},
   "outputs": [
    {
     "data": {
      "text/plain": [
       "b'Please input 4 data with names arg1, arg2, arg3, arg4'"
      ]
     },
     "execution_count": 9,
     "metadata": {},
     "output_type": "execute_result"
    }
   ],
   "source": [
    "requests.get('http://127.0.0.1:5000/predict?arg5=6.8&arg2=2.8&arg3=4.8&arg4=1.4').content"
   ]
  },
  {
   "cell_type": "markdown",
   "metadata": {},
   "source": [
    "### Post Request"
   ]
  },
  {
   "cell_type": "code",
   "execution_count": 10,
   "metadata": {},
   "outputs": [
    {
     "data": {
      "text/plain": [
       "b'{\"group\":\"1\",\"probability\":\"0.78\"}\\n'"
      ]
     },
     "execution_count": 10,
     "metadata": {},
     "output_type": "execute_result"
    }
   ],
   "source": [
    "data = json.dumps({'arg1': '6.8',  'arg2': '2.8' , 'arg3': '4.8', 'arg4':'1.4'})\n",
    "header = {'content-type': 'application/json', 'Accept-Charset': 'UTF-8'}\n",
    "requests.post('http://127.0.0.1:5000/predict', data=data, headers=header).content"
   ]
  },
  {
   "cell_type": "code",
   "execution_count": 11,
   "metadata": {},
   "outputs": [
    {
     "data": {
      "text/plain": [
       "b'Please input 4 data with names arg1, arg2, arg3, arg4'"
      ]
     },
     "execution_count": 11,
     "metadata": {},
     "output_type": "execute_result"
    }
   ],
   "source": [
    "data = json.dumps({'arg5': '6.8',  'arg2': '2.8' , 'arg3': '4.8', 'arg4':'1.4'})\n",
    "header = {'content-type': 'application/json', 'Accept-Charset': 'UTF-8'}\n",
    "requests.get('http://127.0.0.1:5000/predict').content"
   ]
  }
 ],
 "metadata": {
  "colab": {
   "name": "Untitled0.ipynb",
   "provenance": []
  },
  "kernelspec": {
   "display_name": "Python 3",
   "language": "python",
   "name": "python3"
  },
  "language_info": {
   "codemirror_mode": {
    "name": "ipython",
    "version": 3
   },
   "file_extension": ".py",
   "mimetype": "text/x-python",
   "name": "python",
   "nbconvert_exporter": "python",
   "pygments_lexer": "ipython3",
   "version": "3.8.3"
  }
 },
 "nbformat": 4,
 "nbformat_minor": 1
}
