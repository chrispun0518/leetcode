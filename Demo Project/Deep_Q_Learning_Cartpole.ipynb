{
  "nbformat": 4,
  "nbformat_minor": 0,
  "metadata": {
    "kernelspec": {
      "display_name": "Python 3",
      "language": "python",
      "name": "python3"
    },
    "language_info": {
      "codemirror_mode": {
        "name": "ipython",
        "version": 3
      },
      "file_extension": ".py",
      "mimetype": "text/x-python",
      "name": "python",
      "nbconvert_exporter": "python",
      "pygments_lexer": "ipython3",
      "version": "3.7.7"
    },
    "colab": {
      "name": "DQN.ipynb",
      "provenance": [],
      "collapsed_sections": []
    }
  },
  "cells": [
    {
      "cell_type": "code",
      "metadata": {
        "id": "oKU3uwXt6nX3",
        "colab_type": "code",
        "colab": {}
      },
      "source": [
        "import random\n",
        "from IPython.display import clear_output\n",
        "from collections import deque\n",
        "\n",
        "import gym\n",
        "import tensorflow as tf\n",
        "import numpy as np\n",
        "import matplotlib.pyplot as plt\n"
      ],
      "execution_count": 1,
      "outputs": []
    },
    {
      "cell_type": "markdown",
      "metadata": {
        "id": "wF1wWGiYN0-h",
        "colab_type": "text"
      },
      "source": [
        "This is a very simple <b>Deep Q learning</b> model with <b>experience replay</b> for solving the Cartpole problem. <br>\n",
        "The Cartpole problem was to find an agent that can help the pole to balance for a long period. Since the observation space is continous (i.e. infinitely many states), it is natural to use approximation methods instead of traditional tabular Q learning methods."
      ]
    },
    {
      "cell_type": "code",
      "metadata": {
        "id": "FuTtBgxG6nX9",
        "colab_type": "code",
        "colab": {}
      },
      "source": [
        "class DQN:\n",
        "    def __init__(self, sizes, gamma=1, epsilon=1, batch_size=128):\n",
        "        self.env = gym.make('CartPole-v0')\n",
        "        self.nS = self.env.observation_space.shape[0]\n",
        "        self.nA = self.env.action_space.n\n",
        "        self.gamma = gamma\n",
        "        self.epsilon = epsilon\n",
        "        self.batch_size = batch_size\n",
        "        self.experience = deque(maxlen=100000)\n",
        "        \n",
        "        self.model = tf.keras.Sequential()\n",
        "        self.model.add(tf.keras.layers.Input(shape = (self.nS,)))\n",
        "        for size in sizes:\n",
        "            self.model.add(tf.keras.layers.Dense(size, activation='relu'))\n",
        "        self.model.add(tf.keras.layers.Dense(self.nA, activation='linear'))\n",
        "\n",
        "        self.callbacks = [\n",
        "#         tf.keras.callbacks.TensorBoard(log_dir=f'/DQN_logs/run_{run}'), \n",
        "#              tf.keras.callbacks.ModelCheckpoint(filepath='DQN_check_point/model.{epoch:02d}.h5'),\n",
        "             tf.keras.callbacks.EarlyStopping(monitor='loss', min_delta=1e-5, patience=3)]\n",
        "        self.model.compile(loss=tf.keras.losses.mean_squared_error, optimizer='Adam')\n",
        "    \n",
        "    \n",
        "    def choose_action(self, Q_value):\n",
        "        # epsilon greedy method\n",
        "        if np.random.uniform() < self.epsilon:\n",
        "            return self.env.action_space.sample()\n",
        "        else:\n",
        "            return np.argmax(Q_value)\n",
        "    \n",
        "    def evaluate(self):\n",
        "        end = False\n",
        "        state = self.env.reset()\n",
        "        total_reward = 0\n",
        "        while not end:\n",
        "            Q_values = self.model.predict(state.reshape(1, self.nS))[0]\n",
        "            action = np.argmax(Q_values)\n",
        "            state, reward, end, _ = self.env.step(action)\n",
        "            total_reward += reward\n",
        "        return total_reward\n",
        "    \n",
        "    def simulation(self):\n",
        "        state = self.env.reset()\n",
        "        end = False\n",
        "        \n",
        "        while not end:\n",
        "            Q_values = self.model.predict(state.reshape(1, self.nS))[0]\n",
        "            action = self.choose_action(Q_values)\n",
        "            next_state, reward, end, _ = self.env.step(action)\n",
        "            self.experience.append((state, action, reward, next_state, end))\n",
        "            state = next_state\n",
        "            \n",
        "        \n",
        "    def train(self, max_epoch=1000):\n",
        "        scores = []\n",
        "        \n",
        "        for epoch in range(max_epoch):\n",
        "            self.simulation()\n",
        "\n",
        "            # train by using experience replay\n",
        "            X = []\n",
        "            y_true = []\n",
        "            records = random.sample(self.experience, min(self.batch_size, len(self.experience)))\n",
        "            for state, action, reward, next_state, end in records:\n",
        "                Q_values = self.model.predict(state.reshape(1, self.nS))[0]\n",
        "                next_Q_values = self.model.predict(next_state.reshape(1, self.nS))[0]\n",
        "                Q_values[action] = reward + (1 - end) * self.gamma * next_Q_values.max()\n",
        "                X.append(state)\n",
        "                y_true.append(Q_values)\n",
        "            self.model.fit(np.vstack(X), np.vstack(y_true), callbacks = self.callbacks, epochs=10, verbose=0)\n",
        "            \n",
        "            score = self.evaluate()\n",
        "            scores.append(score)\n",
        "            clear_output(True)\n",
        "            plt.plot(scores)\n",
        "            plt.show()\n",
        "            \n",
        "            print(f'epoch {epoch} with score {score}')\n",
        "            latest = np.mean([scores[-10:]])\n",
        "            if latest > 150:\n",
        "                print(f'epoch {epoch} solved the problem with average score {latest}')\n",
        "                break\n",
        "            \n",
        "        self.epsilon = min(self.epsilon * 0.95, 0.01)"
      ],
      "execution_count": 17,
      "outputs": []
    },
    {
      "cell_type": "code",
      "metadata": {
        "id": "AmZ7uUmL6nYB",
        "colab_type": "code",
        "colab": {
          "base_uri": "https://localhost:8080/",
          "height": 299
        },
        "outputId": "d5c5971b-2385-402a-ad4f-069dbc6891e2"
      },
      "source": [
        "model = DQN([24, 16, 8])\n",
        "model.train()"
      ],
      "execution_count": 19,
      "outputs": [
        {
          "output_type": "display_data",
          "data": {
            "image/png": "[encoded data removed]",
            "text/plain": [
              "<Figure size 432x288 with 1 Axes>"
            ]
          },
          "metadata": {
            "tags": [],
            "needs_background": "light"
          }
        },
        {
          "output_type": "stream",
          "text": [
            "epoch 66 with score 195.0\n",
            "epoch 66 solved the problem with average score 154.8\n"
          ],
          "name": "stdout"
        }
      ]
    },
    {
      "cell_type": "code",
      "metadata": {
        "id": "bxqjrhzXcCVh",
        "colab_type": "code",
        "colab": {}
      },
      "source": [
        ""
      ],
      "execution_count": null,
      "outputs": []
    }
  ]
}
